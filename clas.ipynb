{
 "cells": [
  {
   "cell_type": "code",
   "execution_count": 15,
   "id": "dea52a57",
   "metadata": {},
   "outputs": [
    {
     "name": "stderr",
     "output_type": "stream",
     "text": [
      "<>:466: SyntaxWarning: invalid escape sequence '\\d'\n",
      "<>:466: SyntaxWarning: invalid escape sequence '\\d'\n",
      "C:\\Users\\josem\\AppData\\Local\\Temp\\ipykernel_16280\\44113723.py:466: SyntaxWarning: invalid escape sequence '\\d'\n",
      "  cv2.imwrite(os.path.join('cuarto_modelo\\derecho_mayor_15_mal', nombre_salida), orig)\n",
      "Using cache found in C:\\Users\\josem/.cache\\torch\\hub\\ultralytics_yolov5_master\n",
      "YOLOv5  2025-7-19 Python-3.12.3 torch-2.7.1+cpu CPU\n",
      "\n",
      "Fusing layers... \n",
      "Model summary: 157 layers, 7015519 parameters, 0 gradients, 15.8 GFLOPs\n",
      "Adding AutoShape... \n",
      "C:\\Users\\josem/.cache\\torch\\hub\\ultralytics_yolov5_master\\models\\common.py:906: FutureWarning: `torch.cuda.amp.autocast(args...)` is deprecated. Please use `torch.amp.autocast('cuda', args...)` instead.\n",
      "  with amp.autocast(autocast):\n"
     ]
    },
    {
     "name": "stdout",
     "output_type": "stream",
     "text": [
      "[ALARCON CALLUMAN CRISTIAN  (1)_1.jpg] Ángulo canino izquierdo: 24.41°\n",
      "[ALARCON CALLUMAN CRISTIAN  (1)_1.jpg] EXISTE RIESGO\n"
     ]
    },
    {
     "name": "stderr",
     "output_type": "stream",
     "text": [
      "C:\\Users\\josem/.cache\\torch\\hub\\ultralytics_yolov5_master\\models\\common.py:906: FutureWarning: `torch.cuda.amp.autocast(args...)` is deprecated. Please use `torch.amp.autocast('cuda', args...)` instead.\n",
      "  with amp.autocast(autocast):\n"
     ]
    },
    {
     "name": "stdout",
     "output_type": "stream",
     "text": [
      "[ALARCON DE LA FUENTE MARTIN 02-06-09  (2) (1).jpg] Ángulo canino izquierdo: 21.14°\n",
      "[ALARCON DE LA FUENTE MARTIN 02-06-09  (2) (1).jpg] EXISTE RIESGO\n"
     ]
    },
    {
     "name": "stderr",
     "output_type": "stream",
     "text": [
      "C:\\Users\\josem/.cache\\torch\\hub\\ultralytics_yolov5_master\\models\\common.py:906: FutureWarning: `torch.cuda.amp.autocast(args...)` is deprecated. Please use `torch.amp.autocast('cuda', args...)` instead.\n",
      "  with amp.autocast(autocast):\n"
     ]
    },
    {
     "name": "stdout",
     "output_type": "stream",
     "text": [
      "[ARIAS REYES LAURA  (2).jpg] Ángulo canino izquierdo: 18.53°\n",
      "[ARIAS REYES LAURA  (2).jpg] EXISTE RIESGO\n"
     ]
    },
    {
     "name": "stderr",
     "output_type": "stream",
     "text": [
      "C:\\Users\\josem/.cache\\torch\\hub\\ultralytics_yolov5_master\\models\\common.py:906: FutureWarning: `torch.cuda.amp.autocast(args...)` is deprecated. Please use `torch.amp.autocast('cuda', args...)` instead.\n",
      "  with amp.autocast(autocast):\n"
     ]
    },
    {
     "name": "stdout",
     "output_type": "stream",
     "text": [
      "[ARIAS REYES LAURA (2).jpg] Ángulo canino izquierdo: 15.58°\n",
      "[ARIAS REYES LAURA (2).jpg] EXISTE RIESGO\n"
     ]
    },
    {
     "name": "stderr",
     "output_type": "stream",
     "text": [
      "C:\\Users\\josem/.cache\\torch\\hub\\ultralytics_yolov5_master\\models\\common.py:906: FutureWarning: `torch.cuda.amp.autocast(args...)` is deprecated. Please use `torch.amp.autocast('cuda', args...)` instead.\n",
      "  with amp.autocast(autocast):\n"
     ]
    },
    {
     "name": "stdout",
     "output_type": "stream",
     "text": [
      "[BELLO BENAVIDES  CHRISTOPHER.jpg] Ángulo canino izquierdo: 12.17°\n",
      "[BELLO BENAVIDES  CHRISTOPHER.jpg] NO EXISTE RIESGO\n"
     ]
    },
    {
     "name": "stderr",
     "output_type": "stream",
     "text": [
      "C:\\Users\\josem/.cache\\torch\\hub\\ultralytics_yolov5_master\\models\\common.py:906: FutureWarning: `torch.cuda.amp.autocast(args...)` is deprecated. Please use `torch.amp.autocast('cuda', args...)` instead.\n",
      "  with amp.autocast(autocast):\n"
     ]
    },
    {
     "name": "stdout",
     "output_type": "stream",
     "text": [
      "[BELTRAN MILA SOFIA  (1)_1.jpg] Ángulo canino izquierdo: 11.22°\n",
      "[BELTRAN MILA SOFIA  (1)_1.jpg] NO EXISTE RIESGO\n"
     ]
    },
    {
     "name": "stderr",
     "output_type": "stream",
     "text": [
      "C:\\Users\\josem/.cache\\torch\\hub\\ultralytics_yolov5_master\\models\\common.py:906: FutureWarning: `torch.cuda.amp.autocast(args...)` is deprecated. Please use `torch.amp.autocast('cuda', args...)` instead.\n",
      "  with amp.autocast(autocast):\n"
     ]
    },
    {
     "name": "stdout",
     "output_type": "stream",
     "text": [
      "[BRIONES BRAVO PASCAL  (2)_1.jpg] Ángulo canino izquierdo: 6.55°\n",
      "[BRIONES BRAVO PASCAL  (2)_1.jpg] NO EXISTE RIESGO\n"
     ]
    },
    {
     "name": "stderr",
     "output_type": "stream",
     "text": [
      "C:\\Users\\josem/.cache\\torch\\hub\\ultralytics_yolov5_master\\models\\common.py:906: FutureWarning: `torch.cuda.amp.autocast(args...)` is deprecated. Please use `torch.amp.autocast('cuda', args...)` instead.\n",
      "  with amp.autocast(autocast):\n"
     ]
    },
    {
     "name": "stdout",
     "output_type": "stream",
     "text": [
      "[BUCHI VILLEGAS ELENA (2)_1.jpg] Ángulo canino izquierdo: 12.25°\n",
      "[BUCHI VILLEGAS ELENA (2)_1.jpg] NO EXISTE RIESGO\n"
     ]
    },
    {
     "name": "stderr",
     "output_type": "stream",
     "text": [
      "C:\\Users\\josem/.cache\\torch\\hub\\ultralytics_yolov5_master\\models\\common.py:906: FutureWarning: `torch.cuda.amp.autocast(args...)` is deprecated. Please use `torch.amp.autocast('cuda', args...)` instead.\n",
      "  with amp.autocast(autocast):\n"
     ]
    },
    {
     "name": "stdout",
     "output_type": "stream",
     "text": [
      "[CABRERA GUERRERO AMANDA_1.jpg] Ángulo canino izquierdo: 17.88°\n",
      "[CABRERA GUERRERO AMANDA_1.jpg] EXISTE RIESGO\n"
     ]
    },
    {
     "name": "stderr",
     "output_type": "stream",
     "text": [
      "C:\\Users\\josem/.cache\\torch\\hub\\ultralytics_yolov5_master\\models\\common.py:906: FutureWarning: `torch.cuda.amp.autocast(args...)` is deprecated. Please use `torch.amp.autocast('cuda', args...)` instead.\n",
      "  with amp.autocast(autocast):\n"
     ]
    },
    {
     "name": "stdout",
     "output_type": "stream",
     "text": [
      "[CABRERA GUERRERO JOSEFINA_1.jpg] Ángulo canino izquierdo: 15.71°\n",
      "[CABRERA GUERRERO JOSEFINA_1.jpg] EXISTE RIESGO\n"
     ]
    },
    {
     "name": "stderr",
     "output_type": "stream",
     "text": [
      "C:\\Users\\josem/.cache\\torch\\hub\\ultralytics_yolov5_master\\models\\common.py:906: FutureWarning: `torch.cuda.amp.autocast(args...)` is deprecated. Please use `torch.amp.autocast('cuda', args...)` instead.\n",
      "  with amp.autocast(autocast):\n"
     ]
    },
    {
     "name": "stdout",
     "output_type": "stream",
     "text": [
      "[CABRERA GUERRERO JOSEFINA_3.jpg] Ángulo canino izquierdo: 22.3°\n",
      "[CABRERA GUERRERO JOSEFINA_3.jpg] EXISTE RIESGO\n"
     ]
    },
    {
     "name": "stderr",
     "output_type": "stream",
     "text": [
      "C:\\Users\\josem/.cache\\torch\\hub\\ultralytics_yolov5_master\\models\\common.py:906: FutureWarning: `torch.cuda.amp.autocast(args...)` is deprecated. Please use `torch.amp.autocast('cuda', args...)` instead.\n",
      "  with amp.autocast(autocast):\n"
     ]
    },
    {
     "name": "stdout",
     "output_type": "stream",
     "text": [
      "[CALFIO VILLAGRAN JUAN PABLO (2).jpg] Ángulo canino izquierdo: 16.08°\n",
      "[CALFIO VILLAGRAN JUAN PABLO (2).jpg] EXISTE RIESGO\n"
     ]
    },
    {
     "name": "stderr",
     "output_type": "stream",
     "text": [
      "C:\\Users\\josem/.cache\\torch\\hub\\ultralytics_yolov5_master\\models\\common.py:906: FutureWarning: `torch.cuda.amp.autocast(args...)` is deprecated. Please use `torch.amp.autocast('cuda', args...)` instead.\n",
      "  with amp.autocast(autocast):\n"
     ]
    },
    {
     "name": "stdout",
     "output_type": "stream",
     "text": [
      "[CANIO REYES ANTONIA_1.jpg] Ángulo canino izquierdo: 14.2°\n",
      "[CANIO REYES ANTONIA_1.jpg] NO EXISTE RIESGO\n"
     ]
    },
    {
     "name": "stderr",
     "output_type": "stream",
     "text": [
      "C:\\Users\\josem/.cache\\torch\\hub\\ultralytics_yolov5_master\\models\\common.py:906: FutureWarning: `torch.cuda.amp.autocast(args...)` is deprecated. Please use `torch.amp.autocast('cuda', args...)` instead.\n",
      "  with amp.autocast(autocast):\n"
     ]
    },
    {
     "name": "stdout",
     "output_type": "stream",
     "text": [
      "[CAYUL BLANCO ALEX24-11-10 (2).jpg] Ángulo canino izquierdo: 9.36°\n",
      "[CAYUL BLANCO ALEX24-11-10 (2).jpg] NO EXISTE RIESGO\n"
     ]
    },
    {
     "name": "stderr",
     "output_type": "stream",
     "text": [
      "C:\\Users\\josem/.cache\\torch\\hub\\ultralytics_yolov5_master\\models\\common.py:906: FutureWarning: `torch.cuda.amp.autocast(args...)` is deprecated. Please use `torch.amp.autocast('cuda', args...)` instead.\n",
      "  with amp.autocast(autocast):\n"
     ]
    },
    {
     "name": "stdout",
     "output_type": "stream",
     "text": [
      "[CHUÑIL SAN MARTIN TRINIDAD 12-02-11 (1).jpg] Ángulo canino izquierdo: 22.53°\n",
      "[CHUÑIL SAN MARTIN TRINIDAD 12-02-11 (1).jpg] EXISTE RIESGO\n"
     ]
    },
    {
     "name": "stderr",
     "output_type": "stream",
     "text": [
      "C:\\Users\\josem/.cache\\torch\\hub\\ultralytics_yolov5_master\\models\\common.py:906: FutureWarning: `torch.cuda.amp.autocast(args...)` is deprecated. Please use `torch.amp.autocast('cuda', args...)` instead.\n",
      "  with amp.autocast(autocast):\n"
     ]
    },
    {
     "name": "stdout",
     "output_type": "stream",
     "text": [
      "[DE LA FUENTE CADIZ MARIA PAZ.jpg] Ángulo canino izquierdo: 21.26°\n",
      "[DE LA FUENTE CADIZ MARIA PAZ.jpg] EXISTE RIESGO\n"
     ]
    },
    {
     "name": "stderr",
     "output_type": "stream",
     "text": [
      "C:\\Users\\josem/.cache\\torch\\hub\\ultralytics_yolov5_master\\models\\common.py:906: FutureWarning: `torch.cuda.amp.autocast(args...)` is deprecated. Please use `torch.amp.autocast('cuda', args...)` instead.\n",
      "  with amp.autocast(autocast):\n"
     ]
    },
    {
     "name": "stdout",
     "output_type": "stream",
     "text": [
      "[DE LA FUENTE CADIZ MARIA PAZ_1.jpg] Ángulo canino izquierdo: 21.26°\n",
      "[DE LA FUENTE CADIZ MARIA PAZ_1.jpg] EXISTE RIESGO\n"
     ]
    },
    {
     "name": "stderr",
     "output_type": "stream",
     "text": [
      "C:\\Users\\josem/.cache\\torch\\hub\\ultralytics_yolov5_master\\models\\common.py:906: FutureWarning: `torch.cuda.amp.autocast(args...)` is deprecated. Please use `torch.amp.autocast('cuda', args...)` instead.\n",
      "  with amp.autocast(autocast):\n"
     ]
    },
    {
     "name": "stdout",
     "output_type": "stream",
     "text": [
      "[DE LA FUENTE CADIZ MARIA PAZ_2.jpg] Ángulo canino izquierdo: 13.28°\n",
      "[DE LA FUENTE CADIZ MARIA PAZ_2.jpg] NO EXISTE RIESGO\n"
     ]
    },
    {
     "name": "stderr",
     "output_type": "stream",
     "text": [
      "C:\\Users\\josem/.cache\\torch\\hub\\ultralytics_yolov5_master\\models\\common.py:906: FutureWarning: `torch.cuda.amp.autocast(args...)` is deprecated. Please use `torch.amp.autocast('cuda', args...)` instead.\n",
      "  with amp.autocast(autocast):\n"
     ]
    },
    {
     "name": "stdout",
     "output_type": "stream",
     "text": [
      "[DE LA FUENTE MILLANAO MAXIMILIANO  (2)_1.jpg] Ángulo canino izquierdo: 9.23°\n",
      "[DE LA FUENTE MILLANAO MAXIMILIANO  (2)_1.jpg] NO EXISTE RIESGO\n"
     ]
    },
    {
     "name": "stderr",
     "output_type": "stream",
     "text": [
      "C:\\Users\\josem/.cache\\torch\\hub\\ultralytics_yolov5_master\\models\\common.py:906: FutureWarning: `torch.cuda.amp.autocast(args...)` is deprecated. Please use `torch.amp.autocast('cuda', args...)` instead.\n",
      "  with amp.autocast(autocast):\n"
     ]
    },
    {
     "name": "stdout",
     "output_type": "stream",
     "text": [
      "[EPULEF ZAGAL TRINIDAD 25-06-2010 (1).jpg] Ángulo canino izquierdo: 15.0°\n",
      "[EPULEF ZAGAL TRINIDAD 25-06-2010 (1).jpg] EXISTE RIESGO\n"
     ]
    },
    {
     "name": "stderr",
     "output_type": "stream",
     "text": [
      "C:\\Users\\josem/.cache\\torch\\hub\\ultralytics_yolov5_master\\models\\common.py:906: FutureWarning: `torch.cuda.amp.autocast(args...)` is deprecated. Please use `torch.amp.autocast('cuda', args...)` instead.\n",
      "  with amp.autocast(autocast):\n"
     ]
    },
    {
     "name": "stdout",
     "output_type": "stream",
     "text": [
      "[ESPAÑA MARILAO MELANIE  (1)_2.jpg] Ángulo canino izquierdo: 19.73°\n",
      "[ESPAÑA MARILAO MELANIE  (1)_2.jpg] EXISTE RIESGO\n"
     ]
    },
    {
     "name": "stderr",
     "output_type": "stream",
     "text": [
      "C:\\Users\\josem/.cache\\torch\\hub\\ultralytics_yolov5_master\\models\\common.py:906: FutureWarning: `torch.cuda.amp.autocast(args...)` is deprecated. Please use `torch.amp.autocast('cuda', args...)` instead.\n",
      "  with amp.autocast(autocast):\n"
     ]
    },
    {
     "name": "stdout",
     "output_type": "stream",
     "text": [
      "[ESPINOZA VILLA EMILY.jpg] Ángulo canino izquierdo: 19.17°\n",
      "[ESPINOZA VILLA EMILY.jpg] EXISTE RIESGO\n"
     ]
    },
    {
     "name": "stderr",
     "output_type": "stream",
     "text": [
      "C:\\Users\\josem/.cache\\torch\\hub\\ultralytics_yolov5_master\\models\\common.py:906: FutureWarning: `torch.cuda.amp.autocast(args...)` is deprecated. Please use `torch.amp.autocast('cuda', args...)` instead.\n",
      "  with amp.autocast(autocast):\n"
     ]
    },
    {
     "name": "stdout",
     "output_type": "stream",
     "text": [
      "[FERNANDEZ MALIQUEO PALOMA  (2)_1.jpg] Ángulo canino izquierdo: 23.37°\n",
      "[FERNANDEZ MALIQUEO PALOMA  (2)_1.jpg] EXISTE RIESGO\n"
     ]
    },
    {
     "name": "stderr",
     "output_type": "stream",
     "text": [
      "C:\\Users\\josem/.cache\\torch\\hub\\ultralytics_yolov5_master\\models\\common.py:906: FutureWarning: `torch.cuda.amp.autocast(args...)` is deprecated. Please use `torch.amp.autocast('cuda', args...)` instead.\n",
      "  with amp.autocast(autocast):\n"
     ]
    },
    {
     "name": "stdout",
     "output_type": "stream",
     "text": [
      "[FERNANDEZ SAN MARTIN DEMIAN 28-12-10 (1).jpg] Ángulo canino izquierdo: 14.25°\n",
      "[FERNANDEZ SAN MARTIN DEMIAN 28-12-10 (1).jpg] NO EXISTE RIESGO\n"
     ]
    },
    {
     "name": "stderr",
     "output_type": "stream",
     "text": [
      "C:\\Users\\josem/.cache\\torch\\hub\\ultralytics_yolov5_master\\models\\common.py:906: FutureWarning: `torch.cuda.amp.autocast(args...)` is deprecated. Please use `torch.amp.autocast('cuda', args...)` instead.\n",
      "  with amp.autocast(autocast):\n"
     ]
    },
    {
     "name": "stdout",
     "output_type": "stream",
     "text": [
      "[FERNANDEZ VENEGAS CRISTIAN  (1)_1.jpg] Ángulo canino izquierdo: 23.44°\n",
      "[FERNANDEZ VENEGAS CRISTIAN  (1)_1.jpg] EXISTE RIESGO\n"
     ]
    },
    {
     "name": "stderr",
     "output_type": "stream",
     "text": [
      "C:\\Users\\josem/.cache\\torch\\hub\\ultralytics_yolov5_master\\models\\common.py:906: FutureWarning: `torch.cuda.amp.autocast(args...)` is deprecated. Please use `torch.amp.autocast('cuda', args...)` instead.\n",
      "  with amp.autocast(autocast):\n"
     ]
    },
    {
     "name": "stdout",
     "output_type": "stream",
     "text": [
      "[GARRIDO SANHUEZA PAZ  (2).jpg] Ángulo canino izquierdo: 13.19°\n",
      "[GARRIDO SANHUEZA PAZ  (2).jpg] NO EXISTE RIESGO\n"
     ]
    },
    {
     "name": "stderr",
     "output_type": "stream",
     "text": [
      "C:\\Users\\josem/.cache\\torch\\hub\\ultralytics_yolov5_master\\models\\common.py:906: FutureWarning: `torch.cuda.amp.autocast(args...)` is deprecated. Please use `torch.amp.autocast('cuda', args...)` instead.\n",
      "  with amp.autocast(autocast):\n"
     ]
    },
    {
     "name": "stdout",
     "output_type": "stream",
     "text": [
      "[GONZALEZ ABARZUA VALENTINA_1.jpg] Ángulo canino izquierdo: 15.58°\n",
      "[GONZALEZ ABARZUA VALENTINA_1.jpg] EXISTE RIESGO\n"
     ]
    },
    {
     "name": "stderr",
     "output_type": "stream",
     "text": [
      "C:\\Users\\josem/.cache\\torch\\hub\\ultralytics_yolov5_master\\models\\common.py:906: FutureWarning: `torch.cuda.amp.autocast(args...)` is deprecated. Please use `torch.amp.autocast('cuda', args...)` instead.\n",
      "  with amp.autocast(autocast):\n"
     ]
    },
    {
     "name": "stdout",
     "output_type": "stream",
     "text": [
      "[GUTIERREZ CASTRO VICENTE  (2)_1.jpg] Ángulo canino izquierdo: 7.48°\n",
      "[GUTIERREZ CASTRO VICENTE  (2)_1.jpg] NO EXISTE RIESGO\n"
     ]
    },
    {
     "name": "stderr",
     "output_type": "stream",
     "text": [
      "C:\\Users\\josem/.cache\\torch\\hub\\ultralytics_yolov5_master\\models\\common.py:906: FutureWarning: `torch.cuda.amp.autocast(args...)` is deprecated. Please use `torch.amp.autocast('cuda', args...)` instead.\n",
      "  with amp.autocast(autocast):\n"
     ]
    },
    {
     "name": "stdout",
     "output_type": "stream",
     "text": [
      "[HERRERA VALLADARES KATALINA 28-09-10 (2).jpg] Ángulo canino izquierdo: 15.42°\n",
      "[HERRERA VALLADARES KATALINA 28-09-10 (2).jpg] EXISTE RIESGO\n"
     ]
    },
    {
     "name": "stderr",
     "output_type": "stream",
     "text": [
      "C:\\Users\\josem/.cache\\torch\\hub\\ultralytics_yolov5_master\\models\\common.py:906: FutureWarning: `torch.cuda.amp.autocast(args...)` is deprecated. Please use `torch.amp.autocast('cuda', args...)` instead.\n",
      "  with amp.autocast(autocast):\n"
     ]
    },
    {
     "name": "stdout",
     "output_type": "stream",
     "text": [
      "[HUENTEMIL ALLILEF KALFU.jpg] Ángulo canino izquierdo: 2.1°\n",
      "[HUENTEMIL ALLILEF KALFU.jpg] NO EXISTE RIESGO\n"
     ]
    },
    {
     "name": "stderr",
     "output_type": "stream",
     "text": [
      "C:\\Users\\josem/.cache\\torch\\hub\\ultralytics_yolov5_master\\models\\common.py:906: FutureWarning: `torch.cuda.amp.autocast(args...)` is deprecated. Please use `torch.amp.autocast('cuda', args...)` instead.\n",
      "  with amp.autocast(autocast):\n"
     ]
    },
    {
     "name": "stdout",
     "output_type": "stream",
     "text": [
      "[HUENTEMIL MORENO CONSTANZA (1).jpg] Ángulo canino izquierdo: 31.65°\n",
      "[HUENTEMIL MORENO CONSTANZA (1).jpg] EXISTE RIESGO\n",
      "[INOSTROZA ANDRADE FERNANDO  (1)_1.jpg] NO EXISTE RIESGO\n"
     ]
    },
    {
     "name": "stderr",
     "output_type": "stream",
     "text": [
      "C:\\Users\\josem/.cache\\torch\\hub\\ultralytics_yolov5_master\\models\\common.py:906: FutureWarning: `torch.cuda.amp.autocast(args...)` is deprecated. Please use `torch.amp.autocast('cuda', args...)` instead.\n",
      "  with amp.autocast(autocast):\n",
      "C:\\Users\\josem/.cache\\torch\\hub\\ultralytics_yolov5_master\\models\\common.py:906: FutureWarning: `torch.cuda.amp.autocast(args...)` is deprecated. Please use `torch.amp.autocast('cuda', args...)` instead.\n",
      "  with amp.autocast(autocast):\n"
     ]
    },
    {
     "name": "stdout",
     "output_type": "stream",
     "text": [
      "[KIEKEBUCH SALDIAS ISABELLA  (2)_1.jpg] Ángulo canino izquierdo: 2.01°\n",
      "[KIEKEBUCH SALDIAS ISABELLA  (2)_1.jpg] NO EXISTE RIESGO\n"
     ]
    },
    {
     "name": "stderr",
     "output_type": "stream",
     "text": [
      "C:\\Users\\josem/.cache\\torch\\hub\\ultralytics_yolov5_master\\models\\common.py:906: FutureWarning: `torch.cuda.amp.autocast(args...)` is deprecated. Please use `torch.amp.autocast('cuda', args...)` instead.\n",
      "  with amp.autocast(autocast):\n"
     ]
    },
    {
     "name": "stdout",
     "output_type": "stream",
     "text": [
      "[LEAL LAGOS EMILY.jpg] Ángulo canino izquierdo: 15.42°\n",
      "[LEAL LAGOS EMILY.jpg] EXISTE RIESGO\n"
     ]
    },
    {
     "name": "stderr",
     "output_type": "stream",
     "text": [
      "C:\\Users\\josem/.cache\\torch\\hub\\ultralytics_yolov5_master\\models\\common.py:906: FutureWarning: `torch.cuda.amp.autocast(args...)` is deprecated. Please use `torch.amp.autocast('cuda', args...)` instead.\n",
      "  with amp.autocast(autocast):\n"
     ]
    },
    {
     "name": "stdout",
     "output_type": "stream",
     "text": [
      "[LLANO AGUILERA LILIAN 16-12-09 (1).jpg] Ángulo canino izquierdo: 17.64°\n",
      "[LLANO AGUILERA LILIAN 16-12-09 (1).jpg] EXISTE RIESGO\n",
      "[LLAUPE LLONCON TAMARA 2.jpg] NO EXISTE RIESGO\n"
     ]
    },
    {
     "name": "stderr",
     "output_type": "stream",
     "text": [
      "C:\\Users\\josem/.cache\\torch\\hub\\ultralytics_yolov5_master\\models\\common.py:906: FutureWarning: `torch.cuda.amp.autocast(args...)` is deprecated. Please use `torch.amp.autocast('cuda', args...)` instead.\n",
      "  with amp.autocast(autocast):\n",
      "C:\\Users\\josem/.cache\\torch\\hub\\ultralytics_yolov5_master\\models\\common.py:906: FutureWarning: `torch.cuda.amp.autocast(args...)` is deprecated. Please use `torch.amp.autocast('cuda', args...)` instead.\n",
      "  with amp.autocast(autocast):\n"
     ]
    },
    {
     "name": "stdout",
     "output_type": "stream",
     "text": [
      "[MANDUJANO MORAN RAFAELA.jpg] Ángulo canino izquierdo: 20.48°\n",
      "[MANDUJANO MORAN RAFAELA.jpg] EXISTE RIESGO\n"
     ]
    },
    {
     "name": "stderr",
     "output_type": "stream",
     "text": [
      "C:\\Users\\josem/.cache\\torch\\hub\\ultralytics_yolov5_master\\models\\common.py:906: FutureWarning: `torch.cuda.amp.autocast(args...)` is deprecated. Please use `torch.amp.autocast('cuda', args...)` instead.\n",
      "  with amp.autocast(autocast):\n"
     ]
    },
    {
     "name": "stdout",
     "output_type": "stream",
     "text": [
      "[MEDINA SANDOVAL ALONSO (2).jpg] Ángulo canino izquierdo: 18.25°\n",
      "[MEDINA SANDOVAL ALONSO (2).jpg] EXISTE RIESGO\n"
     ]
    },
    {
     "name": "stderr",
     "output_type": "stream",
     "text": [
      "C:\\Users\\josem/.cache\\torch\\hub\\ultralytics_yolov5_master\\models\\common.py:906: FutureWarning: `torch.cuda.amp.autocast(args...)` is deprecated. Please use `torch.amp.autocast('cuda', args...)` instead.\n",
      "  with amp.autocast(autocast):\n"
     ]
    },
    {
     "name": "stdout",
     "output_type": "stream",
     "text": [
      "[MEZA GARCIA AMALIA.jpg] Ángulo canino izquierdo: 13.66°\n",
      "[MEZA GARCIA AMALIA.jpg] NO EXISTE RIESGO\n"
     ]
    },
    {
     "name": "stderr",
     "output_type": "stream",
     "text": [
      "C:\\Users\\josem/.cache\\torch\\hub\\ultralytics_yolov5_master\\models\\common.py:906: FutureWarning: `torch.cuda.amp.autocast(args...)` is deprecated. Please use `torch.amp.autocast('cuda', args...)` instead.\n",
      "  with amp.autocast(autocast):\n"
     ]
    },
    {
     "name": "stdout",
     "output_type": "stream",
     "text": [
      "[MEZA GARCIA AMALIA_3.jpg] Ángulo canino izquierdo: 14.33°\n",
      "[MEZA GARCIA AMALIA_3.jpg] NO EXISTE RIESGO\n"
     ]
    },
    {
     "name": "stderr",
     "output_type": "stream",
     "text": [
      "C:\\Users\\josem/.cache\\torch\\hub\\ultralytics_yolov5_master\\models\\common.py:906: FutureWarning: `torch.cuda.amp.autocast(args...)` is deprecated. Please use `torch.amp.autocast('cuda', args...)` instead.\n",
      "  with amp.autocast(autocast):\n"
     ]
    },
    {
     "name": "stdout",
     "output_type": "stream",
     "text": [
      "[MILLACOY MELIÑIR MATIAS  (1).jpg] Ángulo canino izquierdo: 10.71°\n",
      "[MILLACOY MELIÑIR MATIAS  (1).jpg] NO EXISTE RIESGO\n"
     ]
    },
    {
     "name": "stderr",
     "output_type": "stream",
     "text": [
      "C:\\Users\\josem/.cache\\torch\\hub\\ultralytics_yolov5_master\\models\\common.py:906: FutureWarning: `torch.cuda.amp.autocast(args...)` is deprecated. Please use `torch.amp.autocast('cuda', args...)` instead.\n",
      "  with amp.autocast(autocast):\n"
     ]
    },
    {
     "name": "stdout",
     "output_type": "stream",
     "text": [
      "[MUÑOZ MADRID ISIDORA_1.jpg] Ángulo canino izquierdo: 13.83°\n",
      "[MUÑOZ MADRID ISIDORA_1.jpg] NO EXISTE RIESGO\n"
     ]
    },
    {
     "name": "stderr",
     "output_type": "stream",
     "text": [
      "C:\\Users\\josem/.cache\\torch\\hub\\ultralytics_yolov5_master\\models\\common.py:906: FutureWarning: `torch.cuda.amp.autocast(args...)` is deprecated. Please use `torch.amp.autocast('cuda', args...)` instead.\n",
      "  with amp.autocast(autocast):\n"
     ]
    },
    {
     "name": "stdout",
     "output_type": "stream",
     "text": [
      "[NAHUEL GUERRERO CATALINA 28-05-11 (1).jpg] Ángulo canino izquierdo: 16.04°\n",
      "[NAHUEL GUERRERO CATALINA 28-05-11 (1).jpg] EXISTE RIESGO\n"
     ]
    },
    {
     "name": "stderr",
     "output_type": "stream",
     "text": [
      "C:\\Users\\josem/.cache\\torch\\hub\\ultralytics_yolov5_master\\models\\common.py:906: FutureWarning: `torch.cuda.amp.autocast(args...)` is deprecated. Please use `torch.amp.autocast('cuda', args...)` instead.\n",
      "  with amp.autocast(autocast):\n"
     ]
    },
    {
     "name": "stdout",
     "output_type": "stream",
     "text": [
      "[NAVARRETE NECULÑIR MATIAS 10-09-07.jpg] Ángulo canino izquierdo: 15.5°\n",
      "[NAVARRETE NECULÑIR MATIAS 10-09-07.jpg] EXISTE RIESGO\n"
     ]
    },
    {
     "name": "stderr",
     "output_type": "stream",
     "text": [
      "C:\\Users\\josem/.cache\\torch\\hub\\ultralytics_yolov5_master\\models\\common.py:906: FutureWarning: `torch.cuda.amp.autocast(args...)` is deprecated. Please use `torch.amp.autocast('cuda', args...)` instead.\n",
      "  with amp.autocast(autocast):\n"
     ]
    },
    {
     "name": "stdout",
     "output_type": "stream",
     "text": [
      "[ORTIZ DUATH MAXIMILIANO (2).jpg] Ángulo canino izquierdo: 9.49°\n",
      "[ORTIZ DUATH MAXIMILIANO (2).jpg] NO EXISTE RIESGO\n"
     ]
    },
    {
     "name": "stderr",
     "output_type": "stream",
     "text": [
      "C:\\Users\\josem/.cache\\torch\\hub\\ultralytics_yolov5_master\\models\\common.py:906: FutureWarning: `torch.cuda.amp.autocast(args...)` is deprecated. Please use `torch.amp.autocast('cuda', args...)` instead.\n",
      "  with amp.autocast(autocast):\n"
     ]
    },
    {
     "name": "stdout",
     "output_type": "stream",
     "text": [
      "[PAILLAL CHEHUAN ALEN 12-09-11 (2).jpg] Ángulo canino izquierdo: 13.74°\n",
      "[PAILLAL CHEHUAN ALEN 12-09-11 (2).jpg] NO EXISTE RIESGO\n"
     ]
    },
    {
     "name": "stderr",
     "output_type": "stream",
     "text": [
      "C:\\Users\\josem/.cache\\torch\\hub\\ultralytics_yolov5_master\\models\\common.py:906: FutureWarning: `torch.cuda.amp.autocast(args...)` is deprecated. Please use `torch.amp.autocast('cuda', args...)` instead.\n",
      "  with amp.autocast(autocast):\n"
     ]
    },
    {
     "name": "stdout",
     "output_type": "stream",
     "text": [
      "[PAILLAL CHEHUAN ALEN.jpg] Ángulo canino izquierdo: 10.23°\n",
      "[PAILLAL CHEHUAN ALEN.jpg] NO EXISTE RIESGO\n"
     ]
    },
    {
     "name": "stderr",
     "output_type": "stream",
     "text": [
      "C:\\Users\\josem/.cache\\torch\\hub\\ultralytics_yolov5_master\\models\\common.py:906: FutureWarning: `torch.cuda.amp.autocast(args...)` is deprecated. Please use `torch.amp.autocast('cuda', args...)` instead.\n",
      "  with amp.autocast(autocast):\n"
     ]
    },
    {
     "name": "stdout",
     "output_type": "stream",
     "text": [
      "[PAILLAL CHEHUAN ALEN_1.jpg] Ángulo canino izquierdo: 20.87°\n",
      "[PAILLAL CHEHUAN ALEN_1.jpg] EXISTE RIESGO\n"
     ]
    },
    {
     "name": "stderr",
     "output_type": "stream",
     "text": [
      "C:\\Users\\josem/.cache\\torch\\hub\\ultralytics_yolov5_master\\models\\common.py:906: FutureWarning: `torch.cuda.amp.autocast(args...)` is deprecated. Please use `torch.amp.autocast('cuda', args...)` instead.\n",
      "  with amp.autocast(autocast):\n"
     ]
    },
    {
     "name": "stdout",
     "output_type": "stream",
     "text": [
      "[POBLETE RIFFO FRANCO (2).jpg] Ángulo canino izquierdo: 6.73°\n",
      "[POBLETE RIFFO FRANCO (2).jpg] NO EXISTE RIESGO\n",
      "[RAMOS REDEL BASTIAN (2).jpg] NO EXISTE RIESGO\n"
     ]
    },
    {
     "name": "stderr",
     "output_type": "stream",
     "text": [
      "C:\\Users\\josem/.cache\\torch\\hub\\ultralytics_yolov5_master\\models\\common.py:906: FutureWarning: `torch.cuda.amp.autocast(args...)` is deprecated. Please use `torch.amp.autocast('cuda', args...)` instead.\n",
      "  with amp.autocast(autocast):\n",
      "C:\\Users\\josem/.cache\\torch\\hub\\ultralytics_yolov5_master\\models\\common.py:906: FutureWarning: `torch.cuda.amp.autocast(args...)` is deprecated. Please use `torch.amp.autocast('cuda', args...)` instead.\n",
      "  with amp.autocast(autocast):\n"
     ]
    },
    {
     "name": "stdout",
     "output_type": "stream",
     "text": [
      "[RIQUELME LAGOS MIGUEL.jpg] Ángulo canino izquierdo: 15.92°\n",
      "[RIQUELME LAGOS MIGUEL.jpg] EXISTE RIESGO\n"
     ]
    },
    {
     "name": "stderr",
     "output_type": "stream",
     "text": [
      "C:\\Users\\josem/.cache\\torch\\hub\\ultralytics_yolov5_master\\models\\common.py:906: FutureWarning: `torch.cuda.amp.autocast(args...)` is deprecated. Please use `torch.amp.autocast('cuda', args...)` instead.\n",
      "  with amp.autocast(autocast):\n"
     ]
    },
    {
     "name": "stdout",
     "output_type": "stream",
     "text": [
      "[RIVAS ABARZUA FERNANDA  (2)_1.jpg] Ángulo canino izquierdo: 16.29°\n",
      "[RIVAS ABARZUA FERNANDA  (2)_1.jpg] EXISTE RIESGO\n",
      "[ROMERO IBAÑEZ JOSEFA  (1).jpg] NO EXISTE RIESGO\n"
     ]
    },
    {
     "name": "stderr",
     "output_type": "stream",
     "text": [
      "C:\\Users\\josem/.cache\\torch\\hub\\ultralytics_yolov5_master\\models\\common.py:906: FutureWarning: `torch.cuda.amp.autocast(args...)` is deprecated. Please use `torch.amp.autocast('cuda', args...)` instead.\n",
      "  with amp.autocast(autocast):\n",
      "C:\\Users\\josem/.cache\\torch\\hub\\ultralytics_yolov5_master\\models\\common.py:906: FutureWarning: `torch.cuda.amp.autocast(args...)` is deprecated. Please use `torch.amp.autocast('cuda', args...)` instead.\n",
      "  with amp.autocast(autocast):\n"
     ]
    },
    {
     "name": "stdout",
     "output_type": "stream",
     "text": [
      "[SALAZAR GATICA FRANCISCA_1.jpg] Ángulo canino izquierdo: 17.84°\n",
      "[SALAZAR GATICA FRANCISCA_1.jpg] EXISTE RIESGO\n"
     ]
    },
    {
     "name": "stderr",
     "output_type": "stream",
     "text": [
      "C:\\Users\\josem/.cache\\torch\\hub\\ultralytics_yolov5_master\\models\\common.py:906: FutureWarning: `torch.cuda.amp.autocast(args...)` is deprecated. Please use `torch.amp.autocast('cuda', args...)` instead.\n",
      "  with amp.autocast(autocast):\n"
     ]
    },
    {
     "name": "stdout",
     "output_type": "stream",
     "text": [
      "[SANCHEZ OPASO ANTONELLA (2).jpg] Ángulo canino izquierdo: 19.81°\n",
      "[SANCHEZ OPASO ANTONELLA (2).jpg] EXISTE RIESGO\n"
     ]
    },
    {
     "name": "stderr",
     "output_type": "stream",
     "text": [
      "C:\\Users\\josem/.cache\\torch\\hub\\ultralytics_yolov5_master\\models\\common.py:906: FutureWarning: `torch.cuda.amp.autocast(args...)` is deprecated. Please use `torch.amp.autocast('cuda', args...)` instead.\n",
      "  with amp.autocast(autocast):\n"
     ]
    },
    {
     "name": "stdout",
     "output_type": "stream",
     "text": [
      "[SANCHEZ OPAZO AGUSTINA.jpg] Ángulo canino izquierdo: 8.53°\n",
      "[SANCHEZ OPAZO AGUSTINA.jpg] NO EXISTE RIESGO\n"
     ]
    },
    {
     "name": "stderr",
     "output_type": "stream",
     "text": [
      "C:\\Users\\josem/.cache\\torch\\hub\\ultralytics_yolov5_master\\models\\common.py:906: FutureWarning: `torch.cuda.amp.autocast(args...)` is deprecated. Please use `torch.amp.autocast('cuda', args...)` instead.\n",
      "  with amp.autocast(autocast):\n"
     ]
    },
    {
     "name": "stdout",
     "output_type": "stream",
     "text": [
      "[SANDOVAL PARADA EMA_1.jpg] Ángulo canino izquierdo: 11.14°\n",
      "[SANDOVAL PARADA EMA_1.jpg] NO EXISTE RIESGO\n"
     ]
    },
    {
     "name": "stderr",
     "output_type": "stream",
     "text": [
      "C:\\Users\\josem/.cache\\torch\\hub\\ultralytics_yolov5_master\\models\\common.py:906: FutureWarning: `torch.cuda.amp.autocast(args...)` is deprecated. Please use `torch.amp.autocast('cuda', args...)` instead.\n",
      "  with amp.autocast(autocast):\n"
     ]
    },
    {
     "name": "stdout",
     "output_type": "stream",
     "text": [
      "[SANDOVAL RAIN AYLIN 06-05-11.jpg] Ángulo canino izquierdo: 14.75°\n",
      "[SANDOVAL RAIN AYLIN 06-05-11.jpg] NO EXISTE RIESGO\n"
     ]
    },
    {
     "name": "stderr",
     "output_type": "stream",
     "text": [
      "C:\\Users\\josem/.cache\\torch\\hub\\ultralytics_yolov5_master\\models\\common.py:906: FutureWarning: `torch.cuda.amp.autocast(args...)` is deprecated. Please use `torch.amp.autocast('cuda', args...)` instead.\n",
      "  with amp.autocast(autocast):\n"
     ]
    },
    {
     "name": "stdout",
     "output_type": "stream",
     "text": [
      "[SANDOVAL SANDOVAL CAROLINA.jpg] Ángulo canino izquierdo: 12.38°\n",
      "[SANDOVAL SANDOVAL CAROLINA.jpg] NO EXISTE RIESGO\n"
     ]
    },
    {
     "name": "stderr",
     "output_type": "stream",
     "text": [
      "C:\\Users\\josem/.cache\\torch\\hub\\ultralytics_yolov5_master\\models\\common.py:906: FutureWarning: `torch.cuda.amp.autocast(args...)` is deprecated. Please use `torch.amp.autocast('cuda', args...)` instead.\n",
      "  with amp.autocast(autocast):\n"
     ]
    },
    {
     "name": "stdout",
     "output_type": "stream",
     "text": [
      "[SANHUEZA INOSTROZA ELIZABETH (2).jpg] Ángulo canino izquierdo: 10.71°\n",
      "[SANHUEZA INOSTROZA ELIZABETH (2).jpg] NO EXISTE RIESGO\n"
     ]
    },
    {
     "name": "stderr",
     "output_type": "stream",
     "text": [
      "C:\\Users\\josem/.cache\\torch\\hub\\ultralytics_yolov5_master\\models\\common.py:906: FutureWarning: `torch.cuda.amp.autocast(args...)` is deprecated. Please use `torch.amp.autocast('cuda', args...)` instead.\n",
      "  with amp.autocast(autocast):\n"
     ]
    },
    {
     "name": "stdout",
     "output_type": "stream",
     "text": [
      "[SANTANDER PERALTA JAVIERA (1).jpg] Ángulo canino izquierdo: 20.12°\n",
      "[SANTANDER PERALTA JAVIERA (1).jpg] EXISTE RIESGO\n"
     ]
    },
    {
     "name": "stderr",
     "output_type": "stream",
     "text": [
      "C:\\Users\\josem/.cache\\torch\\hub\\ultralytics_yolov5_master\\models\\common.py:906: FutureWarning: `torch.cuda.amp.autocast(args...)` is deprecated. Please use `torch.amp.autocast('cuda', args...)` instead.\n",
      "  with amp.autocast(autocast):\n"
     ]
    },
    {
     "name": "stdout",
     "output_type": "stream",
     "text": [
      "[SOTO PEREZ FLORENCIA  (2)_1.jpg] Ángulo canino izquierdo: 16.49°\n",
      "[SOTO PEREZ FLORENCIA  (2)_1.jpg] EXISTE RIESGO\n"
     ]
    },
    {
     "name": "stderr",
     "output_type": "stream",
     "text": [
      "C:\\Users\\josem/.cache\\torch\\hub\\ultralytics_yolov5_master\\models\\common.py:906: FutureWarning: `torch.cuda.amp.autocast(args...)` is deprecated. Please use `torch.amp.autocast('cuda', args...)` instead.\n",
      "  with amp.autocast(autocast):\n"
     ]
    },
    {
     "name": "stdout",
     "output_type": "stream",
     "text": [
      "[TERAN TORO CINTHIA.jpg] Ángulo canino izquierdo: 16.0°\n",
      "[TERAN TORO CINTHIA.jpg] EXISTE RIESGO\n"
     ]
    },
    {
     "name": "stderr",
     "output_type": "stream",
     "text": [
      "C:\\Users\\josem/.cache\\torch\\hub\\ultralytics_yolov5_master\\models\\common.py:906: FutureWarning: `torch.cuda.amp.autocast(args...)` is deprecated. Please use `torch.amp.autocast('cuda', args...)` instead.\n",
      "  with amp.autocast(autocast):\n"
     ]
    },
    {
     "name": "stdout",
     "output_type": "stream",
     "text": [
      "[TILLERIA SEPULVEDA JAVIERA  (2).jpg] Ángulo canino izquierdo: 14.12°\n",
      "[TILLERIA SEPULVEDA JAVIERA  (2).jpg] NO EXISTE RIESGO\n"
     ]
    },
    {
     "name": "stderr",
     "output_type": "stream",
     "text": [
      "C:\\Users\\josem/.cache\\torch\\hub\\ultralytics_yolov5_master\\models\\common.py:906: FutureWarning: `torch.cuda.amp.autocast(args...)` is deprecated. Please use `torch.amp.autocast('cuda', args...)` instead.\n",
      "  with amp.autocast(autocast):\n"
     ]
    },
    {
     "name": "stdout",
     "output_type": "stream",
     "text": [
      "[TORRES ARANCIBIA AGUSTIN  (1)_1.jpg] Ángulo canino izquierdo: 6.42°\n",
      "[TORRES ARANCIBIA AGUSTIN  (1)_1.jpg] NO EXISTE RIESGO\n"
     ]
    },
    {
     "name": "stderr",
     "output_type": "stream",
     "text": [
      "C:\\Users\\josem/.cache\\torch\\hub\\ultralytics_yolov5_master\\models\\common.py:906: FutureWarning: `torch.cuda.amp.autocast(args...)` is deprecated. Please use `torch.amp.autocast('cuda', args...)` instead.\n",
      "  with amp.autocast(autocast):\n"
     ]
    },
    {
     "name": "stdout",
     "output_type": "stream",
     "text": [
      "[TORRES CALAPAY NEZARET 01-09-07 (1).jpg] Ángulo canino izquierdo: 20.36°\n",
      "[TORRES CALAPAY NEZARET 01-09-07 (1).jpg] EXISTE RIESGO\n"
     ]
    },
    {
     "name": "stderr",
     "output_type": "stream",
     "text": [
      "C:\\Users\\josem/.cache\\torch\\hub\\ultralytics_yolov5_master\\models\\common.py:906: FutureWarning: `torch.cuda.amp.autocast(args...)` is deprecated. Please use `torch.amp.autocast('cuda', args...)` instead.\n",
      "  with amp.autocast(autocast):\n"
     ]
    },
    {
     "name": "stdout",
     "output_type": "stream",
     "text": [
      "[UMANZOR FERNANDEZ ANTONELLA.jpg] Ángulo canino izquierdo: 13.19°\n",
      "[UMANZOR FERNANDEZ ANTONELLA.jpg] NO EXISTE RIESGO\n"
     ]
    },
    {
     "name": "stderr",
     "output_type": "stream",
     "text": [
      "C:\\Users\\josem/.cache\\torch\\hub\\ultralytics_yolov5_master\\models\\common.py:906: FutureWarning: `torch.cuda.amp.autocast(args...)` is deprecated. Please use `torch.amp.autocast('cuda', args...)` instead.\n",
      "  with amp.autocast(autocast):\n"
     ]
    },
    {
     "name": "stdout",
     "output_type": "stream",
     "text": [
      "[UMANZOR FERNANDEZ_ ANTONELLA (1).jpg] Ángulo canino izquierdo: 18.45°\n",
      "[UMANZOR FERNANDEZ_ ANTONELLA (1).jpg] EXISTE RIESGO\n"
     ]
    },
    {
     "name": "stderr",
     "output_type": "stream",
     "text": [
      "C:\\Users\\josem/.cache\\torch\\hub\\ultralytics_yolov5_master\\models\\common.py:906: FutureWarning: `torch.cuda.amp.autocast(args...)` is deprecated. Please use `torch.amp.autocast('cuda', args...)` instead.\n",
      "  with amp.autocast(autocast):\n"
     ]
    },
    {
     "name": "stdout",
     "output_type": "stream",
     "text": [
      "[VARAS VALDEBENITO EZEQUIEL_1.jpg] Ángulo canino izquierdo: 29.97°\n",
      "[VARAS VALDEBENITO EZEQUIEL_1.jpg] EXISTE RIESGO\n"
     ]
    },
    {
     "name": "stderr",
     "output_type": "stream",
     "text": [
      "C:\\Users\\josem/.cache\\torch\\hub\\ultralytics_yolov5_master\\models\\common.py:906: FutureWarning: `torch.cuda.amp.autocast(args...)` is deprecated. Please use `torch.amp.autocast('cuda', args...)` instead.\n",
      "  with amp.autocast(autocast):\n"
     ]
    },
    {
     "name": "stdout",
     "output_type": "stream",
     "text": [
      "[VASQUEZ MANRIQUEZ MAXIMILIANO  (2).jpg] Ángulo canino izquierdo: 17.07°\n",
      "[VASQUEZ MANRIQUEZ MAXIMILIANO  (2).jpg] EXISTE RIESGO\n"
     ]
    },
    {
     "name": "stderr",
     "output_type": "stream",
     "text": [
      "C:\\Users\\josem/.cache\\torch\\hub\\ultralytics_yolov5_master\\models\\common.py:906: FutureWarning: `torch.cuda.amp.autocast(args...)` is deprecated. Please use `torch.amp.autocast('cuda', args...)` instead.\n",
      "  with amp.autocast(autocast):\n"
     ]
    },
    {
     "name": "stdout",
     "output_type": "stream",
     "text": [
      "[VASQUEZ MANRIQUEZ MAXIMILIANO_1.jpg] Ángulo canino izquierdo: 11.87°\n",
      "[VASQUEZ MANRIQUEZ MAXIMILIANO_1.jpg] NO EXISTE RIESGO\n"
     ]
    },
    {
     "name": "stderr",
     "output_type": "stream",
     "text": [
      "C:\\Users\\josem/.cache\\torch\\hub\\ultralytics_yolov5_master\\models\\common.py:906: FutureWarning: `torch.cuda.amp.autocast(args...)` is deprecated. Please use `torch.amp.autocast('cuda', args...)` instead.\n",
      "  with amp.autocast(autocast):\n"
     ]
    },
    {
     "name": "stdout",
     "output_type": "stream",
     "text": [
      "[VEGA PAREDES CATALINA 16-10-03 (1).jpg] Ángulo canino izquierdo: 18.09°\n",
      "[VEGA PAREDES CATALINA 16-10-03 (1).jpg] EXISTE RIESGO\n"
     ]
    },
    {
     "name": "stderr",
     "output_type": "stream",
     "text": [
      "C:\\Users\\josem/.cache\\torch\\hub\\ultralytics_yolov5_master\\models\\common.py:906: FutureWarning: `torch.cuda.amp.autocast(args...)` is deprecated. Please use `torch.amp.autocast('cuda', args...)` instead.\n",
      "  with amp.autocast(autocast):\n"
     ]
    },
    {
     "name": "stdout",
     "output_type": "stream",
     "text": [
      "[VELASQUEZ MORALES ANTONIO (2)_1.jpg] Ángulo canino izquierdo: 10.1°\n",
      "[VELASQUEZ MORALES ANTONIO (2)_1.jpg] NO EXISTE RIESGO\n"
     ]
    },
    {
     "name": "stderr",
     "output_type": "stream",
     "text": [
      "C:\\Users\\josem/.cache\\torch\\hub\\ultralytics_yolov5_master\\models\\common.py:906: FutureWarning: `torch.cuda.amp.autocast(args...)` is deprecated. Please use `torch.amp.autocast('cuda', args...)` instead.\n",
      "  with amp.autocast(autocast):\n"
     ]
    },
    {
     "name": "stdout",
     "output_type": "stream",
     "text": [
      "[VELIZ MARDONES KATHERINE (2)_1.jpg] Ángulo canino izquierdo: 13.87°\n",
      "[VELIZ MARDONES KATHERINE (2)_1.jpg] NO EXISTE RIESGO\n"
     ]
    },
    {
     "name": "stderr",
     "output_type": "stream",
     "text": [
      "C:\\Users\\josem/.cache\\torch\\hub\\ultralytics_yolov5_master\\models\\common.py:906: FutureWarning: `torch.cuda.amp.autocast(args...)` is deprecated. Please use `torch.amp.autocast('cuda', args...)` instead.\n",
      "  with amp.autocast(autocast):\n"
     ]
    },
    {
     "name": "stdout",
     "output_type": "stream",
     "text": [
      "[VENEGAS LUENGO ISIDORA.jpg] Ángulo canino izquierdo: 21.92°\n",
      "[VENEGAS LUENGO ISIDORA.jpg] EXISTE RIESGO\n",
      "[VERA CEBALLOS JAVIERA  (2)_1.jpg] NO EXISTE RIESGO\n"
     ]
    },
    {
     "name": "stderr",
     "output_type": "stream",
     "text": [
      "C:\\Users\\josem/.cache\\torch\\hub\\ultralytics_yolov5_master\\models\\common.py:906: FutureWarning: `torch.cuda.amp.autocast(args...)` is deprecated. Please use `torch.amp.autocast('cuda', args...)` instead.\n",
      "  with amp.autocast(autocast):\n",
      "C:\\Users\\josem/.cache\\torch\\hub\\ultralytics_yolov5_master\\models\\common.py:906: FutureWarning: `torch.cuda.amp.autocast(args...)` is deprecated. Please use `torch.amp.autocast('cuda', args...)` instead.\n",
      "  with amp.autocast(autocast):\n"
     ]
    },
    {
     "name": "stdout",
     "output_type": "stream",
     "text": [
      "[YAGODE CASTRO ALEJANDRO.jpg] Ángulo canino izquierdo: 26.46°\n",
      "[YAGODE CASTRO ALEJANDRO.jpg] EXISTE RIESGO\n"
     ]
    }
   ],
   "source": [
    "import os\n",
    "import cv2\n",
    "import torch\n",
    "import numpy as np\n",
    "import math\n",
    "from PIL import Image\n",
    "from torchvision import transforms\n",
    "\n",
    "# =============================================\n",
    "# CONFIGURACIÓN\n",
    "# =============================================\n",
    "input_dir = \"can_der/DERECHO_MAYOR_15\"     # Carpeta con imágenes de entrada\n",
    "output_dir = \"cuarto_modelo/derecho_mayor_15\"  # Carpeta para guardar resultados\n",
    "model_path = \"models/modelo4.pth\"\n",
    "yolo_model_path = \"models/tooth_detection.pt\"\n",
    "\n",
    "IMG_HEIGHT = 256\n",
    "IMG_WIDTH = 256\n",
    "NUM_CLASSES = 2\n",
    "CONF_THRESHOLD = 0.8\n",
    "\n",
    "os.makedirs(output_dir, exist_ok=True)\n",
    "\n",
    "# =============================================\n",
    "# CARGA DE MODELOS\n",
    "# =============================================\n",
    "from tooth_shape_model_unet import UNet  # Asegúrate de que esto esté en el entorno o en sys.path\n",
    "\n",
    "device = torch.device('cuda' if torch.cuda.is_available() else 'cpu')\n",
    "\n",
    "# Modelo U-Net para segmentación\n",
    "shape_unet = UNet(num_classes=NUM_CLASSES).to(device)\n",
    "shape_unet.load_state_dict(torch.load(model_path, map_location=device))\n",
    "shape_unet.eval()\n",
    "\n",
    "# Modelo YOLOv5 para detección\n",
    "model = torch.hub.load('ultralytics/yolov5', 'custom', path=yolo_model_path, force_reload=False).to(device)\n",
    "model.conf = CONF_THRESHOLD\n",
    "\n",
    "# Transformaciones para la U-Net\n",
    "infer_transform = transforms.Compose([\n",
    "    transforms.Resize((IMG_HEIGHT, IMG_WIDTH)),\n",
    "    transforms.ToTensor(),\n",
    "])\n",
    "\n",
    "# =============================================\n",
    "# DEFINICIÓN DE FUNCIONES PERSONALIZADAS\n",
    "# =============================================\n",
    "def calculate_line_intersection(line1_p1, line1_p2, line2_p1, line2_p2):\n",
    "    \"\"\"\n",
    "    Calcula el punto de intersección entre dos líneas definidas por dos puntos cada una.\n",
    "    Si las líneas son paralelas o no se intersectan dentro de los límites de la imagen, devuelve None.\n",
    "    \n",
    "    Args:\n",
    "        line1_p1, line1_p2: Puntos que definen la primera línea\n",
    "        line2_p1, line2_p2: Puntos que definen la segunda línea\n",
    "        \n",
    "    Returns:\n",
    "        tuple: Coordenadas (x, y) del punto de intersección o None si no hay intersección\n",
    "    \"\"\"\n",
    "    # Línea 1: (x1, y1) a (x2, y2)\n",
    "    x1, y1 = line1_p1\n",
    "    x2, y2 = line1_p2\n",
    "    \n",
    "    # Línea 2: (x3, y3) a (x4, y4)\n",
    "    x3, y3 = line2_p1\n",
    "    x4, y4 = line2_p2\n",
    "    \n",
    "    # Calcular denominador para verificar si las líneas son paralelas\n",
    "    denom = (y4 - y3) * (x2 - x1) - (x4 - x3) * (y2 - y1)\n",
    "    \n",
    "    if denom == 0:  # Líneas paralelas\n",
    "        return None\n",
    "    \n",
    "    # Calcular el punto de intersección\n",
    "    ua = ((x4 - x3) * (y1 - y3) - (y4 - y3) * (x1 - x3)) / denom\n",
    "    \n",
    "    # Punto de intersección\n",
    "    x = x1 + ua * (x2 - x1)\n",
    "    y = y1 + ua * (y2 - y1)\n",
    "    \n",
    "    return (int(x), int(y))\n",
    "def extend_line_to_boundaries(point1, point2, img_width, img_height, midline_x=None):\n",
    "    \"\"\"\n",
    "    Extiende una línea definida por dos puntos hasta los límites de la imagen o hasta intersectar con la línea media.\n",
    "    \n",
    "    Args:\n",
    "        point1 (tuple): Coordenadas (x, y) del primer punto.\n",
    "        point2 (tuple): Coordenadas (x, y) del segundo punto.\n",
    "        img_width (int): Ancho de la imagen.\n",
    "        img_height (int): Alto de la imagen.\n",
    "        midline_x (int, opcional): Coordenada x de la línea media. Si se proporciona, la línea se extenderá hasta esta línea.\n",
    "        \n",
    "    Returns:\n",
    "        tuple: Un par de tuplas con las coordenadas de los puntos extendidos (p1_extended, p2_extended).\n",
    "    \"\"\"\n",
    "    x1, y1 = point1\n",
    "    x2, y2 = point2\n",
    "    \n",
    "    # Si los puntos son iguales, no se puede definir una dirección\n",
    "    if x1 == x2 and y1 == y2:\n",
    "        return point1, point2\n",
    "    \n",
    "    # Calcular la dirección de la línea\n",
    "    dx = x2 - x1\n",
    "    dy = y2 - y1\n",
    "    \n",
    "    # Si la línea es vertical\n",
    "    if dx == 0:\n",
    "        # Extender hasta los bordes superior e inferior\n",
    "        return (x1, 0), (x1, img_height)\n",
    "    \n",
    "    # Calcular la pendiente y el intercepto\n",
    "    m = dy / dx\n",
    "    b = y1 - m * x1\n",
    "    \n",
    "    # Puntos extendidos\n",
    "    extended_points = []\n",
    "    \n",
    "    # Si hay una línea media definida, calcular la intersección con ella\n",
    "    if midline_x is not None:\n",
    "        # Calcular el punto de intersección con la línea media\n",
    "        y_intersect = m * midline_x + b\n",
    "        \n",
    "        # Verificar si la intersección está dentro de los límites de la imagen\n",
    "        if 0 <= y_intersect <= img_height:\n",
    "            # Determinar en qué lado de la línea media está el punto original\n",
    "            if (x1 < midline_x and x2 < midline_x) or (x1 > midline_x and x2 > midline_x):\n",
    "                # Ambos puntos están en el mismo lado de la línea media\n",
    "                # Extender hasta la línea media en una dirección\n",
    "                if x1 < midline_x:\n",
    "                    extended_points.append((midline_x, int(y_intersect)))\n",
    "                else:\n",
    "                    extended_points.append((midline_x, int(y_intersect)))\n",
    "            elif (x1 < midline_x and x2 > midline_x) or (x1 > midline_x and x2 < midline_x):\n",
    "                # No es necesario extender hasta la línea media\n",
    "                pass\n",
    "    \n",
    "    # Intersecciones con los bordes de la imagen\n",
    "    \n",
    "    # Intersección con y=0 (borde superior)\n",
    "    if abs(m) > 0.0001:  # No es una línea horizontal\n",
    "        x_top = (0 - b) / m\n",
    "        if 0 <= x_top <= img_width:\n",
    "            extended_points.append((int(x_top), 0))\n",
    "    \n",
    "    # Intersección con y=img_height (borde inferior)\n",
    "    if abs(m) > 0.0001:  # No es una línea horizontal\n",
    "        x_bottom = (img_height - b) / m\n",
    "        if 0 <= x_bottom <= img_width:\n",
    "            extended_points.append((int(x_bottom), img_height))\n",
    "    \n",
    "    # Intersección con x=0 (borde izquierdo)\n",
    "    y_left = b\n",
    "    if 0 <= y_left <= img_height:\n",
    "        extended_points.append((0, int(y_left)))\n",
    "    \n",
    "    # Intersección con x=img_width (borde derecho)\n",
    "    y_right = m * img_width + b\n",
    "    if 0 <= y_right <= img_height:\n",
    "        extended_points.append((img_width, int(y_right)))\n",
    "    \n",
    "    # Si no hay suficientes puntos de intersección, usar los puntos originales\n",
    "    if len(extended_points) < 2:\n",
    "        return point1, point2\n",
    "    \n",
    "    # Ordenar los puntos extendidos según su distancia desde el punto medio entre p1 y p2\n",
    "    midpoint = ((x1 + x2) / 2, (y1 + y2) / 2)\n",
    "    \n",
    "    # Si estamos del lado izquierdo de la línea media y queremos extender hacia la línea media\n",
    "    if midline_x is not None and (x1 < midline_x and x2 < midline_x):\n",
    "        # Encontrar el punto más cercano al borde y el punto más cercano a la línea media\n",
    "        points_sorted = sorted(extended_points, key=lambda p: p[0])  # Ordenar por coordenada x\n",
    "        return points_sorted[0], points_sorted[-1]  # El primero es el más a la izquierda, el último es el más a la derecha\n",
    "    \n",
    "    # Si estamos del lado derecho de la línea media y queremos extender hacia la línea media\n",
    "    elif midline_x is not None and (x1 > midline_x and x2 > midline_x):\n",
    "        # Encontrar el punto más cercano al borde y el punto más cercano a la línea media\n",
    "        points_sorted = sorted(extended_points, key=lambda p: p[0], reverse=True)  # Ordenar por coordenada x (reverso)\n",
    "        return points_sorted[0], points_sorted[-1]  # El primero es el más a la derecha, el último es el más a la izquierda\n",
    "    \n",
    "    # En otros casos, simplemente usar las dos intersecciones más alejadas entre sí\n",
    "    else:\n",
    "        # Calcular todas las combinaciones de distancias entre puntos\n",
    "        max_dist = 0\n",
    "        p1_ext, p2_ext = extended_points[0], extended_points[1]\n",
    "        \n",
    "        for i in range(len(extended_points)):\n",
    "            for j in range(i + 1, len(extended_points)):\n",
    "                dist = math.sqrt((extended_points[i][0] - extended_points[j][0])**2 + \n",
    "                                (extended_points[i][1] - extended_points[j][1])**2)\n",
    "                if dist > max_dist:\n",
    "                    max_dist = dist\n",
    "                    p1_ext, p2_ext = extended_points[i], extended_points[j]\n",
    "        \n",
    "        return p1_ext, p2_ext\n",
    "def get_center(detection):\n",
    "    xmin, ymin, xmax, ymax = map(int, [detection['xmin'], detection['ymin'], \n",
    "                                      detection['xmax'], detection['ymax']])\n",
    "    cx = (xmin + xmax) // 2\n",
    "    cy = (ymin + ymax) // 2\n",
    "    return (cx, cy)\n",
    "def get_corners(detection, side):\n",
    "    if side == 'izq':\n",
    "        return (int(detection['xmax']), int(detection['ymax'])), (int(detection['xmin']), int(detection['ymin']))\n",
    "    elif side == 'der':\n",
    "        return (int(detection['xmin']), int(detection['ymax'])), (int(detection['xmax']), int(detection['ymin']))\n",
    "    else:   \n",
    "        raise ValueError(\"Lado no válido. Debe ser 'izq' o 'der'.\")\n",
    "def segment_full_and_crop(orig_img, roi_coords):\n",
    "    # Segmenta toda la imagen y recorta ROI\n",
    "    img_rgb = cv2.cvtColor(orig_img, cv2.COLOR_BGR2RGB)\n",
    "    pil = Image.fromarray(img_rgb)\n",
    "    x = infer_transform(pil).unsqueeze(0).to(device)\n",
    "    with torch.no_grad():\n",
    "        logits = shape_unet(x)\n",
    "        probs  = torch.softmax(logits, dim=1)[0]  # [3,H,W]\n",
    "\n",
    "    # si side=='left'\n",
    "    ch = probs[1]\n",
    "    heatmap = (ch.cpu().numpy() * 255).astype(np.uint8)\n",
    "    h, w = orig_img.shape[:2]\n",
    "    heatmap_full = cv2.resize(heatmap, (w, h), interpolation=cv2.INTER_LINEAR)\n",
    "    cv2.imwrite(f\"debug/heat_full_{side}.png\", heatmap_full)\n",
    "    chan = probs[1]\n",
    "    mask = (chan.cpu().numpy() > 0.03).astype(np.uint8) * 255\n",
    "    # redimensionar a full-res\n",
    "    h,w = orig_img.shape[:2]\n",
    "    mask_full = cv2.resize(mask,(w,h),interpolation=cv2.INTER_NEAREST)\n",
    "    # recortar\n",
    "    # x1,y1,x2,y2 = roi_coords\n",
    "    return mask_full\n",
    "def calculate_angle(line_p1, line_p2, vertical_line_x):\n",
    "    \"\"\"\n",
    "    Calcula el ángulo entre una línea definida por dos puntos y una línea vertical.\n",
    "    \n",
    "    Args:\n",
    "        line_p1 (tuple): Primer punto de la línea.\n",
    "        line_p2 (tuple): Segundo punto de la línea.\n",
    "        vertical_line_x (int): Coordenada x de la línea vertical.\n",
    "        \n",
    "    Returns:\n",
    "        float: Ángulo en grados entre las líneas.\n",
    "    \"\"\"\n",
    "    # Verificar que los puntos no sean iguales\n",
    "    if line_p1[0] == line_p2[0] and line_p1[1] == line_p2[1]:\n",
    "        return 0  # No se puede calcular el ángulo si los puntos son iguales\n",
    "    \n",
    "    # Vector de la línea\n",
    "    vector_line = (line_p2[0] - line_p1[0], line_p2[1] - line_p1[1])\n",
    "    \n",
    "    # Vector de la línea vertical (0, 1) normalizado\n",
    "    vector_vertical = (0, 1)\n",
    "    \n",
    "    # Calcular el ángulo entre los vectores usando el producto punto\n",
    "    # Normalizar los vectores\n",
    "    magnitude_line = math.sqrt(vector_line[0]**2 + vector_line[1]**2)\n",
    "    \n",
    "    if magnitude_line == 0:\n",
    "        return 0\n",
    "    \n",
    "    unit_vector_line = (vector_line[0] / magnitude_line, vector_line[1] / magnitude_line)\n",
    "    \n",
    "    # Producto punto de los vectores unitarios\n",
    "    dot_product = unit_vector_line[0] * vector_vertical[0] + unit_vector_line[1] * vector_vertical[1]\n",
    "    \n",
    "    # Asegurarse de que el producto punto esté en el rango [-1, 1]\n",
    "    dot_product = max(-1.0, min(1.0, dot_product))\n",
    "    \n",
    "    # Calcular el ángulo en radianes y convertirlo a grados\n",
    "    angle_rad = math.acos(dot_product)\n",
    "    angle_deg = math.degrees(angle_rad)\n",
    "    \n",
    "    # Determinar la dirección del ángulo (positivo o negativo)\n",
    "    # Si el punto p2 está a la derecha de la línea vertical, el ángulo es positivo\n",
    "    # Si está a la izquierda, el ángulo es negativo\n",
    "    direction = 1 if (line_p1[0] < vertical_line_x and line_p2[0] > vertical_line_x) or \\\n",
    "                    (line_p1[0] > vertical_line_x and line_p2[0] < vertical_line_x and line_p1[1] > line_p2[1]) else -1\n",
    "    \n",
    "    # Ajustar el ángulo según el cuadrante\n",
    "    if unit_vector_line[0] < 0:\n",
    "        angle_deg = 180 - angle_deg\n",
    "    \n",
    "    # Asegurarse de que el ángulo esté entre 0 y 180 grados\n",
    "    if angle_deg > 90:\n",
    "        angle_deg = 180 - angle_deg\n",
    "        \n",
    "    return angle_deg * direction\n",
    "def process_and_draw_canine(det, orig_img, side, inc_center_x=None):\n",
    "    coords = (int(det['xmin']), int(det['ymin']), int(det['xmax']), int(det['ymax']))\n",
    "    # Extraemos Cordenadas\n",
    "    x1, y1, x2, y2 = coords\n",
    "    roi = orig_img[coords[1]:coords[3], coords[0]:coords[2]]\n",
    "    # 1) Segmentar\n",
    "    mask_roi = segment_full_and_crop(roi, coords)\n",
    "    cv2.imwrite(f\"debug/mask_roi_{side}.png\", mask_roi)\n",
    "    # 2) Extraer contorno\n",
    "    cnts,_ = cv2.findContours(mask_roi,cv2.RETR_EXTERNAL,cv2.CHAIN_APPROX_SIMPLE)\n",
    "    if not cnts: return orig_img\n",
    "    contour = max(cnts, key=cv2.contourArea).reshape(-1,2).astype(np.float32)\n",
    "    # 3) PCA\n",
    "    mean,vecs,_ = cv2.PCACompute2(contour, mean=None)\n",
    "    axis = vecs[0]\n",
    "    # 4) Extremos\n",
    "    dif = contour - mean\n",
    "    projs = dif.dot(axis.T)\n",
    "    p1 = list(contour[np.argmin(projs)].astype(int))\n",
    "    p2 = list(contour[np.argmax(projs)].astype(int))\n",
    "    if p1[1] > p2[1]: p1, p2 = p2, p1\n",
    "    \n",
    "    # Coordenadas punto 1\n",
    "    p1x = p1[0]\n",
    "    p1y = p1[1]\n",
    "    # Coordenadas punto 2\n",
    "    p2x = p2[0]\n",
    "    p2y = p2[1]\n",
    "    \n",
    "    if (side == \"izq\") and (p1x > p2x):\n",
    "        p1[1] = p2y\n",
    "        p2[1] = p1y\n",
    "    if (side == \"der\") and (p1x < p2x):\n",
    "        p1[1] = p2y\n",
    "        p2[1] = p1y\n",
    "        \n",
    "    # Ajustar a coords global\n",
    "    p1g = (p1[0]+coords[0], p1[1]+coords[1])\n",
    "    p2g = (p2[0]+coords[0], p2[1]+coords[1])\n",
    "    # 5) Dibujar\n",
    "    cv2.circle(orig_img, p1g, 4,(0,255,0),-1)\n",
    "    cv2.circle(orig_img, p2g, 4,(0,255,0),-1)\n",
    "\n",
    "    # Agregar punto (sacar despues)\n",
    "    cv2.putText(orig_img, 'p1', (p1g[0] + 10, p1g[1] - 10), cv2.FONT_HERSHEY_SIMPLEX, 0.5, (0, 255, 0), 2)\n",
    "    cv2.putText(orig_img, 'p2', (p2g[0] + 10, p2g[1] - 10), cv2.FONT_HERSHEY_SIMPLEX, 0.5, (0, 255, 0), 2)\n",
    "    \n",
    "    # Extender la línea hasta los límites de la imagen o hasta la línea media\n",
    "    h, w = orig_img.shape[:2]\n",
    "    midline_x = inc_center_x if inc_center_x is not None else None\n",
    "    \n",
    "    exp1, exp2 = extend_line_to_boundaries(p1g, p2g, w, h, midline_x)\n",
    "    \n",
    "    cv2.line(orig_img, exp1, exp2, (0,0,255), 2)\n",
    "    \n",
    "    # Para los angulos\n",
    "    # Coordenada central en X\n",
    "    center_x = (x1 + x2) // 2\n",
    "    # Coordenada para poner el texto justo debajo de la caja\n",
    "    text_y = y2 + 30\n",
    "\n",
    "    if midline_x is not None:\n",
    "        midline_top = (midline_x, 0)\n",
    "        midline_bottom = (midline_x, h)\n",
    "        intersection = calculate_line_intersection(exp1, exp2, midline_top, midline_bottom)\n",
    "        \n",
    "        if intersection:\n",
    "            cv2.circle(orig_img, intersection, 6, (255, 0, 255), -1)\n",
    "            angle = calculate_angle(exp1, exp2, midline_x)\n",
    "            angle_text = f\"Angulo: {abs(round(angle,2))} Deg\"\n",
    "            cv2.putText(orig_img, angle_text, \n",
    "            (center_x - 50, text_y),  # desplazamos 50 px a la izquierda para centrar mejor el texto\n",
    "            cv2.FONT_HERSHEY_SIMPLEX, 0.7, (255, 0, 255), 2)\n",
    "            \n",
    "            radius = 40\n",
    "            start_angle = 90\n",
    "            \n",
    "            if angle < 0:\n",
    "                end_angle = 90 - abs(angle)\n",
    "            else:\n",
    "                end_angle = 90 + abs(angle)\n",
    "            \n",
    "            cv2.ellipse(orig_img, intersection, (radius, radius), \n",
    "                        0, min(start_angle, end_angle), max(start_angle, end_angle), \n",
    "                        (255, 0, 255), 2)\n",
    "            \n",
    "            #cv2.putText(orig_img, \"Intersección\", \n",
    "             #          (intersection[0] + 10, intersection[1]), \n",
    "              #         cv2.FONT_HERSHEY_SIMPLEX, 0.5, (255, 0, 255), 2)\n",
    "    \n",
    "    return angle # Se elimino orig_image ya que no era necesario\n",
    "\n",
    "\n",
    "# =============================================\n",
    "# PROCESAMIENTO POR LOTE\n",
    "# =============================================\n",
    "imagenes = [f for f in os.listdir(input_dir) if f.lower().endswith(('.jpg', '.jpeg', '.png'))]\n",
    "\n",
    "for nombre in imagenes:\n",
    "    img_path = os.path.join(input_dir, nombre)\n",
    "    img = cv2.imread(img_path)\n",
    "\n",
    "    if img is None:\n",
    "        print(f\"ERROR al leer {nombre}\")\n",
    "        continue\n",
    "\n",
    "    orig = img.copy()\n",
    "    height, width = img.shape[:2]\n",
    "\n",
    "    # === Inferencia YOLOv5 ===\n",
    "    df = model(img).pandas().xyxy[0]\n",
    "    detections_inc = df[df['name'] == 'inc']\n",
    "    detections_can = df[df['name'] == 'canine']\n",
    "\n",
    "    # === Línea media ===\n",
    "    inc_center = None\n",
    "    if len(detections_inc) > 0:\n",
    "        inc = detections_inc.sort_values('confidence', ascending=False).iloc[0]\n",
    "        inc_center = get_center(inc)\n",
    "        cv2.line(orig, (inc_center[0], 0), (inc_center[0], height), (0, 255, 0), 2)\n",
    "        cv2.putText(orig, 'Línea media', (inc_center[0] + 10, 30), cv2.FONT_HERSHEY_SIMPLEX, 0.7, (0, 255, 0), 2)\n",
    "    else:\n",
    "        print(f\"[{nombre}] No se detectaron incisivos\")\n",
    "        continue\n",
    "\n",
    "    # === Procesamiento de caninos ===\n",
    "    riesgo = False\n",
    "    for _, det in detections_can.iterrows():\n",
    "        center = get_center(det)\n",
    "        side = 'izq' if center[0] < inc_center[0] else 'der'\n",
    "        if side != 'izq':\n",
    "            continue  # Ignorar canino derecho\n",
    "        x1, y1, x2, y2 = map(int, [det['xmin'], det['ymin'], det['xmax'], det['ymax']])\n",
    "        color = (255, 0, 0) if side == 'izq' else (0, 0, 255)\n",
    "        cv2.rectangle(orig, (x1, y1), (x2, y2), color, 2)\n",
    "        cv2.putText(orig, f\"Canino {side}\", (x1, y1 - 10), cv2.FONT_HERSHEY_SIMPLEX, 0.5, color, 2)\n",
    "        cv2.circle(orig, center, 5, color, -1)\n",
    "\n",
    "        try:\n",
    "            angle = process_and_draw_canine(det, orig, side, inc_center[0])\n",
    "\n",
    "            if angle is None:\n",
    "                print(f\"[{nombre}] No se pudo calcular el ángulo del canino {side}\")\n",
    "                continue\n",
    "\n",
    "            # Si es array de un solo valor\n",
    "            if isinstance(angle, np.ndarray) and angle.size == 1:\n",
    "                angle = angle.item()\n",
    "\n",
    "            # Si es tupla o lista: no válida\n",
    "            elif isinstance(angle, (tuple, list)):\n",
    "                print(f\"[{nombre}] Ángulo inválido (tuple/list): {angle}\")\n",
    "                continue\n",
    "\n",
    "            # Si no es un número escalar\n",
    "            elif not isinstance(angle, (int, float, np.float32, np.float64)):\n",
    "                print(f\"[{nombre}] Ángulo inválido: tipo {type(angle)}\")\n",
    "                continue\n",
    "\n",
    "            # Convertir a float\n",
    "            angle = float(angle)\n",
    "\n",
    "            # Mostrar ángulo\n",
    "            if side == 'izq':\n",
    "                print(f\"[{nombre}] Ángulo canino izquierdo: {abs(round(angle, 2))}°\")\n",
    "            else:\n",
    "                print(f\"[{nombre}] Ángulo canino derecho: {abs(round(angle, 2))}°\")\n",
    "\n",
    "            # Evaluar riesgo\n",
    "            if abs(round(angle, 2)) >= 15 and side == \"izq\":\n",
    "                # === Guardar imagen de salida ===\n",
    "                nombre_salida = os.path.splitext(nombre)[0] + '_analizada.jpg'\n",
    "                cv2.imwrite(os.path.join(output_dir, nombre_salida), orig)\n",
    "                riesgo = True\n",
    "            if abs(round(angle, 2)) < 15 and side == \"izq\":\n",
    "                # === Guardar imagen de salida ===\n",
    "                nombre_salida = os.path.splitext(nombre)[0] + '_analizada.jpg'\n",
    "                cv2.imwrite(os.path.join('cuarto_modelo\\derecho_mayor_15_mal', nombre_salida), orig)\n",
    "                \n",
    "\n",
    "        except Exception as e:\n",
    "            print(f\"[{nombre}] Error al procesar el canino {side}: {e}\")\n",
    "\n",
    "\n",
    "    # === Resultado final ===\n",
    "    if riesgo:\n",
    "        print(f\"[{nombre}] EXISTE RIESGO\")\n",
    "    else:\n",
    "        print(f\"[{nombre}] NO EXISTE RIESGO\")\n"
   ]
  },
  {
   "cell_type": "code",
   "execution_count": 1,
   "id": "ccaa7937",
   "metadata": {},
   "outputs": [
    {
     "name": "stderr",
     "output_type": "stream",
     "text": [
      "<>:468: SyntaxWarning: invalid escape sequence '\\d'\n",
      "<>:468: SyntaxWarning: invalid escape sequence '\\d'\n",
      "C:\\Users\\josem\\AppData\\Local\\Temp\\ipykernel_17688\\3191345535.py:468: SyntaxWarning: invalid escape sequence '\\d'\n",
      "  cv2.imwrite(os.path.join('quinto_modelo\\derecho_mayor_15_mal', nombre_salida), orig)\n",
      "Using cache found in C:\\Users\\josem/.cache\\torch\\hub\\ultralytics_yolov5_master\n",
      "C:\\Users\\josem/.cache\\torch\\hub\\ultralytics_yolov5_master\\utils\\general.py:32: UserWarning: pkg_resources is deprecated as an API. See https://setuptools.pypa.io/en/latest/pkg_resources.html. The pkg_resources package is slated for removal as early as 2025-11-30. Refrain from using this package or pin to Setuptools<81.\n",
      "  import pkg_resources as pkg\n",
      "YOLOv5  2025-7-19 Python-3.12.3 torch-2.7.1+cpu CPU\n",
      "\n",
      "Fusing layers... \n",
      "Model summary: 157 layers, 7015519 parameters, 0 gradients, 15.8 GFLOPs\n",
      "Adding AutoShape... \n",
      "C:\\Users\\josem/.cache\\torch\\hub\\ultralytics_yolov5_master\\models\\common.py:906: FutureWarning: `torch.cuda.amp.autocast(args...)` is deprecated. Please use `torch.amp.autocast('cuda', args...)` instead.\n",
      "  with amp.autocast(autocast):\n"
     ]
    },
    {
     "name": "stdout",
     "output_type": "stream",
     "text": [
      "[ALARCON CALLUMAN CRISTIAN  (1)_1.jpg] Ángulo canino derecho: 14.46°\n",
      "[ALARCON CALLUMAN CRISTIAN  (1)_1.jpg] Ángulo canino izquierdo: 26.35°\n",
      "[ALARCON CALLUMAN CRISTIAN  (1)_1.jpg] EXISTE RIESGO\n"
     ]
    },
    {
     "name": "stderr",
     "output_type": "stream",
     "text": [
      "C:\\Users\\josem/.cache\\torch\\hub\\ultralytics_yolov5_master\\models\\common.py:906: FutureWarning: `torch.cuda.amp.autocast(args...)` is deprecated. Please use `torch.amp.autocast('cuda', args...)` instead.\n",
      "  with amp.autocast(autocast):\n"
     ]
    },
    {
     "name": "stdout",
     "output_type": "stream",
     "text": [
      "[ALARCON DE LA FUENTE MARTIN 02-06-09  (2) (1).jpg] Ángulo canino izquierdo: 14.5°\n",
      "[ALARCON DE LA FUENTE MARTIN 02-06-09  (2) (1).jpg] Ángulo canino derecho: 3.75°\n",
      "[ALARCON DE LA FUENTE MARTIN 02-06-09  (2) (1).jpg] NO EXISTE RIESGO\n"
     ]
    },
    {
     "name": "stderr",
     "output_type": "stream",
     "text": [
      "C:\\Users\\josem/.cache\\torch\\hub\\ultralytics_yolov5_master\\models\\common.py:906: FutureWarning: `torch.cuda.amp.autocast(args...)` is deprecated. Please use `torch.amp.autocast('cuda', args...)` instead.\n",
      "  with amp.autocast(autocast):\n"
     ]
    },
    {
     "name": "stdout",
     "output_type": "stream",
     "text": [
      "[ARIAS REYES LAURA  (2).jpg] Ángulo canino izquierdo: 21.26°\n",
      "[ARIAS REYES LAURA  (2).jpg] Ángulo canino derecho: 35.77°\n",
      "[ARIAS REYES LAURA  (2).jpg] EXISTE RIESGO\n"
     ]
    },
    {
     "name": "stderr",
     "output_type": "stream",
     "text": [
      "C:\\Users\\josem/.cache\\torch\\hub\\ultralytics_yolov5_master\\models\\common.py:906: FutureWarning: `torch.cuda.amp.autocast(args...)` is deprecated. Please use `torch.amp.autocast('cuda', args...)` instead.\n",
      "  with amp.autocast(autocast):\n"
     ]
    },
    {
     "name": "stdout",
     "output_type": "stream",
     "text": [
      "[ARIAS REYES LAURA (2).jpg] Ángulo canino izquierdo: 2.68°\n",
      "[ARIAS REYES LAURA (2).jpg] Ángulo canino derecho: 8.49°\n",
      "[ARIAS REYES LAURA (2).jpg] NO EXISTE RIESGO\n"
     ]
    },
    {
     "name": "stderr",
     "output_type": "stream",
     "text": [
      "C:\\Users\\josem/.cache\\torch\\hub\\ultralytics_yolov5_master\\models\\common.py:906: FutureWarning: `torch.cuda.amp.autocast(args...)` is deprecated. Please use `torch.amp.autocast('cuda', args...)` instead.\n",
      "  with amp.autocast(autocast):\n"
     ]
    },
    {
     "name": "stdout",
     "output_type": "stream",
     "text": [
      "[BELLO BENAVIDES  CHRISTOPHER.jpg] Ángulo canino izquierdo: 12.17°\n",
      "[BELLO BENAVIDES  CHRISTOPHER.jpg] Ángulo canino derecho: 2.55°\n",
      "[BELLO BENAVIDES  CHRISTOPHER.jpg] NO EXISTE RIESGO\n"
     ]
    },
    {
     "name": "stderr",
     "output_type": "stream",
     "text": [
      "C:\\Users\\josem/.cache\\torch\\hub\\ultralytics_yolov5_master\\models\\common.py:906: FutureWarning: `torch.cuda.amp.autocast(args...)` is deprecated. Please use `torch.amp.autocast('cuda', args...)` instead.\n",
      "  with amp.autocast(autocast):\n"
     ]
    },
    {
     "name": "stdout",
     "output_type": "stream",
     "text": [
      "[BELTRAN MILA SOFIA  (1)_1.jpg] Ángulo canino izquierdo: 13.78°\n",
      "[BELTRAN MILA SOFIA  (1)_1.jpg] Ángulo canino derecho: 9.67°\n",
      "[BELTRAN MILA SOFIA  (1)_1.jpg] NO EXISTE RIESGO\n"
     ]
    },
    {
     "name": "stderr",
     "output_type": "stream",
     "text": [
      "C:\\Users\\josem/.cache\\torch\\hub\\ultralytics_yolov5_master\\models\\common.py:906: FutureWarning: `torch.cuda.amp.autocast(args...)` is deprecated. Please use `torch.amp.autocast('cuda', args...)` instead.\n",
      "  with amp.autocast(autocast):\n"
     ]
    },
    {
     "name": "stdout",
     "output_type": "stream",
     "text": [
      "[BRIONES BRAVO PASCAL  (2)_1.jpg] Ángulo canino izquierdo: 8.97°\n",
      "[BRIONES BRAVO PASCAL  (2)_1.jpg] Ángulo canino derecho: 20.75°\n",
      "[BRIONES BRAVO PASCAL  (2)_1.jpg] NO EXISTE RIESGO\n"
     ]
    },
    {
     "name": "stderr",
     "output_type": "stream",
     "text": [
      "C:\\Users\\josem/.cache\\torch\\hub\\ultralytics_yolov5_master\\models\\common.py:906: FutureWarning: `torch.cuda.amp.autocast(args...)` is deprecated. Please use `torch.amp.autocast('cuda', args...)` instead.\n",
      "  with amp.autocast(autocast):\n"
     ]
    },
    {
     "name": "stdout",
     "output_type": "stream",
     "text": [
      "[BUCHI VILLEGAS ELENA (2)_1.jpg] Ángulo canino izquierdo: 8.88°\n",
      "[BUCHI VILLEGAS ELENA (2)_1.jpg] Ángulo canino derecho: 15.96°\n",
      "[BUCHI VILLEGAS ELENA (2)_1.jpg] NO EXISTE RIESGO\n"
     ]
    },
    {
     "name": "stderr",
     "output_type": "stream",
     "text": [
      "C:\\Users\\josem/.cache\\torch\\hub\\ultralytics_yolov5_master\\models\\common.py:906: FutureWarning: `torch.cuda.amp.autocast(args...)` is deprecated. Please use `torch.amp.autocast('cuda', args...)` instead.\n",
      "  with amp.autocast(autocast):\n"
     ]
    },
    {
     "name": "stdout",
     "output_type": "stream",
     "text": [
      "[CABRERA GUERRERO AMANDA_1.jpg] Ángulo canino derecho: 2.1°\n",
      "[CABRERA GUERRERO AMANDA_1.jpg] Ángulo canino izquierdo: 2.42°\n",
      "[CABRERA GUERRERO AMANDA_1.jpg] NO EXISTE RIESGO\n"
     ]
    },
    {
     "name": "stderr",
     "output_type": "stream",
     "text": [
      "C:\\Users\\josem/.cache\\torch\\hub\\ultralytics_yolov5_master\\models\\common.py:906: FutureWarning: `torch.cuda.amp.autocast(args...)` is deprecated. Please use `torch.amp.autocast('cuda', args...)` instead.\n",
      "  with amp.autocast(autocast):\n"
     ]
    },
    {
     "name": "stdout",
     "output_type": "stream",
     "text": [
      "[CABRERA GUERRERO JOSEFINA_1.jpg] Ángulo canino derecho: 24.67°\n",
      "[CABRERA GUERRERO JOSEFINA_1.jpg] Ángulo canino izquierdo: 6.68°\n",
      "[CABRERA GUERRERO JOSEFINA_1.jpg] NO EXISTE RIESGO\n"
     ]
    },
    {
     "name": "stderr",
     "output_type": "stream",
     "text": [
      "C:\\Users\\josem/.cache\\torch\\hub\\ultralytics_yolov5_master\\models\\common.py:906: FutureWarning: `torch.cuda.amp.autocast(args...)` is deprecated. Please use `torch.amp.autocast('cuda', args...)` instead.\n",
      "  with amp.autocast(autocast):\n"
     ]
    },
    {
     "name": "stdout",
     "output_type": "stream",
     "text": [
      "[CABRERA GUERRERO JOSEFINA_3.jpg] Ángulo canino derecho: 4.24°\n",
      "[CABRERA GUERRERO JOSEFINA_3.jpg] Ángulo canino izquierdo: 25.04°\n",
      "[CABRERA GUERRERO JOSEFINA_3.jpg] EXISTE RIESGO\n"
     ]
    },
    {
     "name": "stderr",
     "output_type": "stream",
     "text": [
      "C:\\Users\\josem/.cache\\torch\\hub\\ultralytics_yolov5_master\\models\\common.py:906: FutureWarning: `torch.cuda.amp.autocast(args...)` is deprecated. Please use `torch.amp.autocast('cuda', args...)` instead.\n",
      "  with amp.autocast(autocast):\n"
     ]
    },
    {
     "name": "stdout",
     "output_type": "stream",
     "text": [
      "[CALFIO VILLAGRAN JUAN PABLO (2).jpg] Ángulo canino izquierdo: 13.23°\n",
      "[CALFIO VILLAGRAN JUAN PABLO (2).jpg] Ángulo canino derecho: 2.51°\n",
      "[CALFIO VILLAGRAN JUAN PABLO (2).jpg] NO EXISTE RIESGO\n"
     ]
    },
    {
     "name": "stderr",
     "output_type": "stream",
     "text": [
      "C:\\Users\\josem/.cache\\torch\\hub\\ultralytics_yolov5_master\\models\\common.py:906: FutureWarning: `torch.cuda.amp.autocast(args...)` is deprecated. Please use `torch.amp.autocast('cuda', args...)` instead.\n",
      "  with amp.autocast(autocast):\n"
     ]
    },
    {
     "name": "stdout",
     "output_type": "stream",
     "text": [
      "[CANIO REYES ANTONIA_1.jpg] Ángulo canino derecho: 10.14°\n",
      "[CANIO REYES ANTONIA_1.jpg] Ángulo canino izquierdo: 18.25°\n",
      "[CANIO REYES ANTONIA_1.jpg] EXISTE RIESGO\n"
     ]
    },
    {
     "name": "stderr",
     "output_type": "stream",
     "text": [
      "C:\\Users\\josem/.cache\\torch\\hub\\ultralytics_yolov5_master\\models\\common.py:906: FutureWarning: `torch.cuda.amp.autocast(args...)` is deprecated. Please use `torch.amp.autocast('cuda', args...)` instead.\n",
      "  with amp.autocast(autocast):\n"
     ]
    },
    {
     "name": "stdout",
     "output_type": "stream",
     "text": [
      "[CAYUL BLANCO ALEX24-11-10 (2).jpg] Ángulo canino izquierdo: 11.4°\n",
      "[CAYUL BLANCO ALEX24-11-10 (2).jpg] Ángulo canino derecho: 21.18°\n",
      "[CAYUL BLANCO ALEX24-11-10 (2).jpg] NO EXISTE RIESGO\n"
     ]
    },
    {
     "name": "stderr",
     "output_type": "stream",
     "text": [
      "C:\\Users\\josem/.cache\\torch\\hub\\ultralytics_yolov5_master\\models\\common.py:906: FutureWarning: `torch.cuda.amp.autocast(args...)` is deprecated. Please use `torch.amp.autocast('cuda', args...)` instead.\n",
      "  with amp.autocast(autocast):\n"
     ]
    },
    {
     "name": "stdout",
     "output_type": "stream",
     "text": [
      "[CHUÑIL SAN MARTIN TRINIDAD 12-02-11 (1).jpg] Ángulo canino derecho: 3.04°\n",
      "[CHUÑIL SAN MARTIN TRINIDAD 12-02-11 (1).jpg] Ángulo canino izquierdo: 7.3°\n",
      "[CHUÑIL SAN MARTIN TRINIDAD 12-02-11 (1).jpg] NO EXISTE RIESGO\n"
     ]
    },
    {
     "name": "stderr",
     "output_type": "stream",
     "text": [
      "C:\\Users\\josem/.cache\\torch\\hub\\ultralytics_yolov5_master\\models\\common.py:906: FutureWarning: `torch.cuda.amp.autocast(args...)` is deprecated. Please use `torch.amp.autocast('cuda', args...)` instead.\n",
      "  with amp.autocast(autocast):\n"
     ]
    },
    {
     "name": "stdout",
     "output_type": "stream",
     "text": [
      "[DE LA FUENTE CADIZ MARIA PAZ.jpg] Ángulo canino derecho: 1.07°\n",
      "[DE LA FUENTE CADIZ MARIA PAZ.jpg] Ángulo canino izquierdo: 24.89°\n",
      "[DE LA FUENTE CADIZ MARIA PAZ.jpg] EXISTE RIESGO\n"
     ]
    },
    {
     "name": "stderr",
     "output_type": "stream",
     "text": [
      "C:\\Users\\josem/.cache\\torch\\hub\\ultralytics_yolov5_master\\models\\common.py:906: FutureWarning: `torch.cuda.amp.autocast(args...)` is deprecated. Please use `torch.amp.autocast('cuda', args...)` instead.\n",
      "  with amp.autocast(autocast):\n"
     ]
    },
    {
     "name": "stdout",
     "output_type": "stream",
     "text": [
      "[DE LA FUENTE CADIZ MARIA PAZ_1.jpg] Ángulo canino derecho: 1.07°\n",
      "[DE LA FUENTE CADIZ MARIA PAZ_1.jpg] Ángulo canino izquierdo: 24.89°\n",
      "[DE LA FUENTE CADIZ MARIA PAZ_1.jpg] EXISTE RIESGO\n"
     ]
    },
    {
     "name": "stderr",
     "output_type": "stream",
     "text": [
      "C:\\Users\\josem/.cache\\torch\\hub\\ultralytics_yolov5_master\\models\\common.py:906: FutureWarning: `torch.cuda.amp.autocast(args...)` is deprecated. Please use `torch.amp.autocast('cuda', args...)` instead.\n",
      "  with amp.autocast(autocast):\n"
     ]
    },
    {
     "name": "stdout",
     "output_type": "stream",
     "text": [
      "[DE LA FUENTE CADIZ MARIA PAZ_2.jpg] Ángulo canino derecho: 7.43°\n",
      "[DE LA FUENTE CADIZ MARIA PAZ_2.jpg] Ángulo canino izquierdo: 20.32°\n",
      "[DE LA FUENTE CADIZ MARIA PAZ_2.jpg] EXISTE RIESGO\n"
     ]
    },
    {
     "name": "stderr",
     "output_type": "stream",
     "text": [
      "C:\\Users\\josem/.cache\\torch\\hub\\ultralytics_yolov5_master\\models\\common.py:906: FutureWarning: `torch.cuda.amp.autocast(args...)` is deprecated. Please use `torch.amp.autocast('cuda', args...)` instead.\n",
      "  with amp.autocast(autocast):\n"
     ]
    },
    {
     "name": "stdout",
     "output_type": "stream",
     "text": [
      "[DE LA FUENTE MILLANAO MAXIMILIANO  (2)_1.jpg] Ángulo canino izquierdo: 18.33°\n",
      "[DE LA FUENTE MILLANAO MAXIMILIANO  (2)_1.jpg] Ángulo canino derecho: 4.07°\n",
      "[DE LA FUENTE MILLANAO MAXIMILIANO  (2)_1.jpg] EXISTE RIESGO\n"
     ]
    },
    {
     "name": "stderr",
     "output_type": "stream",
     "text": [
      "C:\\Users\\josem/.cache\\torch\\hub\\ultralytics_yolov5_master\\models\\common.py:906: FutureWarning: `torch.cuda.amp.autocast(args...)` is deprecated. Please use `torch.amp.autocast('cuda', args...)` instead.\n",
      "  with amp.autocast(autocast):\n"
     ]
    },
    {
     "name": "stdout",
     "output_type": "stream",
     "text": [
      "[EPULEF ZAGAL TRINIDAD 25-06-2010 (1).jpg] Ángulo canino izquierdo: 14.79°\n",
      "[EPULEF ZAGAL TRINIDAD 25-06-2010 (1).jpg] Ángulo canino derecho: 17.56°\n",
      "[EPULEF ZAGAL TRINIDAD 25-06-2010 (1).jpg] NO EXISTE RIESGO\n"
     ]
    },
    {
     "name": "stderr",
     "output_type": "stream",
     "text": [
      "C:\\Users\\josem/.cache\\torch\\hub\\ultralytics_yolov5_master\\models\\common.py:906: FutureWarning: `torch.cuda.amp.autocast(args...)` is deprecated. Please use `torch.amp.autocast('cuda', args...)` instead.\n",
      "  with amp.autocast(autocast):\n"
     ]
    },
    {
     "name": "stdout",
     "output_type": "stream",
     "text": [
      "[ESPAÑA MARILAO MELANIE  (1)_2.jpg] Ángulo canino derecho: 6.2°\n",
      "[ESPAÑA MARILAO MELANIE  (1)_2.jpg] Ángulo canino izquierdo: 19.61°\n",
      "[ESPAÑA MARILAO MELANIE  (1)_2.jpg] EXISTE RIESGO\n"
     ]
    },
    {
     "name": "stderr",
     "output_type": "stream",
     "text": [
      "C:\\Users\\josem/.cache\\torch\\hub\\ultralytics_yolov5_master\\models\\common.py:906: FutureWarning: `torch.cuda.amp.autocast(args...)` is deprecated. Please use `torch.amp.autocast('cuda', args...)` instead.\n",
      "  with amp.autocast(autocast):\n"
     ]
    },
    {
     "name": "stdout",
     "output_type": "stream",
     "text": [
      "[ESPINOZA VILLA EMILY.jpg] Ángulo canino izquierdo: 14.96°\n",
      "[ESPINOZA VILLA EMILY.jpg] Ángulo canino derecho: 9.4°\n",
      "[ESPINOZA VILLA EMILY.jpg] NO EXISTE RIESGO\n"
     ]
    },
    {
     "name": "stderr",
     "output_type": "stream",
     "text": [
      "C:\\Users\\josem/.cache\\torch\\hub\\ultralytics_yolov5_master\\models\\common.py:906: FutureWarning: `torch.cuda.amp.autocast(args...)` is deprecated. Please use `torch.amp.autocast('cuda', args...)` instead.\n",
      "  with amp.autocast(autocast):\n"
     ]
    },
    {
     "name": "stdout",
     "output_type": "stream",
     "text": [
      "[FERNANDEZ MALIQUEO PALOMA  (2)_1.jpg] Ángulo canino derecho: 14.67°\n",
      "[FERNANDEZ MALIQUEO PALOMA  (2)_1.jpg] Ángulo canino izquierdo: 13.32°\n",
      "[FERNANDEZ MALIQUEO PALOMA  (2)_1.jpg] NO EXISTE RIESGO\n"
     ]
    },
    {
     "name": "stderr",
     "output_type": "stream",
     "text": [
      "C:\\Users\\josem/.cache\\torch\\hub\\ultralytics_yolov5_master\\models\\common.py:906: FutureWarning: `torch.cuda.amp.autocast(args...)` is deprecated. Please use `torch.amp.autocast('cuda', args...)` instead.\n",
      "  with amp.autocast(autocast):\n"
     ]
    },
    {
     "name": "stdout",
     "output_type": "stream",
     "text": [
      "[FERNANDEZ SAN MARTIN DEMIAN 28-12-10 (1).jpg] Ángulo canino derecho: 0.81°\n",
      "[FERNANDEZ SAN MARTIN DEMIAN 28-12-10 (1).jpg] Ángulo canino izquierdo: 1.7°\n",
      "[FERNANDEZ SAN MARTIN DEMIAN 28-12-10 (1).jpg] NO EXISTE RIESGO\n"
     ]
    },
    {
     "name": "stderr",
     "output_type": "stream",
     "text": [
      "C:\\Users\\josem/.cache\\torch\\hub\\ultralytics_yolov5_master\\models\\common.py:906: FutureWarning: `torch.cuda.amp.autocast(args...)` is deprecated. Please use `torch.amp.autocast('cuda', args...)` instead.\n",
      "  with amp.autocast(autocast):\n"
     ]
    },
    {
     "name": "stdout",
     "output_type": "stream",
     "text": [
      "[FERNANDEZ VENEGAS CRISTIAN  (1)_1.jpg] Ángulo canino derecho: 19.97°\n",
      "[FERNANDEZ VENEGAS CRISTIAN  (1)_1.jpg] Ángulo canino izquierdo: 12.72°\n",
      "[FERNANDEZ VENEGAS CRISTIAN  (1)_1.jpg] NO EXISTE RIESGO\n"
     ]
    },
    {
     "name": "stderr",
     "output_type": "stream",
     "text": [
      "C:\\Users\\josem/.cache\\torch\\hub\\ultralytics_yolov5_master\\models\\common.py:906: FutureWarning: `torch.cuda.amp.autocast(args...)` is deprecated. Please use `torch.amp.autocast('cuda', args...)` instead.\n",
      "  with amp.autocast(autocast):\n"
     ]
    },
    {
     "name": "stdout",
     "output_type": "stream",
     "text": [
      "[GARRIDO SANHUEZA PAZ  (2).jpg] Ángulo canino izquierdo: 16.45°\n",
      "[GARRIDO SANHUEZA PAZ  (2).jpg] Ángulo canino derecho: 4.69°\n",
      "[GARRIDO SANHUEZA PAZ  (2).jpg] EXISTE RIESGO\n"
     ]
    },
    {
     "name": "stderr",
     "output_type": "stream",
     "text": [
      "C:\\Users\\josem/.cache\\torch\\hub\\ultralytics_yolov5_master\\models\\common.py:906: FutureWarning: `torch.cuda.amp.autocast(args...)` is deprecated. Please use `torch.amp.autocast('cuda', args...)` instead.\n",
      "  with amp.autocast(autocast):\n"
     ]
    },
    {
     "name": "stdout",
     "output_type": "stream",
     "text": [
      "[GONZALEZ ABARZUA VALENTINA_1.jpg] Ángulo canino derecho: 7.79°\n",
      "[GONZALEZ ABARZUA VALENTINA_1.jpg] Ángulo canino izquierdo: 7.79°\n",
      "[GONZALEZ ABARZUA VALENTINA_1.jpg] NO EXISTE RIESGO\n"
     ]
    },
    {
     "name": "stderr",
     "output_type": "stream",
     "text": [
      "C:\\Users\\josem/.cache\\torch\\hub\\ultralytics_yolov5_master\\models\\common.py:906: FutureWarning: `torch.cuda.amp.autocast(args...)` is deprecated. Please use `torch.amp.autocast('cuda', args...)` instead.\n",
      "  with amp.autocast(autocast):\n"
     ]
    },
    {
     "name": "stdout",
     "output_type": "stream",
     "text": [
      "[GUTIERREZ CASTRO VICENTE  (2)_1.jpg] Ángulo canino izquierdo: 10.49°\n",
      "[GUTIERREZ CASTRO VICENTE  (2)_1.jpg] Ángulo canino derecho: 22.99°\n",
      "[GUTIERREZ CASTRO VICENTE  (2)_1.jpg] NO EXISTE RIESGO\n"
     ]
    },
    {
     "name": "stderr",
     "output_type": "stream",
     "text": [
      "C:\\Users\\josem/.cache\\torch\\hub\\ultralytics_yolov5_master\\models\\common.py:906: FutureWarning: `torch.cuda.amp.autocast(args...)` is deprecated. Please use `torch.amp.autocast('cuda', args...)` instead.\n",
      "  with amp.autocast(autocast):\n"
     ]
    },
    {
     "name": "stdout",
     "output_type": "stream",
     "text": [
      "[HERRERA VALLADARES KATALINA 28-09-10 (2).jpg] Ángulo canino izquierdo: 15.67°\n",
      "[HERRERA VALLADARES KATALINA 28-09-10 (2).jpg] Ángulo canino derecho: 5.8°\n",
      "[HERRERA VALLADARES KATALINA 28-09-10 (2).jpg] EXISTE RIESGO\n"
     ]
    },
    {
     "name": "stderr",
     "output_type": "stream",
     "text": [
      "C:\\Users\\josem/.cache\\torch\\hub\\ultralytics_yolov5_master\\models\\common.py:906: FutureWarning: `torch.cuda.amp.autocast(args...)` is deprecated. Please use `torch.amp.autocast('cuda', args...)` instead.\n",
      "  with amp.autocast(autocast):\n"
     ]
    },
    {
     "name": "stdout",
     "output_type": "stream",
     "text": [
      "[HUENTEMIL ALLILEF KALFU.jpg] Ángulo canino izquierdo: 16.21°\n",
      "[HUENTEMIL ALLILEF KALFU.jpg] Ángulo canino derecho: 38.22°\n",
      "[HUENTEMIL ALLILEF KALFU.jpg] EXISTE RIESGO\n"
     ]
    },
    {
     "name": "stderr",
     "output_type": "stream",
     "text": [
      "C:\\Users\\josem/.cache\\torch\\hub\\ultralytics_yolov5_master\\models\\common.py:906: FutureWarning: `torch.cuda.amp.autocast(args...)` is deprecated. Please use `torch.amp.autocast('cuda', args...)` instead.\n",
      "  with amp.autocast(autocast):\n"
     ]
    },
    {
     "name": "stdout",
     "output_type": "stream",
     "text": [
      "[HUENTEMIL MORENO CONSTANZA (1).jpg] Ángulo canino derecho: 4.2°\n",
      "[HUENTEMIL MORENO CONSTANZA (1).jpg] Ángulo canino izquierdo: 40.21°\n",
      "[HUENTEMIL MORENO CONSTANZA (1).jpg] EXISTE RIESGO\n"
     ]
    },
    {
     "name": "stderr",
     "output_type": "stream",
     "text": [
      "C:\\Users\\josem/.cache\\torch\\hub\\ultralytics_yolov5_master\\models\\common.py:906: FutureWarning: `torch.cuda.amp.autocast(args...)` is deprecated. Please use `torch.amp.autocast('cuda', args...)` instead.\n",
      "  with amp.autocast(autocast):\n"
     ]
    },
    {
     "name": "stdout",
     "output_type": "stream",
     "text": [
      "[INOSTROZA ANDRADE FERNANDO  (1)_1.jpg] Ángulo canino derecho: 17.92°\n",
      "[INOSTROZA ANDRADE FERNANDO  (1)_1.jpg] NO EXISTE RIESGO\n"
     ]
    },
    {
     "name": "stderr",
     "output_type": "stream",
     "text": [
      "C:\\Users\\josem/.cache\\torch\\hub\\ultralytics_yolov5_master\\models\\common.py:906: FutureWarning: `torch.cuda.amp.autocast(args...)` is deprecated. Please use `torch.amp.autocast('cuda', args...)` instead.\n",
      "  with amp.autocast(autocast):\n"
     ]
    },
    {
     "name": "stdout",
     "output_type": "stream",
     "text": [
      "[KIEKEBUCH SALDIAS ISABELLA  (2)_1.jpg] Ángulo canino izquierdo: 12.98°\n",
      "[KIEKEBUCH SALDIAS ISABELLA  (2)_1.jpg] Ángulo canino derecho: 5.84°\n",
      "[KIEKEBUCH SALDIAS ISABELLA  (2)_1.jpg] NO EXISTE RIESGO\n"
     ]
    },
    {
     "name": "stderr",
     "output_type": "stream",
     "text": [
      "C:\\Users\\josem/.cache\\torch\\hub\\ultralytics_yolov5_master\\models\\common.py:906: FutureWarning: `torch.cuda.amp.autocast(args...)` is deprecated. Please use `torch.amp.autocast('cuda', args...)` instead.\n",
      "  with amp.autocast(autocast):\n"
     ]
    },
    {
     "name": "stdout",
     "output_type": "stream",
     "text": [
      "[LEAL LAGOS EMILY.jpg] Ángulo canino izquierdo: 28.85°\n",
      "[LEAL LAGOS EMILY.jpg] Ángulo canino derecho: 22.38°\n",
      "[LEAL LAGOS EMILY.jpg] EXISTE RIESGO\n"
     ]
    },
    {
     "name": "stderr",
     "output_type": "stream",
     "text": [
      "C:\\Users\\josem/.cache\\torch\\hub\\ultralytics_yolov5_master\\models\\common.py:906: FutureWarning: `torch.cuda.amp.autocast(args...)` is deprecated. Please use `torch.amp.autocast('cuda', args...)` instead.\n",
      "  with amp.autocast(autocast):\n"
     ]
    },
    {
     "name": "stdout",
     "output_type": "stream",
     "text": [
      "[LLANO AGUILERA LILIAN 16-12-09 (1).jpg] Ángulo canino izquierdo: 18.29°\n",
      "[LLANO AGUILERA LILIAN 16-12-09 (1).jpg] Ángulo canino derecho: 10.06°\n",
      "[LLANO AGUILERA LILIAN 16-12-09 (1).jpg] EXISTE RIESGO\n",
      "[LLAUPE LLONCON TAMARA 2.jpg] NO EXISTE RIESGO\n"
     ]
    },
    {
     "name": "stderr",
     "output_type": "stream",
     "text": [
      "C:\\Users\\josem/.cache\\torch\\hub\\ultralytics_yolov5_master\\models\\common.py:906: FutureWarning: `torch.cuda.amp.autocast(args...)` is deprecated. Please use `torch.amp.autocast('cuda', args...)` instead.\n",
      "  with amp.autocast(autocast):\n",
      "C:\\Users\\josem/.cache\\torch\\hub\\ultralytics_yolov5_master\\models\\common.py:906: FutureWarning: `torch.cuda.amp.autocast(args...)` is deprecated. Please use `torch.amp.autocast('cuda', args...)` instead.\n",
      "  with amp.autocast(autocast):\n"
     ]
    },
    {
     "name": "stdout",
     "output_type": "stream",
     "text": [
      "[MANDUJANO MORAN RAFAELA.jpg] Ángulo canino derecho: 18.09°\n",
      "[MANDUJANO MORAN RAFAELA.jpg] Ángulo canino izquierdo: 6.55°\n",
      "[MANDUJANO MORAN RAFAELA.jpg] NO EXISTE RIESGO\n"
     ]
    },
    {
     "name": "stderr",
     "output_type": "stream",
     "text": [
      "C:\\Users\\josem/.cache\\torch\\hub\\ultralytics_yolov5_master\\models\\common.py:906: FutureWarning: `torch.cuda.amp.autocast(args...)` is deprecated. Please use `torch.amp.autocast('cuda', args...)` instead.\n",
      "  with amp.autocast(autocast):\n"
     ]
    },
    {
     "name": "stdout",
     "output_type": "stream",
     "text": [
      "[MEDINA SANDOVAL ALONSO (2).jpg] Ángulo canino derecho: 3.13°\n",
      "[MEDINA SANDOVAL ALONSO (2).jpg] Ángulo canino izquierdo: 12.47°\n",
      "[MEDINA SANDOVAL ALONSO (2).jpg] NO EXISTE RIESGO\n"
     ]
    },
    {
     "name": "stderr",
     "output_type": "stream",
     "text": [
      "C:\\Users\\josem/.cache\\torch\\hub\\ultralytics_yolov5_master\\models\\common.py:906: FutureWarning: `torch.cuda.amp.autocast(args...)` is deprecated. Please use `torch.amp.autocast('cuda', args...)` instead.\n",
      "  with amp.autocast(autocast):\n"
     ]
    },
    {
     "name": "stdout",
     "output_type": "stream",
     "text": [
      "[MEZA GARCIA AMALIA.jpg] Ángulo canino derecho: 1.07°\n",
      "[MEZA GARCIA AMALIA.jpg] Ángulo canino izquierdo: 17.64°\n",
      "[MEZA GARCIA AMALIA.jpg] EXISTE RIESGO\n"
     ]
    },
    {
     "name": "stderr",
     "output_type": "stream",
     "text": [
      "C:\\Users\\josem/.cache\\torch\\hub\\ultralytics_yolov5_master\\models\\common.py:906: FutureWarning: `torch.cuda.amp.autocast(args...)` is deprecated. Please use `torch.amp.autocast('cuda', args...)` instead.\n",
      "  with amp.autocast(autocast):\n"
     ]
    },
    {
     "name": "stdout",
     "output_type": "stream",
     "text": [
      "[MEZA GARCIA AMALIA_3.jpg] Ángulo canino derecho: 17.03°\n",
      "[MEZA GARCIA AMALIA_3.jpg] Ángulo canino izquierdo: 12.21°\n",
      "[MEZA GARCIA AMALIA_3.jpg] NO EXISTE RIESGO\n"
     ]
    },
    {
     "name": "stderr",
     "output_type": "stream",
     "text": [
      "C:\\Users\\josem/.cache\\torch\\hub\\ultralytics_yolov5_master\\models\\common.py:906: FutureWarning: `torch.cuda.amp.autocast(args...)` is deprecated. Please use `torch.amp.autocast('cuda', args...)` instead.\n",
      "  with amp.autocast(autocast):\n"
     ]
    },
    {
     "name": "stdout",
     "output_type": "stream",
     "text": [
      "[MILLACOY MELIÑIR MATIAS  (1).jpg] Ángulo canino izquierdo: 13.28°\n",
      "[MILLACOY MELIÑIR MATIAS  (1).jpg] Ángulo canino derecho: 1.21°\n",
      "[MILLACOY MELIÑIR MATIAS  (1).jpg] NO EXISTE RIESGO\n"
     ]
    },
    {
     "name": "stderr",
     "output_type": "stream",
     "text": [
      "C:\\Users\\josem/.cache\\torch\\hub\\ultralytics_yolov5_master\\models\\common.py:906: FutureWarning: `torch.cuda.amp.autocast(args...)` is deprecated. Please use `torch.amp.autocast('cuda', args...)` instead.\n",
      "  with amp.autocast(autocast):\n"
     ]
    },
    {
     "name": "stdout",
     "output_type": "stream",
     "text": [
      "[MUÑOZ MADRID ISIDORA_1.jpg] Ángulo canino izquierdo: 19.17°\n",
      "[MUÑOZ MADRID ISIDORA_1.jpg] Ángulo canino derecho: 2.68°\n",
      "[MUÑOZ MADRID ISIDORA_1.jpg] EXISTE RIESGO\n"
     ]
    },
    {
     "name": "stderr",
     "output_type": "stream",
     "text": [
      "C:\\Users\\josem/.cache\\torch\\hub\\ultralytics_yolov5_master\\models\\common.py:906: FutureWarning: `torch.cuda.amp.autocast(args...)` is deprecated. Please use `torch.amp.autocast('cuda', args...)` instead.\n",
      "  with amp.autocast(autocast):\n"
     ]
    },
    {
     "name": "stdout",
     "output_type": "stream",
     "text": [
      "[NAHUEL GUERRERO CATALINA 28-05-11 (1).jpg] Ángulo canino derecho: 16.58°\n",
      "[NAHUEL GUERRERO CATALINA 28-05-11 (1).jpg] Ángulo canino izquierdo: 15.17°\n",
      "[NAHUEL GUERRERO CATALINA 28-05-11 (1).jpg] EXISTE RIESGO\n"
     ]
    },
    {
     "name": "stderr",
     "output_type": "stream",
     "text": [
      "C:\\Users\\josem/.cache\\torch\\hub\\ultralytics_yolov5_master\\models\\common.py:906: FutureWarning: `torch.cuda.amp.autocast(args...)` is deprecated. Please use `torch.amp.autocast('cuda', args...)` instead.\n",
      "  with amp.autocast(autocast):\n"
     ]
    },
    {
     "name": "stdout",
     "output_type": "stream",
     "text": [
      "[NAVARRETE NECULÑIR MATIAS 10-09-07.jpg] Ángulo canino derecho: 11.22°\n",
      "[NAVARRETE NECULÑIR MATIAS 10-09-07.jpg] Ángulo canino izquierdo: 13.7°\n",
      "[NAVARRETE NECULÑIR MATIAS 10-09-07.jpg] NO EXISTE RIESGO\n"
     ]
    },
    {
     "name": "stderr",
     "output_type": "stream",
     "text": [
      "C:\\Users\\josem/.cache\\torch\\hub\\ultralytics_yolov5_master\\models\\common.py:906: FutureWarning: `torch.cuda.amp.autocast(args...)` is deprecated. Please use `torch.amp.autocast('cuda', args...)` instead.\n",
      "  with amp.autocast(autocast):\n"
     ]
    },
    {
     "name": "stdout",
     "output_type": "stream",
     "text": [
      "[ORTIZ DUATH MAXIMILIANO (2).jpg] Ángulo canino derecho: 0.22°\n",
      "[ORTIZ DUATH MAXIMILIANO (2).jpg] Ángulo canino izquierdo: 14.46°\n",
      "[ORTIZ DUATH MAXIMILIANO (2).jpg] NO EXISTE RIESGO\n"
     ]
    },
    {
     "name": "stderr",
     "output_type": "stream",
     "text": [
      "C:\\Users\\josem/.cache\\torch\\hub\\ultralytics_yolov5_master\\models\\common.py:906: FutureWarning: `torch.cuda.amp.autocast(args...)` is deprecated. Please use `torch.amp.autocast('cuda', args...)` instead.\n",
      "  with amp.autocast(autocast):\n"
     ]
    },
    {
     "name": "stdout",
     "output_type": "stream",
     "text": [
      "[PAILLAL CHEHUAN ALEN 12-09-11 (2).jpg] Ángulo canino izquierdo: 15.25°\n",
      "[PAILLAL CHEHUAN ALEN 12-09-11 (2).jpg] Ángulo canino derecho: 15.96°\n",
      "[PAILLAL CHEHUAN ALEN 12-09-11 (2).jpg] EXISTE RIESGO\n"
     ]
    },
    {
     "name": "stderr",
     "output_type": "stream",
     "text": [
      "C:\\Users\\josem/.cache\\torch\\hub\\ultralytics_yolov5_master\\models\\common.py:906: FutureWarning: `torch.cuda.amp.autocast(args...)` is deprecated. Please use `torch.amp.autocast('cuda', args...)` instead.\n",
      "  with amp.autocast(autocast):\n"
     ]
    },
    {
     "name": "stdout",
     "output_type": "stream",
     "text": [
      "[PAILLAL CHEHUAN ALEN.jpg] Ángulo canino izquierdo: 9.23°\n",
      "[PAILLAL CHEHUAN ALEN.jpg] Ángulo canino derecho: 1.7°\n",
      "[PAILLAL CHEHUAN ALEN.jpg] NO EXISTE RIESGO\n"
     ]
    },
    {
     "name": "stderr",
     "output_type": "stream",
     "text": [
      "C:\\Users\\josem/.cache\\torch\\hub\\ultralytics_yolov5_master\\models\\common.py:906: FutureWarning: `torch.cuda.amp.autocast(args...)` is deprecated. Please use `torch.amp.autocast('cuda', args...)` instead.\n",
      "  with amp.autocast(autocast):\n"
     ]
    },
    {
     "name": "stdout",
     "output_type": "stream",
     "text": [
      "[PAILLAL CHEHUAN ALEN_1.jpg] Ángulo canino derecho: 4.6°\n",
      "[PAILLAL CHEHUAN ALEN_1.jpg] Ángulo canino izquierdo: 16.37°\n",
      "[PAILLAL CHEHUAN ALEN_1.jpg] EXISTE RIESGO\n"
     ]
    },
    {
     "name": "stderr",
     "output_type": "stream",
     "text": [
      "C:\\Users\\josem/.cache\\torch\\hub\\ultralytics_yolov5_master\\models\\common.py:906: FutureWarning: `torch.cuda.amp.autocast(args...)` is deprecated. Please use `torch.amp.autocast('cuda', args...)` instead.\n",
      "  with amp.autocast(autocast):\n"
     ]
    },
    {
     "name": "stdout",
     "output_type": "stream",
     "text": [
      "[POBLETE RIFFO FRANCO (2).jpg] Ángulo canino izquierdo: 10.92°\n",
      "[POBLETE RIFFO FRANCO (2).jpg] Ángulo canino derecho: 2.46°\n",
      "[POBLETE RIFFO FRANCO (2).jpg] NO EXISTE RIESGO\n"
     ]
    },
    {
     "name": "stderr",
     "output_type": "stream",
     "text": [
      "C:\\Users\\josem/.cache\\torch\\hub\\ultralytics_yolov5_master\\models\\common.py:906: FutureWarning: `torch.cuda.amp.autocast(args...)` is deprecated. Please use `torch.amp.autocast('cuda', args...)` instead.\n",
      "  with amp.autocast(autocast):\n"
     ]
    },
    {
     "name": "stdout",
     "output_type": "stream",
     "text": [
      "[RAMOS REDEL BASTIAN (2).jpg] Ángulo canino derecho: 4.69°\n",
      "[RAMOS REDEL BASTIAN (2).jpg] NO EXISTE RIESGO\n"
     ]
    },
    {
     "name": "stderr",
     "output_type": "stream",
     "text": [
      "C:\\Users\\josem/.cache\\torch\\hub\\ultralytics_yolov5_master\\models\\common.py:906: FutureWarning: `torch.cuda.amp.autocast(args...)` is deprecated. Please use `torch.amp.autocast('cuda', args...)` instead.\n",
      "  with amp.autocast(autocast):\n"
     ]
    },
    {
     "name": "stdout",
     "output_type": "stream",
     "text": [
      "[RIQUELME LAGOS MIGUEL.jpg] Ángulo canino izquierdo: 10.1°\n",
      "[RIQUELME LAGOS MIGUEL.jpg] Ángulo canino derecho: 7.57°\n",
      "[RIQUELME LAGOS MIGUEL.jpg] NO EXISTE RIESGO\n"
     ]
    },
    {
     "name": "stderr",
     "output_type": "stream",
     "text": [
      "C:\\Users\\josem/.cache\\torch\\hub\\ultralytics_yolov5_master\\models\\common.py:906: FutureWarning: `torch.cuda.amp.autocast(args...)` is deprecated. Please use `torch.amp.autocast('cuda', args...)` instead.\n",
      "  with amp.autocast(autocast):\n"
     ]
    },
    {
     "name": "stdout",
     "output_type": "stream",
     "text": [
      "[RIVAS ABARZUA FERNANDA  (2)_1.jpg] Ángulo canino izquierdo: 5.58°\n",
      "[RIVAS ABARZUA FERNANDA  (2)_1.jpg] Ángulo canino derecho: 0.22°\n",
      "[RIVAS ABARZUA FERNANDA  (2)_1.jpg] NO EXISTE RIESGO\n"
     ]
    },
    {
     "name": "stderr",
     "output_type": "stream",
     "text": [
      "C:\\Users\\josem/.cache\\torch\\hub\\ultralytics_yolov5_master\\models\\common.py:906: FutureWarning: `torch.cuda.amp.autocast(args...)` is deprecated. Please use `torch.amp.autocast('cuda', args...)` instead.\n",
      "  with amp.autocast(autocast):\n"
     ]
    },
    {
     "name": "stdout",
     "output_type": "stream",
     "text": [
      "[ROMERO IBAÑEZ JOSEFA  (1).jpg] Ángulo canino derecho: 14.96°\n",
      "[ROMERO IBAÑEZ JOSEFA  (1).jpg] NO EXISTE RIESGO\n"
     ]
    },
    {
     "name": "stderr",
     "output_type": "stream",
     "text": [
      "C:\\Users\\josem/.cache\\torch\\hub\\ultralytics_yolov5_master\\models\\common.py:906: FutureWarning: `torch.cuda.amp.autocast(args...)` is deprecated. Please use `torch.amp.autocast('cuda', args...)` instead.\n",
      "  with amp.autocast(autocast):\n"
     ]
    },
    {
     "name": "stdout",
     "output_type": "stream",
     "text": [
      "[SALAZAR GATICA FRANCISCA_1.jpg] Ángulo canino izquierdo: 13.66°\n",
      "[SALAZAR GATICA FRANCISCA_1.jpg] Ángulo canino derecho: 19.49°\n",
      "[SALAZAR GATICA FRANCISCA_1.jpg] NO EXISTE RIESGO\n"
     ]
    },
    {
     "name": "stderr",
     "output_type": "stream",
     "text": [
      "C:\\Users\\josem/.cache\\torch\\hub\\ultralytics_yolov5_master\\models\\common.py:906: FutureWarning: `torch.cuda.amp.autocast(args...)` is deprecated. Please use `torch.amp.autocast('cuda', args...)` instead.\n",
      "  with amp.autocast(autocast):\n"
     ]
    },
    {
     "name": "stdout",
     "output_type": "stream",
     "text": [
      "[SANCHEZ OPASO ANTONELLA (2).jpg] Ángulo canino izquierdo: 13.74°\n",
      "[SANCHEZ OPASO ANTONELLA (2).jpg] Ángulo canino derecho: 12.25°\n",
      "[SANCHEZ OPASO ANTONELLA (2).jpg] NO EXISTE RIESGO\n"
     ]
    },
    {
     "name": "stderr",
     "output_type": "stream",
     "text": [
      "C:\\Users\\josem/.cache\\torch\\hub\\ultralytics_yolov5_master\\models\\common.py:906: FutureWarning: `torch.cuda.amp.autocast(args...)` is deprecated. Please use `torch.amp.autocast('cuda', args...)` instead.\n",
      "  with amp.autocast(autocast):\n"
     ]
    },
    {
     "name": "stdout",
     "output_type": "stream",
     "text": [
      "[SANCHEZ OPAZO AGUSTINA.jpg] Ángulo canino izquierdo: 10.97°\n",
      "[SANCHEZ OPAZO AGUSTINA.jpg] Ángulo canino derecho: 1.75°\n",
      "[SANCHEZ OPAZO AGUSTINA.jpg] NO EXISTE RIESGO\n"
     ]
    },
    {
     "name": "stderr",
     "output_type": "stream",
     "text": [
      "C:\\Users\\josem/.cache\\torch\\hub\\ultralytics_yolov5_master\\models\\common.py:906: FutureWarning: `torch.cuda.amp.autocast(args...)` is deprecated. Please use `torch.amp.autocast('cuda', args...)` instead.\n",
      "  with amp.autocast(autocast):\n"
     ]
    },
    {
     "name": "stdout",
     "output_type": "stream",
     "text": [
      "[SANDOVAL PARADA EMA_1.jpg] Ángulo canino derecho: 19.25°\n",
      "[SANDOVAL PARADA EMA_1.jpg] Ángulo canino izquierdo: 25.55°\n",
      "[SANDOVAL PARADA EMA_1.jpg] EXISTE RIESGO\n"
     ]
    },
    {
     "name": "stderr",
     "output_type": "stream",
     "text": [
      "C:\\Users\\josem/.cache\\torch\\hub\\ultralytics_yolov5_master\\models\\common.py:906: FutureWarning: `torch.cuda.amp.autocast(args...)` is deprecated. Please use `torch.amp.autocast('cuda', args...)` instead.\n",
      "  with amp.autocast(autocast):\n"
     ]
    },
    {
     "name": "stdout",
     "output_type": "stream",
     "text": [
      "[SANDOVAL RAIN AYLIN 06-05-11.jpg] Ángulo canino izquierdo: 6.51°\n",
      "[SANDOVAL RAIN AYLIN 06-05-11.jpg] Ángulo canino derecho: 0.18°\n",
      "[SANDOVAL RAIN AYLIN 06-05-11.jpg] NO EXISTE RIESGO\n"
     ]
    },
    {
     "name": "stderr",
     "output_type": "stream",
     "text": [
      "C:\\Users\\josem/.cache\\torch\\hub\\ultralytics_yolov5_master\\models\\common.py:906: FutureWarning: `torch.cuda.amp.autocast(args...)` is deprecated. Please use `torch.amp.autocast('cuda', args...)` instead.\n",
      "  with amp.autocast(autocast):\n"
     ]
    },
    {
     "name": "stdout",
     "output_type": "stream",
     "text": [
      "[SANDOVAL SANDOVAL CAROLINA.jpg] Ángulo canino izquierdo: 13.02°\n",
      "[SANDOVAL SANDOVAL CAROLINA.jpg] Ángulo canino derecho: 3.8°\n",
      "[SANDOVAL SANDOVAL CAROLINA.jpg] NO EXISTE RIESGO\n"
     ]
    },
    {
     "name": "stderr",
     "output_type": "stream",
     "text": [
      "C:\\Users\\josem/.cache\\torch\\hub\\ultralytics_yolov5_master\\models\\common.py:906: FutureWarning: `torch.cuda.amp.autocast(args...)` is deprecated. Please use `torch.amp.autocast('cuda', args...)` instead.\n",
      "  with amp.autocast(autocast):\n"
     ]
    },
    {
     "name": "stdout",
     "output_type": "stream",
     "text": [
      "[SANHUEZA INOSTROZA ELIZABETH (2).jpg] Ángulo canino derecho: 7.74°\n",
      "[SANHUEZA INOSTROZA ELIZABETH (2).jpg] Ángulo canino izquierdo: 20.67°\n",
      "[SANHUEZA INOSTROZA ELIZABETH (2).jpg] EXISTE RIESGO\n"
     ]
    },
    {
     "name": "stderr",
     "output_type": "stream",
     "text": [
      "C:\\Users\\josem/.cache\\torch\\hub\\ultralytics_yolov5_master\\models\\common.py:906: FutureWarning: `torch.cuda.amp.autocast(args...)` is deprecated. Please use `torch.amp.autocast('cuda', args...)` instead.\n",
      "  with amp.autocast(autocast):\n"
     ]
    },
    {
     "name": "stdout",
     "output_type": "stream",
     "text": [
      "[SANTANDER PERALTA JAVIERA (1).jpg] Ángulo canino derecho: 10.01°\n",
      "[SANTANDER PERALTA JAVIERA (1).jpg] Ángulo canino izquierdo: 16.12°\n",
      "[SANTANDER PERALTA JAVIERA (1).jpg] EXISTE RIESGO\n"
     ]
    },
    {
     "name": "stderr",
     "output_type": "stream",
     "text": [
      "C:\\Users\\josem/.cache\\torch\\hub\\ultralytics_yolov5_master\\models\\common.py:906: FutureWarning: `torch.cuda.amp.autocast(args...)` is deprecated. Please use `torch.amp.autocast('cuda', args...)` instead.\n",
      "  with amp.autocast(autocast):\n"
     ]
    },
    {
     "name": "stdout",
     "output_type": "stream",
     "text": [
      "[SOTO PEREZ FLORENCIA  (2)_1.jpg] Ángulo canino izquierdo: 13.15°\n",
      "[SOTO PEREZ FLORENCIA  (2)_1.jpg] Ángulo canino derecho: 8.53°\n",
      "[SOTO PEREZ FLORENCIA  (2)_1.jpg] NO EXISTE RIESGO\n"
     ]
    },
    {
     "name": "stderr",
     "output_type": "stream",
     "text": [
      "C:\\Users\\josem/.cache\\torch\\hub\\ultralytics_yolov5_master\\models\\common.py:906: FutureWarning: `torch.cuda.amp.autocast(args...)` is deprecated. Please use `torch.amp.autocast('cuda', args...)` instead.\n",
      "  with amp.autocast(autocast):\n"
     ]
    },
    {
     "name": "stdout",
     "output_type": "stream",
     "text": [
      "[TERAN TORO CINTHIA.jpg] Ángulo canino izquierdo: 19.93°\n",
      "[TERAN TORO CINTHIA.jpg] EXISTE RIESGO\n"
     ]
    },
    {
     "name": "stderr",
     "output_type": "stream",
     "text": [
      "C:\\Users\\josem/.cache\\torch\\hub\\ultralytics_yolov5_master\\models\\common.py:906: FutureWarning: `torch.cuda.amp.autocast(args...)` is deprecated. Please use `torch.amp.autocast('cuda', args...)` instead.\n",
      "  with amp.autocast(autocast):\n"
     ]
    },
    {
     "name": "stdout",
     "output_type": "stream",
     "text": [
      "[TILLERIA SEPULVEDA JAVIERA  (2).jpg] Ángulo canino izquierdo: 10.36°\n",
      "[TILLERIA SEPULVEDA JAVIERA  (2).jpg] NO EXISTE RIESGO\n"
     ]
    },
    {
     "name": "stderr",
     "output_type": "stream",
     "text": [
      "C:\\Users\\josem/.cache\\torch\\hub\\ultralytics_yolov5_master\\models\\common.py:906: FutureWarning: `torch.cuda.amp.autocast(args...)` is deprecated. Please use `torch.amp.autocast('cuda', args...)` instead.\n",
      "  with amp.autocast(autocast):\n"
     ]
    },
    {
     "name": "stdout",
     "output_type": "stream",
     "text": [
      "[TORRES ARANCIBIA AGUSTIN  (1)_1.jpg] Ángulo canino izquierdo: 1.97°\n",
      "[TORRES ARANCIBIA AGUSTIN  (1)_1.jpg] Ángulo canino derecho: 11.4°\n",
      "[TORRES ARANCIBIA AGUSTIN  (1)_1.jpg] NO EXISTE RIESGO\n"
     ]
    },
    {
     "name": "stderr",
     "output_type": "stream",
     "text": [
      "C:\\Users\\josem/.cache\\torch\\hub\\ultralytics_yolov5_master\\models\\common.py:906: FutureWarning: `torch.cuda.amp.autocast(args...)` is deprecated. Please use `torch.amp.autocast('cuda', args...)` instead.\n",
      "  with amp.autocast(autocast):\n"
     ]
    },
    {
     "name": "stdout",
     "output_type": "stream",
     "text": [
      "[TORRES CALAPAY NEZARET 01-09-07 (1).jpg] Ángulo canino izquierdo: 15.46°\n",
      "[TORRES CALAPAY NEZARET 01-09-07 (1).jpg] EXISTE RIESGO\n"
     ]
    },
    {
     "name": "stderr",
     "output_type": "stream",
     "text": [
      "C:\\Users\\josem/.cache\\torch\\hub\\ultralytics_yolov5_master\\models\\common.py:906: FutureWarning: `torch.cuda.amp.autocast(args...)` is deprecated. Please use `torch.amp.autocast('cuda', args...)` instead.\n",
      "  with amp.autocast(autocast):\n"
     ]
    },
    {
     "name": "stdout",
     "output_type": "stream",
     "text": [
      "[UMANZOR FERNANDEZ ANTONELLA.jpg] Ángulo canino izquierdo: 8.84°\n",
      "[UMANZOR FERNANDEZ ANTONELLA.jpg] Ángulo canino derecho: 13.02°\n",
      "[UMANZOR FERNANDEZ ANTONELLA.jpg] NO EXISTE RIESGO\n"
     ]
    },
    {
     "name": "stderr",
     "output_type": "stream",
     "text": [
      "C:\\Users\\josem/.cache\\torch\\hub\\ultralytics_yolov5_master\\models\\common.py:906: FutureWarning: `torch.cuda.amp.autocast(args...)` is deprecated. Please use `torch.amp.autocast('cuda', args...)` instead.\n",
      "  with amp.autocast(autocast):\n"
     ]
    },
    {
     "name": "stdout",
     "output_type": "stream",
     "text": [
      "[UMANZOR FERNANDEZ_ ANTONELLA (1).jpg] Ángulo canino izquierdo: 20.91°\n",
      "[UMANZOR FERNANDEZ_ ANTONELLA (1).jpg] Ángulo canino derecho: 14.04°\n",
      "[UMANZOR FERNANDEZ_ ANTONELLA (1).jpg] EXISTE RIESGO\n"
     ]
    },
    {
     "name": "stderr",
     "output_type": "stream",
     "text": [
      "C:\\Users\\josem/.cache\\torch\\hub\\ultralytics_yolov5_master\\models\\common.py:906: FutureWarning: `torch.cuda.amp.autocast(args...)` is deprecated. Please use `torch.amp.autocast('cuda', args...)` instead.\n",
      "  with amp.autocast(autocast):\n"
     ]
    },
    {
     "name": "stdout",
     "output_type": "stream",
     "text": [
      "[VARAS VALDEBENITO EZEQUIEL_1.jpg] Ángulo canino izquierdo: 26.99°\n",
      "[VARAS VALDEBENITO EZEQUIEL_1.jpg] Ángulo canino derecho: 17.11°\n",
      "[VARAS VALDEBENITO EZEQUIEL_1.jpg] EXISTE RIESGO\n"
     ]
    },
    {
     "name": "stderr",
     "output_type": "stream",
     "text": [
      "C:\\Users\\josem/.cache\\torch\\hub\\ultralytics_yolov5_master\\models\\common.py:906: FutureWarning: `torch.cuda.amp.autocast(args...)` is deprecated. Please use `torch.amp.autocast('cuda', args...)` instead.\n",
      "  with amp.autocast(autocast):\n"
     ]
    },
    {
     "name": "stdout",
     "output_type": "stream",
     "text": [
      "[VASQUEZ MANRIQUEZ MAXIMILIANO  (2).jpg] Ángulo canino izquierdo: 13.44°\n",
      "[VASQUEZ MANRIQUEZ MAXIMILIANO  (2).jpg] Ángulo canino derecho: 9.84°\n",
      "[VASQUEZ MANRIQUEZ MAXIMILIANO  (2).jpg] NO EXISTE RIESGO\n"
     ]
    },
    {
     "name": "stderr",
     "output_type": "stream",
     "text": [
      "C:\\Users\\josem/.cache\\torch\\hub\\ultralytics_yolov5_master\\models\\common.py:906: FutureWarning: `torch.cuda.amp.autocast(args...)` is deprecated. Please use `torch.amp.autocast('cuda', args...)` instead.\n",
      "  with amp.autocast(autocast):\n"
     ]
    },
    {
     "name": "stdout",
     "output_type": "stream",
     "text": [
      "[VASQUEZ MANRIQUEZ MAXIMILIANO_1.jpg] Ángulo canino izquierdo: 12.98°\n",
      "[VASQUEZ MANRIQUEZ MAXIMILIANO_1.jpg] Ángulo canino derecho: 3.84°\n",
      "[VASQUEZ MANRIQUEZ MAXIMILIANO_1.jpg] NO EXISTE RIESGO\n"
     ]
    },
    {
     "name": "stderr",
     "output_type": "stream",
     "text": [
      "C:\\Users\\josem/.cache\\torch\\hub\\ultralytics_yolov5_master\\models\\common.py:906: FutureWarning: `torch.cuda.amp.autocast(args...)` is deprecated. Please use `torch.amp.autocast('cuda', args...)` instead.\n",
      "  with amp.autocast(autocast):\n"
     ]
    },
    {
     "name": "stdout",
     "output_type": "stream",
     "text": [
      "[VEGA PAREDES CATALINA 16-10-03 (1).jpg] Ángulo canino izquierdo: 20.04°\n",
      "[VEGA PAREDES CATALINA 16-10-03 (1).jpg] Ángulo canino derecho: 3.93°\n",
      "[VEGA PAREDES CATALINA 16-10-03 (1).jpg] EXISTE RIESGO\n"
     ]
    },
    {
     "name": "stderr",
     "output_type": "stream",
     "text": [
      "C:\\Users\\josem/.cache\\torch\\hub\\ultralytics_yolov5_master\\models\\common.py:906: FutureWarning: `torch.cuda.amp.autocast(args...)` is deprecated. Please use `torch.amp.autocast('cuda', args...)` instead.\n",
      "  with amp.autocast(autocast):\n"
     ]
    },
    {
     "name": "stdout",
     "output_type": "stream",
     "text": [
      "[VELASQUEZ MORALES ANTONIO (2)_1.jpg] Ángulo canino izquierdo: 18.0°\n",
      "[VELASQUEZ MORALES ANTONIO (2)_1.jpg] Ángulo canino derecho: 1.61°\n",
      "[VELASQUEZ MORALES ANTONIO (2)_1.jpg] EXISTE RIESGO\n"
     ]
    },
    {
     "name": "stderr",
     "output_type": "stream",
     "text": [
      "C:\\Users\\josem/.cache\\torch\\hub\\ultralytics_yolov5_master\\models\\common.py:906: FutureWarning: `torch.cuda.amp.autocast(args...)` is deprecated. Please use `torch.amp.autocast('cuda', args...)` instead.\n",
      "  with amp.autocast(autocast):\n"
     ]
    },
    {
     "name": "stdout",
     "output_type": "stream",
     "text": [
      "[VELIZ MARDONES KATHERINE (2)_1.jpg] Ángulo canino izquierdo: 11.7°\n",
      "[VELIZ MARDONES KATHERINE (2)_1.jpg] Ángulo canino derecho: 7.61°\n",
      "[VELIZ MARDONES KATHERINE (2)_1.jpg] NO EXISTE RIESGO\n"
     ]
    },
    {
     "name": "stderr",
     "output_type": "stream",
     "text": [
      "C:\\Users\\josem/.cache\\torch\\hub\\ultralytics_yolov5_master\\models\\common.py:906: FutureWarning: `torch.cuda.amp.autocast(args...)` is deprecated. Please use `torch.amp.autocast('cuda', args...)` instead.\n",
      "  with amp.autocast(autocast):\n"
     ]
    },
    {
     "name": "stdout",
     "output_type": "stream",
     "text": [
      "[VENEGAS LUENGO ISIDORA.jpg] Ángulo canino derecho: 7.74°\n",
      "[VENEGAS LUENGO ISIDORA.jpg] Ángulo canino izquierdo: 18.53°\n",
      "[VENEGAS LUENGO ISIDORA.jpg] EXISTE RIESGO\n"
     ]
    },
    {
     "name": "stderr",
     "output_type": "stream",
     "text": [
      "C:\\Users\\josem/.cache\\torch\\hub\\ultralytics_yolov5_master\\models\\common.py:906: FutureWarning: `torch.cuda.amp.autocast(args...)` is deprecated. Please use `torch.amp.autocast('cuda', args...)` instead.\n",
      "  with amp.autocast(autocast):\n"
     ]
    },
    {
     "name": "stdout",
     "output_type": "stream",
     "text": [
      "[VERA CEBALLOS JAVIERA  (2)_1.jpg] Ángulo canino derecho: 23.52°\n",
      "[VERA CEBALLOS JAVIERA  (2)_1.jpg] NO EXISTE RIESGO\n"
     ]
    },
    {
     "name": "stderr",
     "output_type": "stream",
     "text": [
      "C:\\Users\\josem/.cache\\torch\\hub\\ultralytics_yolov5_master\\models\\common.py:906: FutureWarning: `torch.cuda.amp.autocast(args...)` is deprecated. Please use `torch.amp.autocast('cuda', args...)` instead.\n",
      "  with amp.autocast(autocast):\n"
     ]
    },
    {
     "name": "stdout",
     "output_type": "stream",
     "text": [
      "[YAGODE CASTRO ALEJANDRO.jpg] Ángulo canino izquierdo: 18.13°\n",
      "[YAGODE CASTRO ALEJANDRO.jpg] Ángulo canino derecho: 10.49°\n",
      "[YAGODE CASTRO ALEJANDRO.jpg] EXISTE RIESGO\n"
     ]
    }
   ],
   "source": [
    "# SOLO PARA CANINO IZQUIERDO\n",
    "\n",
    "import os\n",
    "import cv2\n",
    "import torch\n",
    "import numpy as np\n",
    "import math\n",
    "from PIL import Image\n",
    "from torchvision import transforms\n",
    "\n",
    "# =============================================\n",
    "# CONFIGURACIÓN\n",
    "# =============================================\n",
    "input_dir = \"can_der/DERECHO_MAYOR_15\"     # Carpeta con imágenes de entrada\n",
    "output_dir = \"quinto_modelo/derecho_mayor_15\"  # Carpeta para guardar resultados\n",
    "model_path = \"models/modelo5.pth\"\n",
    "yolo_model_path = \"models/tooth_detection.pt\"\n",
    "\n",
    "IMG_HEIGHT = 256\n",
    "IMG_WIDTH = 256\n",
    "NUM_CLASSES = 2\n",
    "CONF_THRESHOLD = 0.8\n",
    "\n",
    "os.makedirs(output_dir, exist_ok=True)\n",
    "\n",
    "# =============================================\n",
    "# CARGA DE MODELOS\n",
    "# =============================================\n",
    "from tooth_shape_model_unet import UNet  # Asegúrate de que esto esté en el entorno o en sys.path\n",
    "\n",
    "device = torch.device('cuda' if torch.cuda.is_available() else 'cpu')\n",
    "\n",
    "# Modelo U-Net para segmentación\n",
    "shape_unet = UNet(num_classes=NUM_CLASSES).to(device)\n",
    "shape_unet.load_state_dict(torch.load(model_path, map_location=device))\n",
    "shape_unet.eval()\n",
    "\n",
    "# Modelo YOLOv5 para detección\n",
    "model = torch.hub.load('ultralytics/yolov5', 'custom', path=yolo_model_path, force_reload=False).to(device)\n",
    "model.conf = CONF_THRESHOLD\n",
    "\n",
    "# Transformaciones para la U-Net\n",
    "infer_transform = transforms.Compose([\n",
    "    transforms.Resize((IMG_HEIGHT, IMG_WIDTH)),\n",
    "    transforms.ToTensor(),\n",
    "])\n",
    "\n",
    "# =============================================\n",
    "# DEFINICIÓN DE FUNCIONES PERSONALIZADAS\n",
    "# =============================================\n",
    "def calculate_line_intersection(line1_p1, line1_p2, line2_p1, line2_p2):\n",
    "    \"\"\"\n",
    "    Calcula el punto de intersección entre dos líneas definidas por dos puntos cada una.\n",
    "    Si las líneas son paralelas o no se intersectan dentro de los límites de la imagen, devuelve None.\n",
    "    \n",
    "    Args:\n",
    "        line1_p1, line1_p2: Puntos que definen la primera línea\n",
    "        line2_p1, line2_p2: Puntos que definen la segunda línea\n",
    "        \n",
    "    Returns:\n",
    "        tuple: Coordenadas (x, y) del punto de intersección o None si no hay intersección\n",
    "    \"\"\"\n",
    "    # Línea 1: (x1, y1) a (x2, y2)\n",
    "    x1, y1 = line1_p1\n",
    "    x2, y2 = line1_p2\n",
    "    \n",
    "    # Línea 2: (x3, y3) a (x4, y4)\n",
    "    x3, y3 = line2_p1\n",
    "    x4, y4 = line2_p2\n",
    "    \n",
    "    # Calcular denominador para verificar si las líneas son paralelas\n",
    "    denom = (y4 - y3) * (x2 - x1) - (x4 - x3) * (y2 - y1)\n",
    "    \n",
    "    if denom == 0:  # Líneas paralelas\n",
    "        return None\n",
    "    \n",
    "    # Calcular el punto de intersección\n",
    "    ua = ((x4 - x3) * (y1 - y3) - (y4 - y3) * (x1 - x3)) / denom\n",
    "    \n",
    "    # Punto de intersección\n",
    "    x = x1 + ua * (x2 - x1)\n",
    "    y = y1 + ua * (y2 - y1)\n",
    "    \n",
    "    return (int(x), int(y))\n",
    "def extend_line_to_boundaries(point1, point2, img_width, img_height, midline_x=None):\n",
    "    \"\"\"\n",
    "    Extiende una línea definida por dos puntos hasta los límites de la imagen o hasta intersectar con la línea media.\n",
    "    \n",
    "    Args:\n",
    "        point1 (tuple): Coordenadas (x, y) del primer punto.\n",
    "        point2 (tuple): Coordenadas (x, y) del segundo punto.\n",
    "        img_width (int): Ancho de la imagen.\n",
    "        img_height (int): Alto de la imagen.\n",
    "        midline_x (int, opcional): Coordenada x de la línea media. Si se proporciona, la línea se extenderá hasta esta línea.\n",
    "        \n",
    "    Returns:\n",
    "        tuple: Un par de tuplas con las coordenadas de los puntos extendidos (p1_extended, p2_extended).\n",
    "    \"\"\"\n",
    "    x1, y1 = point1\n",
    "    x2, y2 = point2\n",
    "    \n",
    "    # Si los puntos son iguales, no se puede definir una dirección\n",
    "    if x1 == x2 and y1 == y2:\n",
    "        return point1, point2\n",
    "    \n",
    "    # Calcular la dirección de la línea\n",
    "    dx = x2 - x1\n",
    "    dy = y2 - y1\n",
    "    \n",
    "    # Si la línea es vertical\n",
    "    if dx == 0:\n",
    "        # Extender hasta los bordes superior e inferior\n",
    "        return (x1, 0), (x1, img_height)\n",
    "    \n",
    "    # Calcular la pendiente y el intercepto\n",
    "    m = dy / dx\n",
    "    b = y1 - m * x1\n",
    "    \n",
    "    # Puntos extendidos\n",
    "    extended_points = []\n",
    "    \n",
    "    # Si hay una línea media definida, calcular la intersección con ella\n",
    "    if midline_x is not None:\n",
    "        # Calcular el punto de intersección con la línea media\n",
    "        y_intersect = m * midline_x + b\n",
    "        \n",
    "        # Verificar si la intersección está dentro de los límites de la imagen\n",
    "        if 0 <= y_intersect <= img_height:\n",
    "            # Determinar en qué lado de la línea media está el punto original\n",
    "            if (x1 < midline_x and x2 < midline_x) or (x1 > midline_x and x2 > midline_x):\n",
    "                # Ambos puntos están en el mismo lado de la línea media\n",
    "                # Extender hasta la línea media en una dirección\n",
    "                if x1 < midline_x:\n",
    "                    extended_points.append((midline_x, int(y_intersect)))\n",
    "                else:\n",
    "                    extended_points.append((midline_x, int(y_intersect)))\n",
    "            elif (x1 < midline_x and x2 > midline_x) or (x1 > midline_x and x2 < midline_x):\n",
    "                # No es necesario extender hasta la línea media\n",
    "                pass\n",
    "    \n",
    "    # Intersecciones con los bordes de la imagen\n",
    "    \n",
    "    # Intersección con y=0 (borde superior)\n",
    "    if abs(m) > 0.0001:  # No es una línea horizontal\n",
    "        x_top = (0 - b) / m\n",
    "        if 0 <= x_top <= img_width:\n",
    "            extended_points.append((int(x_top), 0))\n",
    "    \n",
    "    # Intersección con y=img_height (borde inferior)\n",
    "    if abs(m) > 0.0001:  # No es una línea horizontal\n",
    "        x_bottom = (img_height - b) / m\n",
    "        if 0 <= x_bottom <= img_width:\n",
    "            extended_points.append((int(x_bottom), img_height))\n",
    "    \n",
    "    # Intersección con x=0 (borde izquierdo)\n",
    "    y_left = b\n",
    "    if 0 <= y_left <= img_height:\n",
    "        extended_points.append((0, int(y_left)))\n",
    "    \n",
    "    # Intersección con x=img_width (borde derecho)\n",
    "    y_right = m * img_width + b\n",
    "    if 0 <= y_right <= img_height:\n",
    "        extended_points.append((img_width, int(y_right)))\n",
    "    \n",
    "    # Si no hay suficientes puntos de intersección, usar los puntos originales\n",
    "    if len(extended_points) < 2:\n",
    "        return point1, point2\n",
    "    \n",
    "    # Ordenar los puntos extendidos según su distancia desde el punto medio entre p1 y p2\n",
    "    midpoint = ((x1 + x2) / 2, (y1 + y2) / 2)\n",
    "    \n",
    "    # Si estamos del lado izquierdo de la línea media y queremos extender hacia la línea media\n",
    "    if midline_x is not None and (x1 < midline_x and x2 < midline_x):\n",
    "        # Encontrar el punto más cercano al borde y el punto más cercano a la línea media\n",
    "        points_sorted = sorted(extended_points, key=lambda p: p[0])  # Ordenar por coordenada x\n",
    "        return points_sorted[0], points_sorted[-1]  # El primero es el más a la izquierda, el último es el más a la derecha\n",
    "    \n",
    "    # Si estamos del lado derecho de la línea media y queremos extender hacia la línea media\n",
    "    elif midline_x is not None and (x1 > midline_x and x2 > midline_x):\n",
    "        # Encontrar el punto más cercano al borde y el punto más cercano a la línea media\n",
    "        points_sorted = sorted(extended_points, key=lambda p: p[0], reverse=True)  # Ordenar por coordenada x (reverso)\n",
    "        return points_sorted[0], points_sorted[-1]  # El primero es el más a la derecha, el último es el más a la izquierda\n",
    "    \n",
    "    # En otros casos, simplemente usar las dos intersecciones más alejadas entre sí\n",
    "    else:\n",
    "        # Calcular todas las combinaciones de distancias entre puntos\n",
    "        max_dist = 0\n",
    "        p1_ext, p2_ext = extended_points[0], extended_points[1]\n",
    "        \n",
    "        for i in range(len(extended_points)):\n",
    "            for j in range(i + 1, len(extended_points)):\n",
    "                dist = math.sqrt((extended_points[i][0] - extended_points[j][0])**2 + \n",
    "                                (extended_points[i][1] - extended_points[j][1])**2)\n",
    "                if dist > max_dist:\n",
    "                    max_dist = dist\n",
    "                    p1_ext, p2_ext = extended_points[i], extended_points[j]\n",
    "        \n",
    "        return p1_ext, p2_ext\n",
    "def get_center(detection):\n",
    "    xmin, ymin, xmax, ymax = map(int, [detection['xmin'], detection['ymin'], \n",
    "                                      detection['xmax'], detection['ymax']])\n",
    "    cx = (xmin + xmax) // 2\n",
    "    cy = (ymin + ymax) // 2\n",
    "    return (cx, cy)\n",
    "def get_corners(detection, side):\n",
    "    if side == 'izq':\n",
    "        return (int(detection['xmax']), int(detection['ymax'])), (int(detection['xmin']), int(detection['ymin']))\n",
    "    elif side == 'der':\n",
    "        return (int(detection['xmin']), int(detection['ymax'])), (int(detection['xmax']), int(detection['ymin']))\n",
    "    else:   \n",
    "        raise ValueError(\"Lado no válido. Debe ser 'izq' o 'der'.\")\n",
    "def segment_full_and_crop(orig_img, roi_coords):\n",
    "    # Segmenta toda la imagen y recorta ROI\n",
    "    img_rgb = cv2.cvtColor(orig_img, cv2.COLOR_BGR2RGB)\n",
    "    pil = Image.fromarray(img_rgb)\n",
    "    x = infer_transform(pil).unsqueeze(0).to(device)\n",
    "    with torch.no_grad():\n",
    "        logits = shape_unet(x)\n",
    "        probs  = torch.softmax(logits, dim=1)[0]  # [3,H,W]\n",
    "\n",
    "    # si side=='left'\n",
    "    ch = probs[1]\n",
    "    heatmap = (ch.cpu().numpy() * 255).astype(np.uint8)\n",
    "    h, w = orig_img.shape[:2]\n",
    "    heatmap_full = cv2.resize(heatmap, (w, h), interpolation=cv2.INTER_LINEAR)\n",
    "    cv2.imwrite(f\"debug/heat_full_{side}.png\", heatmap_full)\n",
    "    chan = probs[1]\n",
    "    mask = (chan.cpu().numpy() > 0.03).astype(np.uint8) * 255\n",
    "    \n",
    "    mask = (chan.cpu().numpy() > 0.03).astype(np.uint8) * 255\n",
    "    # redimensionar a full-res\n",
    "    h,w = orig_img.shape[:2]\n",
    "    mask_full = cv2.resize(mask,(w,h),interpolation=cv2.INTER_NEAREST)\n",
    "    # recortar\n",
    "    # x1,y1,x2,y2 = roi_coords\n",
    "    return mask_full\n",
    "def calculate_angle(line_p1, line_p2, vertical_line_x):\n",
    "    \"\"\"\n",
    "    Calcula el ángulo entre una línea definida por dos puntos y una línea vertical.\n",
    "    \n",
    "    Args:\n",
    "        line_p1 (tuple): Primer punto de la línea.\n",
    "        line_p2 (tuple): Segundo punto de la línea.\n",
    "        vertical_line_x (int): Coordenada x de la línea vertical.\n",
    "        \n",
    "    Returns:\n",
    "        float: Ángulo en grados entre las líneas.\n",
    "    \"\"\"\n",
    "    # Verificar que los puntos no sean iguales\n",
    "    if line_p1[0] == line_p2[0] and line_p1[1] == line_p2[1]:\n",
    "        return 0  # No se puede calcular el ángulo si los puntos son iguales\n",
    "    \n",
    "    # Vector de la línea\n",
    "    vector_line = (line_p2[0] - line_p1[0], line_p2[1] - line_p1[1])\n",
    "    \n",
    "    # Vector de la línea vertical (0, 1) normalizado\n",
    "    vector_vertical = (0, 1)\n",
    "    \n",
    "    # Calcular el ángulo entre los vectores usando el producto punto\n",
    "    # Normalizar los vectores\n",
    "    magnitude_line = math.sqrt(vector_line[0]**2 + vector_line[1]**2)\n",
    "    \n",
    "    if magnitude_line == 0:\n",
    "        return 0\n",
    "    \n",
    "    unit_vector_line = (vector_line[0] / magnitude_line, vector_line[1] / magnitude_line)\n",
    "    \n",
    "    # Producto punto de los vectores unitarios\n",
    "    dot_product = unit_vector_line[0] * vector_vertical[0] + unit_vector_line[1] * vector_vertical[1]\n",
    "    \n",
    "    # Asegurarse de que el producto punto esté en el rango [-1, 1]\n",
    "    dot_product = max(-1.0, min(1.0, dot_product))\n",
    "    \n",
    "    # Calcular el ángulo en radianes y convertirlo a grados\n",
    "    angle_rad = math.acos(dot_product)\n",
    "    angle_deg = math.degrees(angle_rad)\n",
    "    \n",
    "    # Determinar la dirección del ángulo (positivo o negativo)\n",
    "    # Si el punto p2 está a la derecha de la línea vertical, el ángulo es positivo\n",
    "    # Si está a la izquierda, el ángulo es negativo\n",
    "    direction = 1 if (line_p1[0] < vertical_line_x and line_p2[0] > vertical_line_x) or \\\n",
    "                    (line_p1[0] > vertical_line_x and line_p2[0] < vertical_line_x and line_p1[1] > line_p2[1]) else -1\n",
    "    \n",
    "    # Ajustar el ángulo según el cuadrante\n",
    "    if unit_vector_line[0] < 0:\n",
    "        angle_deg = 180 - angle_deg\n",
    "    \n",
    "    # Asegurarse de que el ángulo esté entre 0 y 180 grados\n",
    "    if angle_deg > 90:\n",
    "        angle_deg = 180 - angle_deg\n",
    "        \n",
    "    return angle_deg * direction\n",
    "def process_and_draw_canine(det, orig_img, side, inc_center_x=None):\n",
    "    coords = (int(det['xmin']), int(det['ymin']), int(det['xmax']), int(det['ymax']))\n",
    "    # Extraemos Cordenadas\n",
    "    x1, y1, x2, y2 = coords\n",
    "    roi = orig_img[coords[1]:coords[3], coords[0]:coords[2]]\n",
    "    # 1) Segmentar\n",
    "    mask_roi = segment_full_and_crop(roi, coords)\n",
    "    cv2.imwrite(f\"debug/mask_roi_{side}.png\", mask_roi)\n",
    "    # 2) Extraer contorno\n",
    "    cnts,_ = cv2.findContours(mask_roi,cv2.RETR_EXTERNAL,cv2.CHAIN_APPROX_SIMPLE)\n",
    "    if not cnts: return orig_img\n",
    "    contour = max(cnts, key=cv2.contourArea).reshape(-1,2).astype(np.float32)\n",
    "    # 3) PCA\n",
    "    mean,vecs,_ = cv2.PCACompute2(contour, mean=None)\n",
    "    axis = vecs[0]\n",
    "    # 4) Extremos\n",
    "    dif = contour - mean\n",
    "    projs = dif.dot(axis.T)\n",
    "    p1 = list(contour[np.argmin(projs)].astype(int))\n",
    "    p2 = list(contour[np.argmax(projs)].astype(int))\n",
    "    if p1[1] > p2[1]: p1, p2 = p2, p1\n",
    "    \n",
    "    # Coordenadas punto 1\n",
    "    p1x = p1[0]\n",
    "    p1y = p1[1]\n",
    "    # Coordenadas punto 2\n",
    "    p2x = p2[0]\n",
    "    p2y = p2[1]\n",
    "    \n",
    "    if (side == \"izq\") and (p1x > p2x):\n",
    "        p1[1] = p2y\n",
    "        p2[1] = p1y\n",
    "    if (side == \"der\") and (p1x < p2x):\n",
    "        p1[1] = p2y\n",
    "        p2[1] = p1y\n",
    "        \n",
    "    # Ajustar a coords global\n",
    "    p1g = (p1[0]+coords[0], p1[1]+coords[1])\n",
    "    p2g = (p2[0]+coords[0], p2[1]+coords[1])\n",
    "    # 5) Dibujar\n",
    "    cv2.circle(orig_img, p1g, 4,(0,255,0),-1)\n",
    "    cv2.circle(orig_img, p2g, 4,(0,255,0),-1)\n",
    "\n",
    "    # Agregar punto (sacar despues)\n",
    "    cv2.putText(orig_img, 'p1', (p1g[0] + 10, p1g[1] - 10), cv2.FONT_HERSHEY_SIMPLEX, 0.5, (0, 255, 0), 2)\n",
    "    cv2.putText(orig_img, 'p2', (p2g[0] + 10, p2g[1] - 10), cv2.FONT_HERSHEY_SIMPLEX, 0.5, (0, 255, 0), 2)\n",
    "    \n",
    "    # Extender la línea hasta los límites de la imagen o hasta la línea media\n",
    "    h, w = orig_img.shape[:2]\n",
    "    midline_x = inc_center_x if inc_center_x is not None else None\n",
    "    \n",
    "    exp1, exp2 = extend_line_to_boundaries(p1g, p2g, w, h, midline_x)\n",
    "    \n",
    "    cv2.line(orig_img, exp1, exp2, (0,0,255), 2)\n",
    "    \n",
    "    # Para los angulos\n",
    "    # Coordenada central en X\n",
    "    center_x = (x1 + x2) // 2\n",
    "    # Coordenada para poner el texto justo debajo de la caja\n",
    "    text_y = y2 + 30\n",
    "\n",
    "    if midline_x is not None:\n",
    "        midline_top = (midline_x, 0)\n",
    "        midline_bottom = (midline_x, h)\n",
    "        intersection = calculate_line_intersection(exp1, exp2, midline_top, midline_bottom)\n",
    "        \n",
    "        if intersection:\n",
    "            cv2.circle(orig_img, intersection, 6, (255, 0, 255), -1)\n",
    "            angle = calculate_angle(exp1, exp2, midline_x)\n",
    "            angle_text = f\"Angulo: {abs(round(angle,2))} Deg\"\n",
    "            cv2.putText(orig_img, angle_text, \n",
    "            (center_x - 50, text_y),  # desplazamos 50 px a la izquierda para centrar mejor el texto\n",
    "            cv2.FONT_HERSHEY_SIMPLEX, 0.7, (255, 0, 255), 2)\n",
    "            \n",
    "            radius = 40\n",
    "            start_angle = 90\n",
    "            \n",
    "            if angle < 0:\n",
    "                end_angle = 90 - abs(angle)\n",
    "            else:\n",
    "                end_angle = 90 + abs(angle)\n",
    "            \n",
    "            cv2.ellipse(orig_img, intersection, (radius, radius), \n",
    "                        0, min(start_angle, end_angle), max(start_angle, end_angle), \n",
    "                        (255, 0, 255), 2)\n",
    "            \n",
    "            #cv2.putText(orig_img, \"Intersección\", \n",
    "             #          (intersection[0] + 10, intersection[1]), \n",
    "              #         cv2.FONT_HERSHEY_SIMPLEX, 0.5, (255, 0, 255), 2)\n",
    "    \n",
    "    return angle # Se elimino orig_image ya que no era necesario\n",
    "\n",
    "\n",
    "# =============================================\n",
    "# PROCESAMIENTO POR LOTE\n",
    "# =============================================\n",
    "imagenes = [f for f in os.listdir(input_dir) if f.lower().endswith(('.jpg', '.jpeg', '.png'))]\n",
    "\n",
    "for nombre in imagenes:\n",
    "    img_path = os.path.join(input_dir, nombre)\n",
    "    img = cv2.imread(img_path)\n",
    "\n",
    "    if img is None:\n",
    "        print(f\"ERROR al leer {nombre}\")\n",
    "        continue\n",
    "\n",
    "    orig = img.copy()\n",
    "    height, width = img.shape[:2]\n",
    "\n",
    "    # === Inferencia YOLOv5 ===\n",
    "    df = model(img).pandas().xyxy[0]\n",
    "    detections_inc = df[df['name'] == 'inc']\n",
    "    detections_can = df[df['name'] == 'canine']\n",
    "\n",
    "    # === Línea media ===\n",
    "    inc_center = None\n",
    "    if len(detections_inc) > 0:\n",
    "        inc = detections_inc.sort_values('confidence', ascending=False).iloc[0]\n",
    "        inc_center = get_center(inc)\n",
    "        cv2.line(orig, (inc_center[0], 0), (inc_center[0], height), (0, 255, 0), 2)\n",
    "        cv2.putText(orig, 'Línea media', (inc_center[0] + 10, 30), cv2.FONT_HERSHEY_SIMPLEX, 0.7, (0, 255, 0), 2)\n",
    "    else:\n",
    "        print(f\"[{nombre}] No se detectaron incisivos\")\n",
    "        continue\n",
    "\n",
    "    # === Procesamiento de caninos ===\n",
    "    riesgo = False\n",
    "    for _, det in detections_can.iterrows():\n",
    "        center = get_center(det)\n",
    "        side = 'izq' if center[0] < inc_center[0] else 'der'\n",
    "        x1, y1, x2, y2 = map(int, [det['xmin'], det['ymin'], det['xmax'], det['ymax']])\n",
    "        color = (255, 0, 0) if side == 'izq' else (0, 0, 255)\n",
    "        cv2.rectangle(orig, (x1, y1), (x2, y2), color, 2)\n",
    "        cv2.putText(orig, f\"Canino {side}\", (x1, y1 - 10), cv2.FONT_HERSHEY_SIMPLEX, 0.5, color, 2)\n",
    "        cv2.circle(orig, center, 5, color, -1)\n",
    "\n",
    "        try:\n",
    "            angle = process_and_draw_canine(det, orig, side, inc_center[0])\n",
    "\n",
    "            if angle is None:\n",
    "                print(f\"[{nombre}] No se pudo calcular el ángulo del canino {side}\")\n",
    "                continue\n",
    "\n",
    "            # Si es array de un solo valor\n",
    "            if isinstance(angle, np.ndarray) and angle.size == 1:\n",
    "                angle = angle.item()\n",
    "\n",
    "            # Si es tupla o lista: no válida\n",
    "            elif isinstance(angle, (tuple, list)):\n",
    "                print(f\"[{nombre}] Ángulo inválido (tuple/list): {angle}\")\n",
    "                continue\n",
    "\n",
    "            # Si no es un número escalar\n",
    "            elif not isinstance(angle, (int, float, np.float32, np.float64)):\n",
    "                print(f\"[{nombre}] Ángulo inválido: tipo {type(angle)}\")\n",
    "                continue\n",
    "\n",
    "            # Convertir a float\n",
    "            angle = float(angle)\n",
    "\n",
    "            # Mostrar ángulo\n",
    "            if side == 'izq':\n",
    "                print(f\"[{nombre}] Ángulo canino izquierdo: {abs(round(angle, 2))}°\")\n",
    "            else:\n",
    "                print(f\"[{nombre}] Ángulo canino derecho: {abs(round(angle, 2))}°\")\n",
    "\n",
    "            # Evaluar riesgo\n",
    "            if abs(round(angle, 2)) >= 15 and side == \"izq\":\n",
    "                # === Guardar imagen de salida ===\n",
    "                nombre_salida = os.path.splitext(nombre)[0] + '_analizada.jpg'\n",
    "                cv2.imwrite(os.path.join(output_dir, nombre_salida), orig)\n",
    "                riesgo = True\n",
    "            if abs(round(angle, 2)) < 15 and side == \"izq\":\n",
    "                # === Guardar imagen de salida ===\n",
    "                nombre_salida = os.path.splitext(nombre)[0] + '_analizada.jpg'\n",
    "                cv2.imwrite(os.path.join('quinto_modelo\\derecho_mayor_15_mal', nombre_salida), orig)\n",
    "                \n",
    "\n",
    "        except Exception as e:\n",
    "            print(f\"[{nombre}] Error al procesar el canino {side}: {e}\")\n",
    "\n",
    "\n",
    "    # === Resultado final ===\n",
    "    if riesgo:\n",
    "        print(f\"[{nombre}] EXISTE RIESGO\")\n",
    "    else:\n",
    "        print(f\"[{nombre}] NO EXISTE RIESGO\")\n"
   ]
  },
  {
   "cell_type": "code",
   "execution_count": null,
   "id": "ee9ce67a",
   "metadata": {},
   "outputs": [
    {
     "name": "stderr",
     "output_type": "stream",
     "text": [
      "Using cache found in C:\\Users\\josem/.cache\\torch\\hub\\ultralytics_yolov5_master\n",
      "YOLOv5  2025-7-19 Python-3.12.3 torch-2.7.1+cpu CPU\n",
      "\n",
      "Fusing layers... \n",
      "Model summary: 157 layers, 7015519 parameters, 0 gradients, 15.8 GFLOPs\n",
      "Adding AutoShape... \n",
      "C:\\Users\\josem/.cache\\torch\\hub\\ultralytics_yolov5_master\\models\\common.py:906: FutureWarning: `torch.cuda.amp.autocast(args...)` is deprecated. Please use `torch.amp.autocast('cuda', args...)` instead.\n",
      "  with amp.autocast(autocast):\n"
     ]
    },
    {
     "name": "stdout",
     "output_type": "stream",
     "text": [
      "Ángulo canino izquierdo: 0.27°\n",
      "Ángulo canino derecho: 12.3°\n",
      "NO EXISTE RIESGO\n"
     ]
    }
   ],
   "source": [
    "# SOLO PARA UNA IMAGEN\n",
    "# ====================================================\n",
    "# IMPORTACIONES\n",
    "# ====================================================\n",
    "import os\n",
    "import cv2\n",
    "import torch\n",
    "import math\n",
    "import numpy as np\n",
    "from PIL import Image\n",
    "from torchvision import transforms\n",
    "from tooth_shape_model_unet import UNet\n",
    "\n",
    "# ====================================================\n",
    "# CONFIGURACIÓN\n",
    "# ====================================================\n",
    "IMG_HEIGHT = 256\n",
    "IMG_WIDTH = 256\n",
    "NUM_CLASSES = 3\n",
    "CONF_THRESHOLD = 0.8\n",
    "\n",
    "# Ruta a imagen a analizar\n",
    "img_path = \"riesgo_clasificado/rx34.jpg\"\n",
    "\n",
    "# Directorio de salida\n",
    "output_dir = \"resultados\"\n",
    "os.makedirs(output_dir, exist_ok=True)\n",
    "\n",
    "# ====================================================\n",
    "# CARGA DE MODELOS\n",
    "# ====================================================\n",
    "device = torch.device('cuda' if torch.cuda.is_available() else 'cpu')\n",
    "\n",
    "model_izq = UNet(num_classes=NUM_CLASSES).to(device)\n",
    "model_izq.load_state_dict(torch.load(\"models/tooth_shape_unet.pth\", map_location=device))\n",
    "model_izq.eval()\n",
    "\n",
    "model_der = UNet(num_classes=NUM_CLASSES).to(device)\n",
    "model_der.load_state_dict(torch.load(\"models/modelo2.pth\", map_location=device))\n",
    "model_der.eval()\n",
    "\n",
    "infer_transform = transforms.Compose([\n",
    "    transforms.Resize((IMG_HEIGHT, IMG_WIDTH)),\n",
    "    transforms.ToTensor(),\n",
    "])\n",
    "\n",
    "# ====================================================\n",
    "# CARGA MODELO DE DETECCIÓN (YOLOv5)\n",
    "# ====================================================\n",
    "model_yolo = torch.hub.load('ultralytics/yolov5', 'custom', path='models/tooth_detection.pt').to(device)\n",
    "model_yolo.conf = CONF_THRESHOLD\n",
    "\n",
    "# ====================================================\n",
    "# DEFINICIÓN DE FUNCIONES PERSONALIZADAS\n",
    "# ====================================================\n",
    "def calculate_line_intersection(line1_p1, line1_p2, line2_p1, line2_p2):\n",
    "    \"\"\"\n",
    "    Calcula el punto de intersección entre dos líneas definidas por dos puntos cada una.\n",
    "    Si las líneas son paralelas o no se intersectan dentro de los límites de la imagen, devuelve None.\n",
    "    \n",
    "    Args:\n",
    "        line1_p1, line1_p2: Puntos que definen la primera línea\n",
    "        line2_p1, line2_p2: Puntos que definen la segunda línea\n",
    "        \n",
    "    Returns:\n",
    "        tuple: Coordenadas (x, y) del punto de intersección o None si no hay intersección\n",
    "    \"\"\"\n",
    "    # Línea 1: (x1, y1) a (x2, y2)\n",
    "    x1, y1 = line1_p1\n",
    "    x2, y2 = line1_p2\n",
    "    \n",
    "    # Línea 2: (x3, y3) a (x4, y4)\n",
    "    x3, y3 = line2_p1\n",
    "    x4, y4 = line2_p2\n",
    "    \n",
    "    # Calcular denominador para verificar si las líneas son paralelas\n",
    "    denom = (y4 - y3) * (x2 - x1) - (x4 - x3) * (y2 - y1)\n",
    "    \n",
    "    if denom == 0:  # Líneas paralelas\n",
    "        return None\n",
    "    \n",
    "    # Calcular el punto de intersección\n",
    "    ua = ((x4 - x3) * (y1 - y3) - (y4 - y3) * (x1 - x3)) / denom\n",
    "    \n",
    "    # Punto de intersección\n",
    "    x = x1 + ua * (x2 - x1)\n",
    "    y = y1 + ua * (y2 - y1)\n",
    "    \n",
    "    return (int(x), int(y))\n",
    "def extend_line_to_boundaries(point1, point2, img_width, img_height, midline_x=None):\n",
    "    \"\"\"\n",
    "    Extiende una línea definida por dos puntos hasta los límites de la imagen o hasta intersectar con la línea media.\n",
    "    \n",
    "    Args:\n",
    "        point1 (tuple): Coordenadas (x, y) del primer punto.\n",
    "        point2 (tuple): Coordenadas (x, y) del segundo punto.\n",
    "        img_width (int): Ancho de la imagen.\n",
    "        img_height (int): Alto de la imagen.\n",
    "        midline_x (int, opcional): Coordenada x de la línea media. Si se proporciona, la línea se extenderá hasta esta línea.\n",
    "        \n",
    "    Returns:\n",
    "        tuple: Un par de tuplas con las coordenadas de los puntos extendidos (p1_extended, p2_extended).\n",
    "    \"\"\"\n",
    "    x1, y1 = point1\n",
    "    x2, y2 = point2\n",
    "    \n",
    "    # Si los puntos son iguales, no se puede definir una dirección\n",
    "    if x1 == x2 and y1 == y2:\n",
    "        return point1, point2\n",
    "    \n",
    "    # Calcular la dirección de la línea\n",
    "    dx = x2 - x1\n",
    "    dy = y2 - y1\n",
    "    \n",
    "    # Si la línea es vertical\n",
    "    if dx == 0:\n",
    "        # Extender hasta los bordes superior e inferior\n",
    "        return (x1, 0), (x1, img_height)\n",
    "    \n",
    "    # Calcular la pendiente y el intercepto\n",
    "    m = dy / dx\n",
    "    b = y1 - m * x1\n",
    "    \n",
    "    # Puntos extendidos\n",
    "    extended_points = []\n",
    "    \n",
    "    # Si hay una línea media definida, calcular la intersección con ella\n",
    "    if midline_x is not None:\n",
    "        # Calcular el punto de intersección con la línea media\n",
    "        y_intersect = m * midline_x + b\n",
    "        \n",
    "        # Verificar si la intersección está dentro de los límites de la imagen\n",
    "        if 0 <= y_intersect <= img_height:\n",
    "            # Determinar en qué lado de la línea media está el punto original\n",
    "            if (x1 < midline_x and x2 < midline_x) or (x1 > midline_x and x2 > midline_x):\n",
    "                # Ambos puntos están en el mismo lado de la línea media\n",
    "                # Extender hasta la línea media en una dirección\n",
    "                if x1 < midline_x:\n",
    "                    extended_points.append((midline_x, int(y_intersect)))\n",
    "                else:\n",
    "                    extended_points.append((midline_x, int(y_intersect)))\n",
    "            elif (x1 < midline_x and x2 > midline_x) or (x1 > midline_x and x2 < midline_x):\n",
    "                # No es necesario extender hasta la línea media\n",
    "                pass\n",
    "    \n",
    "    # Intersecciones con los bordes de la imagen\n",
    "    \n",
    "    # Intersección con y=0 (borde superior)\n",
    "    if abs(m) > 0.0001:  # No es una línea horizontal\n",
    "        x_top = (0 - b) / m\n",
    "        if 0 <= x_top <= img_width:\n",
    "            extended_points.append((int(x_top), 0))\n",
    "    \n",
    "    # Intersección con y=img_height (borde inferior)\n",
    "    if abs(m) > 0.0001:  # No es una línea horizontal\n",
    "        x_bottom = (img_height - b) / m\n",
    "        if 0 <= x_bottom <= img_width:\n",
    "            extended_points.append((int(x_bottom), img_height))\n",
    "    \n",
    "    # Intersección con x=0 (borde izquierdo)\n",
    "    y_left = b\n",
    "    if 0 <= y_left <= img_height:\n",
    "        extended_points.append((0, int(y_left)))\n",
    "    \n",
    "    # Intersección con x=img_width (borde derecho)\n",
    "    y_right = m * img_width + b\n",
    "    if 0 <= y_right <= img_height:\n",
    "        extended_points.append((img_width, int(y_right)))\n",
    "    \n",
    "    # Si no hay suficientes puntos de intersección, usar los puntos originales\n",
    "    if len(extended_points) < 2:\n",
    "        return point1, point2\n",
    "    \n",
    "    # Ordenar los puntos extendidos según su distancia desde el punto medio entre p1 y p2\n",
    "    midpoint = ((x1 + x2) / 2, (y1 + y2) / 2)\n",
    "    \n",
    "    # Si estamos del lado izquierdo de la línea media y queremos extender hacia la línea media\n",
    "    if midline_x is not None and (x1 < midline_x and x2 < midline_x):\n",
    "        # Encontrar el punto más cercano al borde y el punto más cercano a la línea media\n",
    "        points_sorted = sorted(extended_points, key=lambda p: p[0])  # Ordenar por coordenada x\n",
    "        return points_sorted[0], points_sorted[-1]  # El primero es el más a la izquierda, el último es el más a la derecha\n",
    "    \n",
    "    # Si estamos del lado derecho de la línea media y queremos extender hacia la línea media\n",
    "    elif midline_x is not None and (x1 > midline_x and x2 > midline_x):\n",
    "        # Encontrar el punto más cercano al borde y el punto más cercano a la línea media\n",
    "        points_sorted = sorted(extended_points, key=lambda p: p[0], reverse=True)  # Ordenar por coordenada x (reverso)\n",
    "        return points_sorted[0], points_sorted[-1]  # El primero es el más a la derecha, el último es el más a la izquierda\n",
    "    \n",
    "    # En otros casos, simplemente usar las dos intersecciones más alejadas entre sí\n",
    "    else:\n",
    "        # Calcular todas las combinaciones de distancias entre puntos\n",
    "        max_dist = 0\n",
    "        p1_ext, p2_ext = extended_points[0], extended_points[1]\n",
    "        \n",
    "        for i in range(len(extended_points)):\n",
    "            for j in range(i + 1, len(extended_points)):\n",
    "                dist = math.sqrt((extended_points[i][0] - extended_points[j][0])**2 + \n",
    "                                (extended_points[i][1] - extended_points[j][1])**2)\n",
    "                if dist > max_dist:\n",
    "                    max_dist = dist\n",
    "                    p1_ext, p2_ext = extended_points[i], extended_points[j]\n",
    "        \n",
    "        return p1_ext, p2_ext\n",
    "def get_center(detection):\n",
    "    xmin, ymin, xmax, ymax = map(int, [detection['xmin'], detection['ymin'], \n",
    "                                      detection['xmax'], detection['ymax']])\n",
    "    cx = (xmin + xmax) // 2\n",
    "    cy = (ymin + ymax) // 2\n",
    "    return (cx, cy)\n",
    "def get_corners(detection, side):\n",
    "    if side == 'izq':\n",
    "        return (int(detection['xmax']), int(detection['ymax'])), (int(detection['xmin']), int(detection['ymin']))\n",
    "    elif side == 'der':\n",
    "        return (int(detection['xmin']), int(detection['ymax'])), (int(detection['xmax']), int(detection['ymin']))\n",
    "    else:   \n",
    "        raise ValueError(\"Lado no válido. Debe ser 'izq' o 'der'.\")\n",
    "def segmentar_canino_por_lado(roi_bgr, lado, model_izq, model_der):\n",
    "    \"\"\"\n",
    "    Segmenta el ROI del canino usando el modelo correspondiente (izquierdo o derecho).\n",
    "    Args:\n",
    "        roi_bgr (np.ndarray): Imagen ROI en formato BGR.\n",
    "        lado (str): 'izq' o 'der'.\n",
    "        model_izq (torch.nn.Module): Modelo para el canino izquierdo.\n",
    "        model_der (torch.nn.Module): Modelo para el canino derecho.\n",
    "    Returns:\n",
    "        np.ndarray: Máscara binaria del canino segmentado.\n",
    "    \"\"\"\n",
    "    modelo = model_izq if lado == 'izq' else model_der\n",
    "\n",
    "    img_rgb = cv2.cvtColor(roi_bgr, cv2.COLOR_BGR2RGB)\n",
    "    pil = Image.fromarray(img_rgb)\n",
    "    x = infer_transform(pil).unsqueeze(0).to(device)\n",
    "\n",
    "    with torch.no_grad():\n",
    "        logits = modelo(x)\n",
    "        probs = torch.softmax(logits, dim=1)[0]\n",
    "        canal = probs[1] if lado == 'izq' else probs[2]\n",
    "        mask = (canal.cpu().numpy() > 0.03).astype(np.uint8) * 255\n",
    "\n",
    "    h, w = roi_bgr.shape[:2]\n",
    "    return cv2.resize(mask, (w, h), interpolation=cv2.INTER_NEAREST)\n",
    "def calculate_angle(line_p1, line_p2, vertical_line_x):\n",
    "    \"\"\"\n",
    "    Calcula el ángulo entre una línea definida por dos puntos y una línea vertical.\n",
    "    \n",
    "    Args:\n",
    "        line_p1 (tuple): Primer punto de la línea.\n",
    "        line_p2 (tuple): Segundo punto de la línea.\n",
    "        vertical_line_x (int): Coordenada x de la línea vertical.\n",
    "        \n",
    "    Returns:\n",
    "        float: Ángulo en grados entre las líneas.\n",
    "    \"\"\"\n",
    "    # Verificar que los puntos no sean iguales\n",
    "    if line_p1[0] == line_p2[0] and line_p1[1] == line_p2[1]:\n",
    "        return 0  # No se puede calcular el ángulo si los puntos son iguales\n",
    "    \n",
    "    # Vector de la línea\n",
    "    vector_line = (line_p2[0] - line_p1[0], line_p2[1] - line_p1[1])\n",
    "    \n",
    "    # Vector de la línea vertical (0, 1) normalizado\n",
    "    vector_vertical = (0, 1)\n",
    "    \n",
    "    # Calcular el ángulo entre los vectores usando el producto punto\n",
    "    # Normalizar los vectores\n",
    "    magnitude_line = math.sqrt(vector_line[0]**2 + vector_line[1]**2)\n",
    "    \n",
    "    if magnitude_line == 0:\n",
    "        return 0\n",
    "    \n",
    "    unit_vector_line = (vector_line[0] / magnitude_line, vector_line[1] / magnitude_line)\n",
    "    \n",
    "    # Producto punto de los vectores unitarios\n",
    "    dot_product = unit_vector_line[0] * vector_vertical[0] + unit_vector_line[1] * vector_vertical[1]\n",
    "    \n",
    "    # Asegurarse de que el producto punto esté en el rango [-1, 1]\n",
    "    dot_product = max(-1.0, min(1.0, dot_product))\n",
    "    \n",
    "    # Calcular el ángulo en radianes y convertirlo a grados\n",
    "    angle_rad = math.acos(dot_product)\n",
    "    angle_deg = math.degrees(angle_rad)\n",
    "    \n",
    "    # Determinar la dirección del ángulo (positivo o negativo)\n",
    "    # Si el punto p2 está a la derecha de la línea vertical, el ángulo es positivo\n",
    "    # Si está a la izquierda, el ángulo es negativo\n",
    "    direction = 1 if (line_p1[0] < vertical_line_x and line_p2[0] > vertical_line_x) or \\\n",
    "                    (line_p1[0] > vertical_line_x and line_p2[0] < vertical_line_x and line_p1[1] > line_p2[1]) else -1\n",
    "    \n",
    "    # Ajustar el ángulo según el cuadrante\n",
    "    if unit_vector_line[0] < 0:\n",
    "        angle_deg = 180 - angle_deg\n",
    "    \n",
    "    # Asegurarse de que el ángulo esté entre 0 y 180 grados\n",
    "    if angle_deg > 90:\n",
    "        angle_deg = 180 - angle_deg\n",
    "        \n",
    "    return angle_deg * direction\n",
    "def process_and_draw_canine(det, orig_img, side, inc_center_x, model_izq, model_der):\n",
    "    \"\"\"\n",
    "    Procesa un canino detectado: segmenta con el modelo correspondiente,\n",
    "    calcula el eje principal y el ángulo con la línea media, y dibuja todo.\n",
    "    \n",
    "    Args:\n",
    "        det: Fila del DataFrame con la detección del canino.\n",
    "        orig_img: Imagen BGR original.\n",
    "        side: 'izq' o 'der'.\n",
    "        inc_center_x: Coordenada x de la línea media vertical.\n",
    "        model_izq: Modelo U-Net para canino izquierdo.\n",
    "        model_der: Modelo U-Net para canino derecho.\n",
    "    \n",
    "    Returns:\n",
    "        float: Ángulo del canino respecto a la línea media.\n",
    "    \"\"\"\n",
    "    coords = (int(det['xmin']), int(det['ymin']), int(det['xmax']), int(det['ymax']))\n",
    "    x1, y1, x2, y2 = coords\n",
    "    roi = orig_img[y1:y2, x1:x2]\n",
    "\n",
    "    # 1) Segmentar usando el modelo correcto\n",
    "    mask_roi = segmentar_canino_por_lado(roi, side, model_izq, model_der)\n",
    "    cv2.imwrite(f\"debug/mask_roi_{side}.png\", mask_roi)\n",
    "\n",
    "    # 2) Extraer contorno\n",
    "    cnts, _ = cv2.findContours(mask_roi, cv2.RETR_EXTERNAL, cv2.CHAIN_APPROX_SIMPLE)\n",
    "    if not cnts:\n",
    "        print(f\"No se encontró contorno para canino {side}\")\n",
    "        return None\n",
    "\n",
    "    contour = max(cnts, key=cv2.contourArea).reshape(-1, 2).astype(np.float32)\n",
    "\n",
    "    # 3) PCA sobre el contorno\n",
    "    mean, vecs, _ = cv2.PCACompute2(contour, mean=None)\n",
    "    axis = vecs[0]\n",
    "    dif = contour - mean\n",
    "    projs = dif.dot(axis.T)\n",
    "\n",
    "    p1 = list(contour[np.argmin(projs)].astype(int))\n",
    "    p2 = list(contour[np.argmax(projs)].astype(int))\n",
    "    if p1[1] > p2[1]: p1, p2 = p2, p1\n",
    "\n",
    "    # 4) Ajuste de orientación\n",
    "    if (side == \"izq\") and (p1[0] > p2[0]):\n",
    "        p1[1], p2[1] = p2[1], p1[1]\n",
    "    if (side == \"der\") and (p1[0] < p2[0]):\n",
    "        p1[1], p2[1] = p2[1], p1[1]\n",
    "\n",
    "    # 5) Convertir a coordenadas globales\n",
    "    p1g = (p1[0] + x1, p1[1] + y1)\n",
    "    p2g = (p2[0] + x1, p2[1] + y1)\n",
    "\n",
    "    # 6) Dibujar extremos\n",
    "    cv2.circle(orig_img, p1g, 4, (0, 255, 0), -1)\n",
    "    cv2.circle(orig_img, p2g, 4, (0, 255, 0), -1)\n",
    "    cv2.putText(orig_img, 'p1', (p1g[0] + 10, p1g[1] - 10), cv2.FONT_HERSHEY_SIMPLEX, 0.5, (0, 255, 0), 2)\n",
    "    cv2.putText(orig_img, 'p2', (p2g[0] + 10, p2g[1] - 10), cv2.FONT_HERSHEY_SIMPLEX, 0.5, (0, 255, 0), 2)\n",
    "\n",
    "    # 7) Extender línea hasta bordes\n",
    "    h, w = orig_img.shape[:2]\n",
    "    exp1, exp2 = extend_line_to_boundaries(p1g, p2g, w, h, inc_center_x)\n",
    "    cv2.line(orig_img, exp1, exp2, (0, 0, 255), 2)\n",
    "\n",
    "    # 8) Calcular intersección y ángulo\n",
    "    midline_top = (inc_center_x, 0)\n",
    "    midline_bottom = (inc_center_x, h)\n",
    "    intersection = calculate_line_intersection(exp1, exp2, midline_top, midline_bottom)\n",
    "\n",
    "    if intersection:\n",
    "        cv2.circle(orig_img, intersection, 6, (255, 0, 255), -1)\n",
    "        angle = calculate_angle(exp1, exp2, inc_center_x)\n",
    "        angle_text = f\"Ángulo: {abs(round(angle, 2))}°\"\n",
    "        text_x = (x1 + x2) // 2 - 50\n",
    "        text_y = y2 + 30\n",
    "\n",
    "        cv2.putText(orig_img, angle_text, (text_x, text_y), cv2.FONT_HERSHEY_SIMPLEX, 0.7, (255, 0, 255), 2)\n",
    "\n",
    "        # Dibujar arco del ángulo\n",
    "        radius = 40\n",
    "        start_angle = 90\n",
    "        end_angle = 90 + angle if angle > 0 else 90 - abs(angle)\n",
    "        cv2.ellipse(orig_img, intersection, (radius, radius), 0,\n",
    "                    min(start_angle, end_angle), max(start_angle, end_angle),\n",
    "                    (255, 0, 255), 2)\n",
    "\n",
    "        return angle\n",
    "\n",
    "    return None\n",
    "\n",
    "\n",
    "# Aquí debes poner tus funciones:\n",
    "# - calculate_line_intersection\n",
    "# - extend_line_to_boundaries\n",
    "# - get_center\n",
    "# - get_corners\n",
    "# - calculate_angle\n",
    "# - segmentar_canino_por_lado(roi_bgr, lado, model_izq, model_der)\n",
    "# - process_and_draw_canine(det, orig_img, lado, midline_x, model_izq, model_der)\n",
    "\n",
    "# ====================================================\n",
    "# PROCESAMIENTO DE UNA SOLA IMAGEN\n",
    "# ====================================================\n",
    "img = cv2.imread(img_path)\n",
    "if img is None:\n",
    "    raise FileNotFoundError(f\"No se pudo leer la imagen en: {img_path}\")\n",
    "\n",
    "orig = img.copy()\n",
    "height, width = img.shape[:2]\n",
    "\n",
    "# === Inferencia YOLOv5 ===\n",
    "df = model_yolo(img).pandas().xyxy[0]\n",
    "detections_inc = df[df['name'] == 'inc']\n",
    "detections_can = df[df['name'] == 'canine']\n",
    "\n",
    "# === Línea media (a partir del incisivo) ===\n",
    "inc_center = None\n",
    "if len(detections_inc) > 0:\n",
    "    inc = detections_inc.sort_values('confidence', ascending=False).iloc[0]\n",
    "    inc_center = get_center(inc)\n",
    "    cv2.line(orig, (inc_center[0], 0), (inc_center[0], height), (0, 255, 0), 2)\n",
    "    cv2.putText(orig, 'Línea media', (inc_center[0] + 10, 30), cv2.FONT_HERSHEY_SIMPLEX, 0.7, (0, 255, 0), 2)\n",
    "else:\n",
    "    print(\"No se detectó incisivo. Se aborta.\")\n",
    "    exit()\n",
    "\n",
    "# === Procesamiento de caninos ===\n",
    "angulo_derecho = None\n",
    "angulo_izquierdo = None\n",
    "riesgo = False\n",
    "\n",
    "for _, det in detections_can.iterrows():\n",
    "    center = get_center(det)\n",
    "    lado = 'izq' if center[0] < inc_center[0] else 'der'\n",
    "\n",
    "    # === Dibujar la caja del YOLO y el centro ===\n",
    "    x1, y1, x2, y2 = map(int, [det['xmin'], det['ymin'], det['xmax'], det['ymax']])\n",
    "    color = (255, 0, 0) if lado == 'izq' else (0, 0, 255)\n",
    "    \n",
    "    cv2.rectangle(orig, (x1, y1), (x2, y2), color, 2)\n",
    "    cv2.circle(orig, center, 5, color, -1)\n",
    "    cv2.putText(orig, f\"Canino {lado}\", (x1, y1 - 10), cv2.FONT_HERSHEY_SIMPLEX, 0.5, color, 2)\n",
    "\n",
    "    try:\n",
    "        angle = process_and_draw_canine(det, orig, lado, inc_center[0], model_izq, model_der)\n",
    "\n",
    "        if isinstance(angle, (int, float, np.float32, np.float64)):\n",
    "            if lado == 'der':\n",
    "                angulo_derecho = float(angle)\n",
    "            else:\n",
    "                angulo_izquierdo = float(angle)\n",
    "\n",
    "    except Exception as e:\n",
    "        print(f\"Error al procesar canino {lado}: {e}\")\n",
    "        continue\n",
    "\n",
    "# === Resultado y salida ===\n",
    "nombre_archivo = os.path.splitext(os.path.basename(img_path))[0] + '_analizada.jpg'\n",
    "cv2.imwrite(os.path.join(output_dir, nombre_archivo), orig)\n",
    "\n",
    "# Imprimir ángulos\n",
    "if angulo_izquierdo is not None:\n",
    "    print(f\"Ángulo canino izquierdo: {abs(round(angulo_izquierdo, 2))}°\")\n",
    "    if abs(angulo_izquierdo) > 15:\n",
    "        riesgo = True\n",
    "else:\n",
    "    print(\"No se pudo calcular el ángulo del canino izquierdo.\")\n",
    "\n",
    "if angulo_derecho is not None:\n",
    "    print(f\"Ángulo canino derecho: {abs(round(angulo_derecho, 2))}°\")\n",
    "    if abs(angulo_derecho) > 15:\n",
    "        riesgo = True\n",
    "else:\n",
    "    print(\"No se pudo calcular el ángulo del canino derecho.\")\n",
    "\n",
    "# Evaluar riesgo general\n",
    "if riesgo:\n",
    "    print(\"EXISTE RIESGO\")\n",
    "else:\n",
    "    print(\"NO EXISTE RIESGO\")"
   ]
  },
  {
   "cell_type": "code",
   "execution_count": null,
   "id": "6f383632",
   "metadata": {},
   "outputs": [
    {
     "name": "stderr",
     "output_type": "stream",
     "text": [
      "Using cache found in C:\\Users\\josem/.cache\\torch\\hub\\ultralytics_yolov5_master\n",
      "YOLOv5  2025-7-19 Python-3.12.3 torch-2.7.1+cpu CPU\n",
      "\n",
      "Fusing layers... \n",
      "Model summary: 157 layers, 7015519 parameters, 0 gradients, 15.8 GFLOPs\n",
      "Adding AutoShape... \n"
     ]
    },
    {
     "name": "stdout",
     "output_type": "stream",
     "text": [
      "\n",
      "🔍 Procesando imagen: rx1.jpg\n"
     ]
    },
    {
     "name": "stderr",
     "output_type": "stream",
     "text": [
      "C:\\Users\\josem/.cache\\torch\\hub\\ultralytics_yolov5_master\\models\\common.py:906: FutureWarning: `torch.cuda.amp.autocast(args...)` is deprecated. Please use `torch.amp.autocast('cuda', args...)` instead.\n",
      "  with amp.autocast(autocast):\n"
     ]
    },
    {
     "name": "stdout",
     "output_type": "stream",
     "text": [
      "Ángulo canino izquierdo: 21.96°\n",
      "Ángulo canino derecho: 26.92°\n",
      "EXISTE RIESGO en uno o ambos caninos (>15°)\n",
      "\n",
      "🔍 Procesando imagen: rx10.jpg\n"
     ]
    },
    {
     "name": "stderr",
     "output_type": "stream",
     "text": [
      "C:\\Users\\josem/.cache\\torch\\hub\\ultralytics_yolov5_master\\models\\common.py:906: FutureWarning: `torch.cuda.amp.autocast(args...)` is deprecated. Please use `torch.amp.autocast('cuda', args...)` instead.\n",
      "  with amp.autocast(autocast):\n"
     ]
    },
    {
     "name": "stdout",
     "output_type": "stream",
     "text": [
      "Ángulo canino izquierdo: 8.4°\n",
      "Ángulo canino derecho: 17.72°\n",
      "EXISTE RIESGO en uno o ambos caninos (>15°)\n",
      "\n",
      "🔍 Procesando imagen: rx100.jpg\n"
     ]
    },
    {
     "name": "stderr",
     "output_type": "stream",
     "text": [
      "C:\\Users\\josem/.cache\\torch\\hub\\ultralytics_yolov5_master\\models\\common.py:906: FutureWarning: `torch.cuda.amp.autocast(args...)` is deprecated. Please use `torch.amp.autocast('cuda', args...)` instead.\n",
      "  with amp.autocast(autocast):\n"
     ]
    },
    {
     "name": "stdout",
     "output_type": "stream",
     "text": [
      "Ángulo canino izquierdo: 8.62°\n",
      "Ángulo canino derecho: 5.98°\n",
      "NO EXISTE RIESGO\n",
      "\n",
      "🔍 Procesando imagen: rx101.jpg\n"
     ]
    },
    {
     "name": "stderr",
     "output_type": "stream",
     "text": [
      "C:\\Users\\josem/.cache\\torch\\hub\\ultralytics_yolov5_master\\models\\common.py:906: FutureWarning: `torch.cuda.amp.autocast(args...)` is deprecated. Please use `torch.amp.autocast('cuda', args...)` instead.\n",
      "  with amp.autocast(autocast):\n"
     ]
    },
    {
     "name": "stdout",
     "output_type": "stream",
     "text": [
      "Ángulo canino izquierdo: 16.41°\n",
      "Ángulo canino derecho: 16.29°\n",
      "EXISTE RIESGO en uno o ambos caninos (>15°)\n",
      "\n",
      "🔍 Procesando imagen: rx102.jpg\n"
     ]
    },
    {
     "name": "stderr",
     "output_type": "stream",
     "text": [
      "C:\\Users\\josem/.cache\\torch\\hub\\ultralytics_yolov5_master\\models\\common.py:906: FutureWarning: `torch.cuda.amp.autocast(args...)` is deprecated. Please use `torch.amp.autocast('cuda', args...)` instead.\n",
      "  with amp.autocast(autocast):\n"
     ]
    },
    {
     "name": "stdout",
     "output_type": "stream",
     "text": [
      "Ángulo canino izquierdo: 12.85°\n",
      "Ángulo canino derecho: 14.5°\n",
      "NO EXISTE RIESGO\n",
      "\n",
      "🔍 Procesando imagen: rx103.jpg\n"
     ]
    },
    {
     "name": "stderr",
     "output_type": "stream",
     "text": [
      "C:\\Users\\josem/.cache\\torch\\hub\\ultralytics_yolov5_master\\models\\common.py:906: FutureWarning: `torch.cuda.amp.autocast(args...)` is deprecated. Please use `torch.amp.autocast('cuda', args...)` instead.\n",
      "  with amp.autocast(autocast):\n"
     ]
    },
    {
     "name": "stdout",
     "output_type": "stream",
     "text": [
      "Ángulo canino izquierdo: 2.77°\n",
      "Ángulo canino derecho: 7.74°\n",
      "NO EXISTE RIESGO\n",
      "\n",
      "🔍 Procesando imagen: rx104.jpg\n"
     ]
    },
    {
     "name": "stderr",
     "output_type": "stream",
     "text": [
      "C:\\Users\\josem/.cache\\torch\\hub\\ultralytics_yolov5_master\\models\\common.py:906: FutureWarning: `torch.cuda.amp.autocast(args...)` is deprecated. Please use `torch.amp.autocast('cuda', args...)` instead.\n",
      "  with amp.autocast(autocast):\n"
     ]
    },
    {
     "name": "stdout",
     "output_type": "stream",
     "text": [
      "Ángulo canino izquierdo: 8.75°\n",
      "Ángulo canino derecho: 18.17°\n",
      "EXISTE RIESGO en uno o ambos caninos (>15°)\n",
      "\n",
      "🔍 Procesando imagen: rx105.jpg\n"
     ]
    },
    {
     "name": "stderr",
     "output_type": "stream",
     "text": [
      "C:\\Users\\josem/.cache\\torch\\hub\\ultralytics_yolov5_master\\models\\common.py:906: FutureWarning: `torch.cuda.amp.autocast(args...)` is deprecated. Please use `torch.amp.autocast('cuda', args...)` instead.\n",
      "  with amp.autocast(autocast):\n"
     ]
    },
    {
     "name": "stdout",
     "output_type": "stream",
     "text": [
      "No se pudo calcular el ángulo del canino izquierdo.\n",
      "Ángulo canino derecho: 30.2°\n",
      "EXISTE RIESGO en uno o ambos caninos (>15°)\n",
      "\n",
      "🔍 Procesando imagen: rx106.jpg\n"
     ]
    },
    {
     "name": "stderr",
     "output_type": "stream",
     "text": [
      "C:\\Users\\josem/.cache\\torch\\hub\\ultralytics_yolov5_master\\models\\common.py:906: FutureWarning: `torch.cuda.amp.autocast(args...)` is deprecated. Please use `torch.amp.autocast('cuda', args...)` instead.\n",
      "  with amp.autocast(autocast):\n"
     ]
    },
    {
     "name": "stdout",
     "output_type": "stream",
     "text": [
      "Ángulo canino izquierdo: 11.4°\n",
      "Ángulo canino derecho: 26.06°\n",
      "EXISTE RIESGO en uno o ambos caninos (>15°)\n",
      "\n",
      "🔍 Procesando imagen: rx107.jpg\n"
     ]
    },
    {
     "name": "stderr",
     "output_type": "stream",
     "text": [
      "C:\\Users\\josem/.cache\\torch\\hub\\ultralytics_yolov5_master\\models\\common.py:906: FutureWarning: `torch.cuda.amp.autocast(args...)` is deprecated. Please use `torch.amp.autocast('cuda', args...)` instead.\n",
      "  with amp.autocast(autocast):\n"
     ]
    },
    {
     "name": "stdout",
     "output_type": "stream",
     "text": [
      "Ángulo canino izquierdo: 13.11°\n",
      "Ángulo canino derecho: 12.34°\n",
      "NO EXISTE RIESGO\n",
      "\n",
      "🔍 Procesando imagen: rx108.jpg\n"
     ]
    },
    {
     "name": "stderr",
     "output_type": "stream",
     "text": [
      "C:\\Users\\josem/.cache\\torch\\hub\\ultralytics_yolov5_master\\models\\common.py:906: FutureWarning: `torch.cuda.amp.autocast(args...)` is deprecated. Please use `torch.amp.autocast('cuda', args...)` instead.\n",
      "  with amp.autocast(autocast):\n"
     ]
    },
    {
     "name": "stdout",
     "output_type": "stream",
     "text": [
      "Ángulo canino izquierdo: 12.64°\n",
      "Ángulo canino derecho: 19.17°\n",
      "EXISTE RIESGO en uno o ambos caninos (>15°)\n",
      "\n",
      "🔍 Procesando imagen: rx11.jpg\n"
     ]
    },
    {
     "name": "stderr",
     "output_type": "stream",
     "text": [
      "C:\\Users\\josem/.cache\\torch\\hub\\ultralytics_yolov5_master\\models\\common.py:906: FutureWarning: `torch.cuda.amp.autocast(args...)` is deprecated. Please use `torch.amp.autocast('cuda', args...)` instead.\n",
      "  with amp.autocast(autocast):\n"
     ]
    },
    {
     "name": "stdout",
     "output_type": "stream",
     "text": [
      "Ángulo canino izquierdo: 1.66°\n",
      "Ángulo canino derecho: 15.71°\n",
      "EXISTE RIESGO en uno o ambos caninos (>15°)\n",
      "\n",
      "🔍 Procesando imagen: rx12.jpg\n"
     ]
    },
    {
     "name": "stderr",
     "output_type": "stream",
     "text": [
      "C:\\Users\\josem/.cache\\torch\\hub\\ultralytics_yolov5_master\\models\\common.py:906: FutureWarning: `torch.cuda.amp.autocast(args...)` is deprecated. Please use `torch.amp.autocast('cuda', args...)` instead.\n",
      "  with amp.autocast(autocast):\n"
     ]
    },
    {
     "name": "stdout",
     "output_type": "stream",
     "text": [
      "Ángulo canino izquierdo: 0.85°\n",
      "Ángulo canino derecho: 7.57°\n",
      "NO EXISTE RIESGO\n",
      "\n",
      "🔍 Procesando imagen: rx13.jpg\n"
     ]
    },
    {
     "name": "stderr",
     "output_type": "stream",
     "text": [
      "C:\\Users\\josem/.cache\\torch\\hub\\ultralytics_yolov5_master\\models\\common.py:906: FutureWarning: `torch.cuda.amp.autocast(args...)` is deprecated. Please use `torch.amp.autocast('cuda', args...)` instead.\n",
      "  with amp.autocast(autocast):\n"
     ]
    },
    {
     "name": "stdout",
     "output_type": "stream",
     "text": [
      "Ángulo canino izquierdo: 6.06°\n",
      "Ángulo canino derecho: 17.68°\n",
      "EXISTE RIESGO en uno o ambos caninos (>15°)\n",
      "\n",
      "🔍 Procesando imagen: rx14.jpg\n"
     ]
    },
    {
     "name": "stderr",
     "output_type": "stream",
     "text": [
      "C:\\Users\\josem/.cache\\torch\\hub\\ultralytics_yolov5_master\\models\\common.py:906: FutureWarning: `torch.cuda.amp.autocast(args...)` is deprecated. Please use `torch.amp.autocast('cuda', args...)` instead.\n",
      "  with amp.autocast(autocast):\n"
     ]
    },
    {
     "name": "stdout",
     "output_type": "stream",
     "text": [
      "Ángulo canino izquierdo: 17.44°\n",
      "Ángulo canino derecho: 28.12°\n",
      "EXISTE RIESGO en uno o ambos caninos (>15°)\n",
      "\n",
      "🔍 Procesando imagen: rx15.jpg\n"
     ]
    },
    {
     "name": "stderr",
     "output_type": "stream",
     "text": [
      "C:\\Users\\josem/.cache\\torch\\hub\\ultralytics_yolov5_master\\models\\common.py:906: FutureWarning: `torch.cuda.amp.autocast(args...)` is deprecated. Please use `torch.amp.autocast('cuda', args...)` instead.\n",
      "  with amp.autocast(autocast):\n"
     ]
    },
    {
     "name": "stdout",
     "output_type": "stream",
     "text": [
      "Ángulo canino izquierdo: 8.62°\n",
      "Ángulo canino derecho: 21.41°\n",
      "EXISTE RIESGO en uno o ambos caninos (>15°)\n",
      "\n",
      "🔍 Procesando imagen: rx16.jpg\n"
     ]
    },
    {
     "name": "stderr",
     "output_type": "stream",
     "text": [
      "C:\\Users\\josem/.cache\\torch\\hub\\ultralytics_yolov5_master\\models\\common.py:906: FutureWarning: `torch.cuda.amp.autocast(args...)` is deprecated. Please use `torch.amp.autocast('cuda', args...)` instead.\n",
      "  with amp.autocast(autocast):\n"
     ]
    },
    {
     "name": "stdout",
     "output_type": "stream",
     "text": [
      "Ángulo canino izquierdo: 16.86°\n",
      "Ángulo canino derecho: 12.85°\n",
      "EXISTE RIESGO en uno o ambos caninos (>15°)\n",
      "\n",
      "🔍 Procesando imagen: rx17.jpg\n"
     ]
    },
    {
     "name": "stderr",
     "output_type": "stream",
     "text": [
      "C:\\Users\\josem/.cache\\torch\\hub\\ultralytics_yolov5_master\\models\\common.py:906: FutureWarning: `torch.cuda.amp.autocast(args...)` is deprecated. Please use `torch.amp.autocast('cuda', args...)` instead.\n",
      "  with amp.autocast(autocast):\n"
     ]
    },
    {
     "name": "stdout",
     "output_type": "stream",
     "text": [
      "Ángulo canino izquierdo: 14.37°\n",
      "Ángulo canino derecho: 14.67°\n",
      "NO EXISTE RIESGO\n",
      "\n",
      "🔍 Procesando imagen: rx18.jpg\n"
     ]
    },
    {
     "name": "stderr",
     "output_type": "stream",
     "text": [
      "C:\\Users\\josem/.cache\\torch\\hub\\ultralytics_yolov5_master\\models\\common.py:906: FutureWarning: `torch.cuda.amp.autocast(args...)` is deprecated. Please use `torch.amp.autocast('cuda', args...)` instead.\n",
      "  with amp.autocast(autocast):\n"
     ]
    },
    {
     "name": "stdout",
     "output_type": "stream",
     "text": [
      "No se pudo calcular el ángulo del canino izquierdo.\n",
      "Ángulo canino derecho: 14.88°\n",
      "NO EXISTE RIESGO\n",
      "\n",
      "🔍 Procesando imagen: rx19.jpg\n",
      "No se pudo calcular el ángulo del canino izquierdo.\n",
      "No se pudo calcular el ángulo del canino derecho.\n",
      "NO EXISTE RIESGO\n",
      "\n",
      "🔍 Procesando imagen: rx2.jpg\n"
     ]
    },
    {
     "name": "stderr",
     "output_type": "stream",
     "text": [
      "C:\\Users\\josem/.cache\\torch\\hub\\ultralytics_yolov5_master\\models\\common.py:906: FutureWarning: `torch.cuda.amp.autocast(args...)` is deprecated. Please use `torch.amp.autocast('cuda', args...)` instead.\n",
      "  with amp.autocast(autocast):\n",
      "C:\\Users\\josem/.cache\\torch\\hub\\ultralytics_yolov5_master\\models\\common.py:906: FutureWarning: `torch.cuda.amp.autocast(args...)` is deprecated. Please use `torch.amp.autocast('cuda', args...)` instead.\n",
      "  with amp.autocast(autocast):\n"
     ]
    },
    {
     "name": "stdout",
     "output_type": "stream",
     "text": [
      "Ángulo canino izquierdo: 16.74°\n",
      "Ángulo canino derecho: 16.74°\n",
      "EXISTE RIESGO en uno o ambos caninos (>15°)\n",
      "\n",
      "🔍 Procesando imagen: rx20.jpg\n"
     ]
    },
    {
     "name": "stderr",
     "output_type": "stream",
     "text": [
      "C:\\Users\\josem/.cache\\torch\\hub\\ultralytics_yolov5_master\\models\\common.py:906: FutureWarning: `torch.cuda.amp.autocast(args...)` is deprecated. Please use `torch.amp.autocast('cuda', args...)` instead.\n",
      "  with amp.autocast(autocast):\n"
     ]
    },
    {
     "name": "stdout",
     "output_type": "stream",
     "text": [
      "Ángulo canino izquierdo: 3.93°\n",
      "Ángulo canino derecho: 30.07°\n",
      "EXISTE RIESGO en uno o ambos caninos (>15°)\n",
      "\n",
      "🔍 Procesando imagen: rx21.jpg\n"
     ]
    },
    {
     "name": "stderr",
     "output_type": "stream",
     "text": [
      "C:\\Users\\josem/.cache\\torch\\hub\\ultralytics_yolov5_master\\models\\common.py:906: FutureWarning: `torch.cuda.amp.autocast(args...)` is deprecated. Please use `torch.amp.autocast('cuda', args...)` instead.\n",
      "  with amp.autocast(autocast):\n"
     ]
    },
    {
     "name": "stdout",
     "output_type": "stream",
     "text": [
      "No se pudo calcular el ángulo del canino izquierdo.\n",
      "Ángulo canino derecho: 28.64°\n",
      "EXISTE RIESGO en uno o ambos caninos (>15°)\n",
      "\n",
      "🔍 Procesando imagen: rx22.jpg\n"
     ]
    },
    {
     "name": "stderr",
     "output_type": "stream",
     "text": [
      "C:\\Users\\josem/.cache\\torch\\hub\\ultralytics_yolov5_master\\models\\common.py:906: FutureWarning: `torch.cuda.amp.autocast(args...)` is deprecated. Please use `torch.amp.autocast('cuda', args...)` instead.\n",
      "  with amp.autocast(autocast):\n"
     ]
    },
    {
     "name": "stdout",
     "output_type": "stream",
     "text": [
      "Ángulo canino izquierdo: 17.44°\n",
      "Ángulo canino derecho: 25.22°\n",
      "EXISTE RIESGO en uno o ambos caninos (>15°)\n",
      "\n",
      "🔍 Procesando imagen: rx23.jpg\n"
     ]
    },
    {
     "name": "stderr",
     "output_type": "stream",
     "text": [
      "C:\\Users\\josem/.cache\\torch\\hub\\ultralytics_yolov5_master\\models\\common.py:906: FutureWarning: `torch.cuda.amp.autocast(args...)` is deprecated. Please use `torch.amp.autocast('cuda', args...)` instead.\n",
      "  with amp.autocast(autocast):\n"
     ]
    },
    {
     "name": "stdout",
     "output_type": "stream",
     "text": [
      "Ángulo canino izquierdo: 14.88°\n",
      "Ángulo canino derecho: 17.84°\n",
      "EXISTE RIESGO en uno o ambos caninos (>15°)\n",
      "\n",
      "🔍 Procesando imagen: rx24.jpg\n"
     ]
    },
    {
     "name": "stderr",
     "output_type": "stream",
     "text": [
      "C:\\Users\\josem/.cache\\torch\\hub\\ultralytics_yolov5_master\\models\\common.py:906: FutureWarning: `torch.cuda.amp.autocast(args...)` is deprecated. Please use `torch.amp.autocast('cuda', args...)` instead.\n",
      "  with amp.autocast(autocast):\n"
     ]
    },
    {
     "name": "stdout",
     "output_type": "stream",
     "text": [
      "Ángulo canino izquierdo: 2.46°\n",
      "Ángulo canino derecho: 16.08°\n",
      "EXISTE RIESGO en uno o ambos caninos (>15°)\n",
      "\n",
      "🔍 Procesando imagen: rx25.jpg\n"
     ]
    },
    {
     "name": "stderr",
     "output_type": "stream",
     "text": [
      "C:\\Users\\josem/.cache\\torch\\hub\\ultralytics_yolov5_master\\models\\common.py:906: FutureWarning: `torch.cuda.amp.autocast(args...)` is deprecated. Please use `torch.amp.autocast('cuda', args...)` instead.\n",
      "  with amp.autocast(autocast):\n"
     ]
    },
    {
     "name": "stdout",
     "output_type": "stream",
     "text": [
      "Ángulo canino izquierdo: 12.51°\n",
      "Ángulo canino derecho: 23.97°\n",
      "EXISTE RIESGO en uno o ambos caninos (>15°)\n",
      "\n",
      "🔍 Procesando imagen: rx26.jpg\n"
     ]
    },
    {
     "name": "stderr",
     "output_type": "stream",
     "text": [
      "C:\\Users\\josem/.cache\\torch\\hub\\ultralytics_yolov5_master\\models\\common.py:906: FutureWarning: `torch.cuda.amp.autocast(args...)` is deprecated. Please use `torch.amp.autocast('cuda', args...)` instead.\n",
      "  with amp.autocast(autocast):\n"
     ]
    },
    {
     "name": "stdout",
     "output_type": "stream",
     "text": [
      "Ángulo canino izquierdo: 10.19°\n",
      "Ángulo canino derecho: 9.4°\n",
      "NO EXISTE RIESGO\n",
      "\n",
      "🔍 Procesando imagen: rx27.jpg\n"
     ]
    },
    {
     "name": "stderr",
     "output_type": "stream",
     "text": [
      "C:\\Users\\josem/.cache\\torch\\hub\\ultralytics_yolov5_master\\models\\common.py:906: FutureWarning: `torch.cuda.amp.autocast(args...)` is deprecated. Please use `torch.amp.autocast('cuda', args...)` instead.\n",
      "  with amp.autocast(autocast):\n"
     ]
    },
    {
     "name": "stdout",
     "output_type": "stream",
     "text": [
      "Ángulo canino izquierdo: 10.19°\n",
      "Ángulo canino derecho: 9.4°\n",
      "NO EXISTE RIESGO\n",
      "\n",
      "🔍 Procesando imagen: rx28.jpg\n"
     ]
    },
    {
     "name": "stderr",
     "output_type": "stream",
     "text": [
      "C:\\Users\\josem/.cache\\torch\\hub\\ultralytics_yolov5_master\\models\\common.py:906: FutureWarning: `torch.cuda.amp.autocast(args...)` is deprecated. Please use `torch.amp.autocast('cuda', args...)` instead.\n",
      "  with amp.autocast(autocast):\n"
     ]
    },
    {
     "name": "stdout",
     "output_type": "stream",
     "text": [
      "Ángulo canino izquierdo: 4.11°\n",
      "Ángulo canino derecho: 9.62°\n",
      "NO EXISTE RIESGO\n",
      "\n",
      "🔍 Procesando imagen: rx29.jpg\n"
     ]
    },
    {
     "name": "stderr",
     "output_type": "stream",
     "text": [
      "C:\\Users\\josem/.cache\\torch\\hub\\ultralytics_yolov5_master\\models\\common.py:906: FutureWarning: `torch.cuda.amp.autocast(args...)` is deprecated. Please use `torch.amp.autocast('cuda', args...)` instead.\n",
      "  with amp.autocast(autocast):\n"
     ]
    },
    {
     "name": "stdout",
     "output_type": "stream",
     "text": [
      "Ángulo canino izquierdo: 3.31°\n",
      "Ángulo canino derecho: 3.62°\n",
      "NO EXISTE RIESGO\n",
      "\n",
      "🔍 Procesando imagen: rx3.jpg\n"
     ]
    },
    {
     "name": "stderr",
     "output_type": "stream",
     "text": [
      "C:\\Users\\josem/.cache\\torch\\hub\\ultralytics_yolov5_master\\models\\common.py:906: FutureWarning: `torch.cuda.amp.autocast(args...)` is deprecated. Please use `torch.amp.autocast('cuda', args...)` instead.\n",
      "  with amp.autocast(autocast):\n"
     ]
    },
    {
     "name": "stdout",
     "output_type": "stream",
     "text": [
      "Ángulo canino izquierdo: 4.6°\n",
      "Ángulo canino derecho: 27.52°\n",
      "EXISTE RIESGO en uno o ambos caninos (>15°)\n",
      "\n",
      "🔍 Procesando imagen: rx30.jpg\n"
     ]
    },
    {
     "name": "stderr",
     "output_type": "stream",
     "text": [
      "C:\\Users\\josem/.cache\\torch\\hub\\ultralytics_yolov5_master\\models\\common.py:906: FutureWarning: `torch.cuda.amp.autocast(args...)` is deprecated. Please use `torch.amp.autocast('cuda', args...)` instead.\n",
      "  with amp.autocast(autocast):\n"
     ]
    },
    {
     "name": "stdout",
     "output_type": "stream",
     "text": [
      "Ángulo canino izquierdo: 8.75°\n",
      "Ángulo canino derecho: 17.11°\n",
      "EXISTE RIESGO en uno o ambos caninos (>15°)\n",
      "\n",
      "🔍 Procesando imagen: rx31.jpg\n"
     ]
    },
    {
     "name": "stderr",
     "output_type": "stream",
     "text": [
      "C:\\Users\\josem/.cache\\torch\\hub\\ultralytics_yolov5_master\\models\\common.py:906: FutureWarning: `torch.cuda.amp.autocast(args...)` is deprecated. Please use `torch.amp.autocast('cuda', args...)` instead.\n",
      "  with amp.autocast(autocast):\n"
     ]
    },
    {
     "name": "stdout",
     "output_type": "stream",
     "text": [
      "No se pudo calcular el ángulo del canino izquierdo.\n",
      "Ángulo canino derecho: 14.67°\n",
      "NO EXISTE RIESGO\n",
      "\n",
      "🔍 Procesando imagen: rx32.jpg\n"
     ]
    },
    {
     "name": "stderr",
     "output_type": "stream",
     "text": [
      "C:\\Users\\josem/.cache\\torch\\hub\\ultralytics_yolov5_master\\models\\common.py:906: FutureWarning: `torch.cuda.amp.autocast(args...)` is deprecated. Please use `torch.amp.autocast('cuda', args...)` instead.\n",
      "  with amp.autocast(autocast):\n"
     ]
    },
    {
     "name": "stdout",
     "output_type": "stream",
     "text": [
      "Ángulo canino izquierdo: 0.94°\n",
      "Ángulo canino derecho: 16.29°\n",
      "EXISTE RIESGO en uno o ambos caninos (>15°)\n",
      "\n",
      "🔍 Procesando imagen: rx33.jpg\n"
     ]
    },
    {
     "name": "stderr",
     "output_type": "stream",
     "text": [
      "C:\\Users\\josem/.cache\\torch\\hub\\ultralytics_yolov5_master\\models\\common.py:906: FutureWarning: `torch.cuda.amp.autocast(args...)` is deprecated. Please use `torch.amp.autocast('cuda', args...)` instead.\n",
      "  with amp.autocast(autocast):\n"
     ]
    },
    {
     "name": "stdout",
     "output_type": "stream",
     "text": [
      "Ángulo canino izquierdo: 14.54°\n",
      "Ángulo canino derecho: 14.16°\n",
      "NO EXISTE RIESGO\n",
      "\n",
      "🔍 Procesando imagen: rx34.jpg\n"
     ]
    },
    {
     "name": "stderr",
     "output_type": "stream",
     "text": [
      "C:\\Users\\josem/.cache\\torch\\hub\\ultralytics_yolov5_master\\models\\common.py:906: FutureWarning: `torch.cuda.amp.autocast(args...)` is deprecated. Please use `torch.amp.autocast('cuda', args...)` instead.\n",
      "  with amp.autocast(autocast):\n"
     ]
    },
    {
     "name": "stdout",
     "output_type": "stream",
     "text": [
      "Ángulo canino izquierdo: 0.27°\n",
      "Ángulo canino derecho: 12.3°\n",
      "NO EXISTE RIESGO\n",
      "\n",
      "🔍 Procesando imagen: rx35.jpg\n"
     ]
    },
    {
     "name": "stderr",
     "output_type": "stream",
     "text": [
      "C:\\Users\\josem/.cache\\torch\\hub\\ultralytics_yolov5_master\\models\\common.py:906: FutureWarning: `torch.cuda.amp.autocast(args...)` is deprecated. Please use `torch.amp.autocast('cuda', args...)` instead.\n",
      "  with amp.autocast(autocast):\n"
     ]
    },
    {
     "name": "stdout",
     "output_type": "stream",
     "text": [
      "Ángulo canino izquierdo: 6.15°\n",
      "Ángulo canino derecho: 2.33°\n",
      "NO EXISTE RIESGO\n",
      "\n",
      "🔍 Procesando imagen: rx36.jpg\n"
     ]
    },
    {
     "name": "stderr",
     "output_type": "stream",
     "text": [
      "C:\\Users\\josem/.cache\\torch\\hub\\ultralytics_yolov5_master\\models\\common.py:906: FutureWarning: `torch.cuda.amp.autocast(args...)` is deprecated. Please use `torch.amp.autocast('cuda', args...)` instead.\n",
      "  with amp.autocast(autocast):\n"
     ]
    },
    {
     "name": "stdout",
     "output_type": "stream",
     "text": [
      "Ángulo canino izquierdo: 20.28°\n",
      "Ángulo canino derecho: 29.43°\n",
      "EXISTE RIESGO en uno o ambos caninos (>15°)\n",
      "\n",
      "🔍 Procesando imagen: rx37.jpg\n"
     ]
    },
    {
     "name": "stderr",
     "output_type": "stream",
     "text": [
      "C:\\Users\\josem/.cache\\torch\\hub\\ultralytics_yolov5_master\\models\\common.py:906: FutureWarning: `torch.cuda.amp.autocast(args...)` is deprecated. Please use `torch.amp.autocast('cuda', args...)` instead.\n",
      "  with amp.autocast(autocast):\n"
     ]
    },
    {
     "name": "stdout",
     "output_type": "stream",
     "text": [
      "Ángulo canino izquierdo: 7.61°\n",
      "Ángulo canino derecho: 15.13°\n",
      "EXISTE RIESGO en uno o ambos caninos (>15°)\n",
      "\n",
      "🔍 Procesando imagen: rx38.jpg\n"
     ]
    },
    {
     "name": "stderr",
     "output_type": "stream",
     "text": [
      "C:\\Users\\josem/.cache\\torch\\hub\\ultralytics_yolov5_master\\models\\common.py:906: FutureWarning: `torch.cuda.amp.autocast(args...)` is deprecated. Please use `torch.amp.autocast('cuda', args...)` instead.\n",
      "  with amp.autocast(autocast):\n"
     ]
    },
    {
     "name": "stdout",
     "output_type": "stream",
     "text": [
      "Ángulo canino izquierdo: 9.45°\n",
      "Ángulo canino derecho: 11.91°\n",
      "NO EXISTE RIESGO\n",
      "\n",
      "🔍 Procesando imagen: rx39.jpg\n"
     ]
    },
    {
     "name": "stderr",
     "output_type": "stream",
     "text": [
      "C:\\Users\\josem/.cache\\torch\\hub\\ultralytics_yolov5_master\\models\\common.py:906: FutureWarning: `torch.cuda.amp.autocast(args...)` is deprecated. Please use `torch.amp.autocast('cuda', args...)` instead.\n",
      "  with amp.autocast(autocast):\n"
     ]
    },
    {
     "name": "stdout",
     "output_type": "stream",
     "text": [
      "Ángulo canino izquierdo: 22.19°\n",
      "Ángulo canino derecho: 16.95°\n",
      "EXISTE RIESGO en uno o ambos caninos (>15°)\n",
      "\n",
      "🔍 Procesando imagen: rx4.jpg\n"
     ]
    },
    {
     "name": "stderr",
     "output_type": "stream",
     "text": [
      "C:\\Users\\josem/.cache\\torch\\hub\\ultralytics_yolov5_master\\models\\common.py:906: FutureWarning: `torch.cuda.amp.autocast(args...)` is deprecated. Please use `torch.amp.autocast('cuda', args...)` instead.\n",
      "  with amp.autocast(autocast):\n"
     ]
    },
    {
     "name": "stdout",
     "output_type": "stream",
     "text": [
      "Ángulo canino izquierdo: 13.61°\n",
      "Ángulo canino derecho: 31.0°\n",
      "EXISTE RIESGO en uno o ambos caninos (>15°)\n",
      "\n",
      "🔍 Procesando imagen: rx40.jpg\n"
     ]
    },
    {
     "name": "stderr",
     "output_type": "stream",
     "text": [
      "C:\\Users\\josem/.cache\\torch\\hub\\ultralytics_yolov5_master\\models\\common.py:906: FutureWarning: `torch.cuda.amp.autocast(args...)` is deprecated. Please use `torch.amp.autocast('cuda', args...)` instead.\n",
      "  with amp.autocast(autocast):\n"
     ]
    },
    {
     "name": "stdout",
     "output_type": "stream",
     "text": [
      "Ángulo canino izquierdo: 7.7°\n",
      "Ángulo canino derecho: 4.91°\n",
      "NO EXISTE RIESGO\n",
      "\n",
      "🔍 Procesando imagen: rx41.jpg\n"
     ]
    },
    {
     "name": "stderr",
     "output_type": "stream",
     "text": [
      "C:\\Users\\josem/.cache\\torch\\hub\\ultralytics_yolov5_master\\models\\common.py:906: FutureWarning: `torch.cuda.amp.autocast(args...)` is deprecated. Please use `torch.amp.autocast('cuda', args...)` instead.\n",
      "  with amp.autocast(autocast):\n"
     ]
    },
    {
     "name": "stdout",
     "output_type": "stream",
     "text": [
      "Ángulo canino izquierdo: 15.75°\n",
      "Ángulo canino derecho: 20.0°\n",
      "EXISTE RIESGO en uno o ambos caninos (>15°)\n",
      "\n",
      "🔍 Procesando imagen: rx42.jpg\n"
     ]
    },
    {
     "name": "stderr",
     "output_type": "stream",
     "text": [
      "C:\\Users\\josem/.cache\\torch\\hub\\ultralytics_yolov5_master\\models\\common.py:906: FutureWarning: `torch.cuda.amp.autocast(args...)` is deprecated. Please use `torch.amp.autocast('cuda', args...)` instead.\n",
      "  with amp.autocast(autocast):\n"
     ]
    },
    {
     "name": "stdout",
     "output_type": "stream",
     "text": [
      "Ángulo canino izquierdo: 6.06°\n",
      "Ángulo canino derecho: 13.74°\n",
      "NO EXISTE RIESGO\n",
      "\n",
      "🔍 Procesando imagen: rx43.jpg\n"
     ]
    },
    {
     "name": "stderr",
     "output_type": "stream",
     "text": [
      "C:\\Users\\josem/.cache\\torch\\hub\\ultralytics_yolov5_master\\models\\common.py:906: FutureWarning: `torch.cuda.amp.autocast(args...)` is deprecated. Please use `torch.amp.autocast('cuda', args...)` instead.\n",
      "  with amp.autocast(autocast):\n"
     ]
    },
    {
     "name": "stdout",
     "output_type": "stream",
     "text": [
      "Ángulo canino izquierdo: 13.11°\n",
      "Ángulo canino derecho: 17.6°\n",
      "EXISTE RIESGO en uno o ambos caninos (>15°)\n",
      "\n",
      "🔍 Procesando imagen: rx44.jpg\n"
     ]
    },
    {
     "name": "stderr",
     "output_type": "stream",
     "text": [
      "C:\\Users\\josem/.cache\\torch\\hub\\ultralytics_yolov5_master\\models\\common.py:906: FutureWarning: `torch.cuda.amp.autocast(args...)` is deprecated. Please use `torch.amp.autocast('cuda', args...)` instead.\n",
      "  with amp.autocast(autocast):\n"
     ]
    },
    {
     "name": "stdout",
     "output_type": "stream",
     "text": [
      "Ángulo canino izquierdo: 13.66°\n",
      "Ángulo canino derecho: 6.86°\n",
      "NO EXISTE RIESGO\n",
      "\n",
      "🔍 Procesando imagen: rx45.jpg\n"
     ]
    },
    {
     "name": "stderr",
     "output_type": "stream",
     "text": [
      "C:\\Users\\josem/.cache\\torch\\hub\\ultralytics_yolov5_master\\models\\common.py:906: FutureWarning: `torch.cuda.amp.autocast(args...)` is deprecated. Please use `torch.amp.autocast('cuda', args...)` instead.\n",
      "  with amp.autocast(autocast):\n"
     ]
    },
    {
     "name": "stdout",
     "output_type": "stream",
     "text": [
      "Ángulo canino izquierdo: 6.33°\n",
      "Ángulo canino derecho: 36.93°\n",
      "EXISTE RIESGO en uno o ambos caninos (>15°)\n",
      "\n",
      "🔍 Procesando imagen: rx46.jpg\n"
     ]
    },
    {
     "name": "stderr",
     "output_type": "stream",
     "text": [
      "C:\\Users\\josem/.cache\\torch\\hub\\ultralytics_yolov5_master\\models\\common.py:906: FutureWarning: `torch.cuda.amp.autocast(args...)` is deprecated. Please use `torch.amp.autocast('cuda', args...)` instead.\n",
      "  with amp.autocast(autocast):\n"
     ]
    },
    {
     "name": "stdout",
     "output_type": "stream",
     "text": [
      "Ángulo canino izquierdo: 23.21°\n",
      "Ángulo canino derecho: 5.8°\n",
      "EXISTE RIESGO en uno o ambos caninos (>15°)\n",
      "\n",
      "🔍 Procesando imagen: rx47.jpg\n"
     ]
    },
    {
     "name": "stderr",
     "output_type": "stream",
     "text": [
      "C:\\Users\\josem/.cache\\torch\\hub\\ultralytics_yolov5_master\\models\\common.py:906: FutureWarning: `torch.cuda.amp.autocast(args...)` is deprecated. Please use `torch.amp.autocast('cuda', args...)` instead.\n",
      "  with amp.autocast(autocast):\n"
     ]
    },
    {
     "name": "stdout",
     "output_type": "stream",
     "text": [
      "No se pudo calcular el ángulo del canino izquierdo.\n",
      "Ángulo canino derecho: 3.62°\n",
      "NO EXISTE RIESGO\n",
      "\n",
      "🔍 Procesando imagen: rx48.jpg\n"
     ]
    },
    {
     "name": "stderr",
     "output_type": "stream",
     "text": [
      "C:\\Users\\josem/.cache\\torch\\hub\\ultralytics_yolov5_master\\models\\common.py:906: FutureWarning: `torch.cuda.amp.autocast(args...)` is deprecated. Please use `torch.amp.autocast('cuda', args...)` instead.\n",
      "  with amp.autocast(autocast):\n"
     ]
    },
    {
     "name": "stdout",
     "output_type": "stream",
     "text": [
      "Ángulo canino izquierdo: 11.31°\n",
      "Ángulo canino derecho: 12.51°\n",
      "NO EXISTE RIESGO\n",
      "\n",
      "🔍 Procesando imagen: rx49.jpg\n"
     ]
    },
    {
     "name": "stderr",
     "output_type": "stream",
     "text": [
      "C:\\Users\\josem/.cache\\torch\\hub\\ultralytics_yolov5_master\\models\\common.py:906: FutureWarning: `torch.cuda.amp.autocast(args...)` is deprecated. Please use `torch.amp.autocast('cuda', args...)` instead.\n",
      "  with amp.autocast(autocast):\n"
     ]
    },
    {
     "name": "stdout",
     "output_type": "stream",
     "text": [
      "Ángulo canino izquierdo: 7.13°\n",
      "Ángulo canino derecho: 26.71°\n",
      "EXISTE RIESGO en uno o ambos caninos (>15°)\n",
      "\n",
      "🔍 Procesando imagen: rx5.jpg\n"
     ]
    },
    {
     "name": "stderr",
     "output_type": "stream",
     "text": [
      "C:\\Users\\josem/.cache\\torch\\hub\\ultralytics_yolov5_master\\models\\common.py:906: FutureWarning: `torch.cuda.amp.autocast(args...)` is deprecated. Please use `torch.amp.autocast('cuda', args...)` instead.\n",
      "  with amp.autocast(autocast):\n"
     ]
    },
    {
     "name": "stdout",
     "output_type": "stream",
     "text": [
      "Ángulo canino izquierdo: 13.53°\n",
      "Ángulo canino derecho: 18.25°\n",
      "EXISTE RIESGO en uno o ambos caninos (>15°)\n",
      "\n",
      "🔍 Procesando imagen: rx50.jpg\n"
     ]
    },
    {
     "name": "stderr",
     "output_type": "stream",
     "text": [
      "C:\\Users\\josem/.cache\\torch\\hub\\ultralytics_yolov5_master\\models\\common.py:906: FutureWarning: `torch.cuda.amp.autocast(args...)` is deprecated. Please use `torch.amp.autocast('cuda', args...)` instead.\n",
      "  with amp.autocast(autocast):\n"
     ]
    },
    {
     "name": "stdout",
     "output_type": "stream",
     "text": [
      "Ángulo canino izquierdo: 6.02°\n",
      "Ángulo canino derecho: 17.31°\n",
      "EXISTE RIESGO en uno o ambos caninos (>15°)\n",
      "\n",
      "🔍 Procesando imagen: rx51.jpg\n",
      "No se pudo calcular el ángulo del canino izquierdo.\n",
      "No se pudo calcular el ángulo del canino derecho.\n",
      "NO EXISTE RIESGO\n",
      "\n",
      "🔍 Procesando imagen: rx52.jpg\n"
     ]
    },
    {
     "name": "stderr",
     "output_type": "stream",
     "text": [
      "C:\\Users\\josem/.cache\\torch\\hub\\ultralytics_yolov5_master\\models\\common.py:906: FutureWarning: `torch.cuda.amp.autocast(args...)` is deprecated. Please use `torch.amp.autocast('cuda', args...)` instead.\n",
      "  with amp.autocast(autocast):\n",
      "C:\\Users\\josem/.cache\\torch\\hub\\ultralytics_yolov5_master\\models\\common.py:906: FutureWarning: `torch.cuda.amp.autocast(args...)` is deprecated. Please use `torch.amp.autocast('cuda', args...)` instead.\n",
      "  with amp.autocast(autocast):\n"
     ]
    },
    {
     "name": "stdout",
     "output_type": "stream",
     "text": [
      "Ángulo canino izquierdo: 2.33°\n",
      "No se pudo calcular el ángulo del canino derecho.\n",
      "NO EXISTE RIESGO\n",
      "\n",
      "🔍 Procesando imagen: rx53.jpg\n"
     ]
    },
    {
     "name": "stderr",
     "output_type": "stream",
     "text": [
      "C:\\Users\\josem/.cache\\torch\\hub\\ultralytics_yolov5_master\\models\\common.py:906: FutureWarning: `torch.cuda.amp.autocast(args...)` is deprecated. Please use `torch.amp.autocast('cuda', args...)` instead.\n",
      "  with amp.autocast(autocast):\n"
     ]
    },
    {
     "name": "stdout",
     "output_type": "stream",
     "text": [
      "Ángulo canino izquierdo: 18.25°\n",
      "Ángulo canino derecho: 10.06°\n",
      "EXISTE RIESGO en uno o ambos caninos (>15°)\n",
      "\n",
      "🔍 Procesando imagen: rx54.jpg\n"
     ]
    },
    {
     "name": "stderr",
     "output_type": "stream",
     "text": [
      "C:\\Users\\josem/.cache\\torch\\hub\\ultralytics_yolov5_master\\models\\common.py:906: FutureWarning: `torch.cuda.amp.autocast(args...)` is deprecated. Please use `torch.amp.autocast('cuda', args...)` instead.\n",
      "  with amp.autocast(autocast):\n"
     ]
    },
    {
     "name": "stdout",
     "output_type": "stream",
     "text": [
      "Ángulo canino izquierdo: 5.93°\n",
      "Ángulo canino derecho: 17.39°\n",
      "EXISTE RIESGO en uno o ambos caninos (>15°)\n",
      "\n",
      "🔍 Procesando imagen: rx55.jpg\n"
     ]
    },
    {
     "name": "stderr",
     "output_type": "stream",
     "text": [
      "C:\\Users\\josem/.cache\\torch\\hub\\ultralytics_yolov5_master\\models\\common.py:906: FutureWarning: `torch.cuda.amp.autocast(args...)` is deprecated. Please use `torch.amp.autocast('cuda', args...)` instead.\n",
      "  with amp.autocast(autocast):\n"
     ]
    },
    {
     "name": "stdout",
     "output_type": "stream",
     "text": [
      "Ángulo canino izquierdo: 9.58°\n",
      "Ángulo canino derecho: 18.09°\n",
      "EXISTE RIESGO en uno o ambos caninos (>15°)\n",
      "\n",
      "🔍 Procesando imagen: rx56.jpg\n"
     ]
    },
    {
     "name": "stderr",
     "output_type": "stream",
     "text": [
      "C:\\Users\\josem/.cache\\torch\\hub\\ultralytics_yolov5_master\\models\\common.py:906: FutureWarning: `torch.cuda.amp.autocast(args...)` is deprecated. Please use `torch.amp.autocast('cuda', args...)` instead.\n",
      "  with amp.autocast(autocast):\n"
     ]
    },
    {
     "name": "stdout",
     "output_type": "stream",
     "text": [
      "Ángulo canino izquierdo: 16.0°\n",
      "Ángulo canino derecho: 13.32°\n",
      "EXISTE RIESGO en uno o ambos caninos (>15°)\n",
      "\n",
      "🔍 Procesando imagen: rx57.jpg\n"
     ]
    },
    {
     "name": "stderr",
     "output_type": "stream",
     "text": [
      "C:\\Users\\josem/.cache\\torch\\hub\\ultralytics_yolov5_master\\models\\common.py:906: FutureWarning: `torch.cuda.amp.autocast(args...)` is deprecated. Please use `torch.amp.autocast('cuda', args...)` instead.\n",
      "  with amp.autocast(autocast):\n"
     ]
    },
    {
     "name": "stdout",
     "output_type": "stream",
     "text": [
      "Ángulo canino izquierdo: 17.27°\n",
      "Ángulo canino derecho: 23.03°\n",
      "EXISTE RIESGO en uno o ambos caninos (>15°)\n",
      "\n",
      "🔍 Procesando imagen: rx58.jpg\n"
     ]
    },
    {
     "name": "stderr",
     "output_type": "stream",
     "text": [
      "C:\\Users\\josem/.cache\\torch\\hub\\ultralytics_yolov5_master\\models\\common.py:906: FutureWarning: `torch.cuda.amp.autocast(args...)` is deprecated. Please use `torch.amp.autocast('cuda', args...)` instead.\n",
      "  with amp.autocast(autocast):\n"
     ]
    },
    {
     "name": "stdout",
     "output_type": "stream",
     "text": [
      "Ángulo canino izquierdo: 12.13°\n",
      "Ángulo canino derecho: 22.38°\n",
      "EXISTE RIESGO en uno o ambos caninos (>15°)\n",
      "\n",
      "🔍 Procesando imagen: rx59.jpg\n"
     ]
    },
    {
     "name": "stderr",
     "output_type": "stream",
     "text": [
      "C:\\Users\\josem/.cache\\torch\\hub\\ultralytics_yolov5_master\\models\\common.py:906: FutureWarning: `torch.cuda.amp.autocast(args...)` is deprecated. Please use `torch.amp.autocast('cuda', args...)` instead.\n",
      "  with amp.autocast(autocast):\n"
     ]
    },
    {
     "name": "stdout",
     "output_type": "stream",
     "text": [
      "Ángulo canino izquierdo: 17.23°\n",
      "Ángulo canino derecho: 15.0°\n",
      "EXISTE RIESGO en uno o ambos caninos (>15°)\n",
      "\n",
      "🔍 Procesando imagen: rx6.jpg\n"
     ]
    },
    {
     "name": "stderr",
     "output_type": "stream",
     "text": [
      "C:\\Users\\josem/.cache\\torch\\hub\\ultralytics_yolov5_master\\models\\common.py:906: FutureWarning: `torch.cuda.amp.autocast(args...)` is deprecated. Please use `torch.amp.autocast('cuda', args...)` instead.\n",
      "  with amp.autocast(autocast):\n"
     ]
    },
    {
     "name": "stdout",
     "output_type": "stream",
     "text": [
      "Ángulo canino izquierdo: 14.29°\n",
      "Ángulo canino derecho: 19.77°\n",
      "EXISTE RIESGO en uno o ambos caninos (>15°)\n",
      "\n",
      "🔍 Procesando imagen: rx60.jpg\n"
     ]
    },
    {
     "name": "stderr",
     "output_type": "stream",
     "text": [
      "C:\\Users\\josem/.cache\\torch\\hub\\ultralytics_yolov5_master\\models\\common.py:906: FutureWarning: `torch.cuda.amp.autocast(args...)` is deprecated. Please use `torch.amp.autocast('cuda', args...)` instead.\n",
      "  with amp.autocast(autocast):\n"
     ]
    },
    {
     "name": "stdout",
     "output_type": "stream",
     "text": [
      "Ángulo canino izquierdo: 8.36°\n",
      "Ángulo canino derecho: 17.96°\n",
      "EXISTE RIESGO en uno o ambos caninos (>15°)\n",
      "\n",
      "🔍 Procesando imagen: rx61.jpg\n"
     ]
    },
    {
     "name": "stderr",
     "output_type": "stream",
     "text": [
      "C:\\Users\\josem/.cache\\torch\\hub\\ultralytics_yolov5_master\\models\\common.py:906: FutureWarning: `torch.cuda.amp.autocast(args...)` is deprecated. Please use `torch.amp.autocast('cuda', args...)` instead.\n",
      "  with amp.autocast(autocast):\n"
     ]
    },
    {
     "name": "stdout",
     "output_type": "stream",
     "text": [
      "Ángulo canino izquierdo: 22.91°\n",
      "No se pudo calcular el ángulo del canino derecho.\n",
      "EXISTE RIESGO en uno o ambos caninos (>15°)\n",
      "\n",
      "🔍 Procesando imagen: rx62.jpg\n"
     ]
    },
    {
     "name": "stderr",
     "output_type": "stream",
     "text": [
      "C:\\Users\\josem/.cache\\torch\\hub\\ultralytics_yolov5_master\\models\\common.py:906: FutureWarning: `torch.cuda.amp.autocast(args...)` is deprecated. Please use `torch.amp.autocast('cuda', args...)` instead.\n",
      "  with amp.autocast(autocast):\n"
     ]
    },
    {
     "name": "stdout",
     "output_type": "stream",
     "text": [
      "Ángulo canino izquierdo: 8.18°\n",
      "Ángulo canino derecho: 8.27°\n",
      "NO EXISTE RIESGO\n",
      "\n",
      "🔍 Procesando imagen: rx63.jpg\n"
     ]
    },
    {
     "name": "stderr",
     "output_type": "stream",
     "text": [
      "C:\\Users\\josem/.cache\\torch\\hub\\ultralytics_yolov5_master\\models\\common.py:906: FutureWarning: `torch.cuda.amp.autocast(args...)` is deprecated. Please use `torch.amp.autocast('cuda', args...)` instead.\n",
      "  with amp.autocast(autocast):\n"
     ]
    },
    {
     "name": "stdout",
     "output_type": "stream",
     "text": [
      "Ángulo canino izquierdo: 16.82°\n",
      "Ángulo canino derecho: 19.77°\n",
      "EXISTE RIESGO en uno o ambos caninos (>15°)\n",
      "\n",
      "🔍 Procesando imagen: rx64.jpg\n"
     ]
    },
    {
     "name": "stderr",
     "output_type": "stream",
     "text": [
      "C:\\Users\\josem/.cache\\torch\\hub\\ultralytics_yolov5_master\\models\\common.py:906: FutureWarning: `torch.cuda.amp.autocast(args...)` is deprecated. Please use `torch.amp.autocast('cuda', args...)` instead.\n",
      "  with amp.autocast(autocast):\n"
     ]
    },
    {
     "name": "stdout",
     "output_type": "stream",
     "text": [
      "Ángulo canino izquierdo: 0.4°\n",
      "Ángulo canino derecho: 17.6°\n",
      "EXISTE RIESGO en uno o ambos caninos (>15°)\n",
      "\n",
      "🔍 Procesando imagen: rx65.jpg\n"
     ]
    },
    {
     "name": "stderr",
     "output_type": "stream",
     "text": [
      "C:\\Users\\josem/.cache\\torch\\hub\\ultralytics_yolov5_master\\models\\common.py:906: FutureWarning: `torch.cuda.amp.autocast(args...)` is deprecated. Please use `torch.amp.autocast('cuda', args...)` instead.\n",
      "  with amp.autocast(autocast):\n"
     ]
    },
    {
     "name": "stdout",
     "output_type": "stream",
     "text": [
      "Ángulo canino izquierdo: 14.88°\n",
      "Ángulo canino derecho: 17.35°\n",
      "EXISTE RIESGO en uno o ambos caninos (>15°)\n",
      "\n",
      "🔍 Procesando imagen: rx66.jpg\n"
     ]
    },
    {
     "name": "stderr",
     "output_type": "stream",
     "text": [
      "C:\\Users\\josem/.cache\\torch\\hub\\ultralytics_yolov5_master\\models\\common.py:906: FutureWarning: `torch.cuda.amp.autocast(args...)` is deprecated. Please use `torch.amp.autocast('cuda', args...)` instead.\n",
      "  with amp.autocast(autocast):\n"
     ]
    },
    {
     "name": "stdout",
     "output_type": "stream",
     "text": [
      "Ángulo canino izquierdo: 5.93°\n",
      "Ángulo canino derecho: 14.37°\n",
      "NO EXISTE RIESGO\n",
      "\n",
      "🔍 Procesando imagen: rx67.jpg\n"
     ]
    },
    {
     "name": "stderr",
     "output_type": "stream",
     "text": [
      "C:\\Users\\josem/.cache\\torch\\hub\\ultralytics_yolov5_master\\models\\common.py:906: FutureWarning: `torch.cuda.amp.autocast(args...)` is deprecated. Please use `torch.amp.autocast('cuda', args...)` instead.\n",
      "  with amp.autocast(autocast):\n"
     ]
    },
    {
     "name": "stdout",
     "output_type": "stream",
     "text": [
      "Ángulo canino izquierdo: 7.7°\n",
      "Ángulo canino derecho: 25.04°\n",
      "EXISTE RIESGO en uno o ambos caninos (>15°)\n",
      "\n",
      "🔍 Procesando imagen: rx68.jpg\n"
     ]
    },
    {
     "name": "stderr",
     "output_type": "stream",
     "text": [
      "C:\\Users\\josem/.cache\\torch\\hub\\ultralytics_yolov5_master\\models\\common.py:906: FutureWarning: `torch.cuda.amp.autocast(args...)` is deprecated. Please use `torch.amp.autocast('cuda', args...)` instead.\n",
      "  with amp.autocast(autocast):\n"
     ]
    },
    {
     "name": "stdout",
     "output_type": "stream",
     "text": [
      "Ángulo canino izquierdo: 19.05°\n",
      "Ángulo canino derecho: 11.91°\n",
      "EXISTE RIESGO en uno o ambos caninos (>15°)\n",
      "\n",
      "🔍 Procesando imagen: rx69.jpg\n"
     ]
    },
    {
     "name": "stderr",
     "output_type": "stream",
     "text": [
      "C:\\Users\\josem/.cache\\torch\\hub\\ultralytics_yolov5_master\\models\\common.py:906: FutureWarning: `torch.cuda.amp.autocast(args...)` is deprecated. Please use `torch.amp.autocast('cuda', args...)` instead.\n",
      "  with amp.autocast(autocast):\n"
     ]
    },
    {
     "name": "stdout",
     "output_type": "stream",
     "text": [
      "Ángulo canino izquierdo: 8.22°\n",
      "Ángulo canino derecho: 2.37°\n",
      "NO EXISTE RIESGO\n",
      "\n",
      "🔍 Procesando imagen: rx7.jpg\n"
     ]
    },
    {
     "name": "stderr",
     "output_type": "stream",
     "text": [
      "C:\\Users\\josem/.cache\\torch\\hub\\ultralytics_yolov5_master\\models\\common.py:906: FutureWarning: `torch.cuda.amp.autocast(args...)` is deprecated. Please use `torch.amp.autocast('cuda', args...)` instead.\n",
      "  with amp.autocast(autocast):\n"
     ]
    },
    {
     "name": "stdout",
     "output_type": "stream",
     "text": [
      "Ángulo canino izquierdo: 11.61°\n",
      "Ángulo canino derecho: 15.38°\n",
      "EXISTE RIESGO en uno o ambos caninos (>15°)\n",
      "\n",
      "🔍 Procesando imagen: rx70.jpg\n"
     ]
    },
    {
     "name": "stderr",
     "output_type": "stream",
     "text": [
      "C:\\Users\\josem/.cache\\torch\\hub\\ultralytics_yolov5_master\\models\\common.py:906: FutureWarning: `torch.cuda.amp.autocast(args...)` is deprecated. Please use `torch.amp.autocast('cuda', args...)` instead.\n",
      "  with amp.autocast(autocast):\n"
     ]
    },
    {
     "name": "stdout",
     "output_type": "stream",
     "text": [
      "Ángulo canino izquierdo: 19.57°\n",
      "Ángulo canino derecho: 14.58°\n",
      "EXISTE RIESGO en uno o ambos caninos (>15°)\n",
      "\n",
      "🔍 Procesando imagen: rx71.jpg\n"
     ]
    },
    {
     "name": "stderr",
     "output_type": "stream",
     "text": [
      "C:\\Users\\josem/.cache\\torch\\hub\\ultralytics_yolov5_master\\models\\common.py:906: FutureWarning: `torch.cuda.amp.autocast(args...)` is deprecated. Please use `torch.amp.autocast('cuda', args...)` instead.\n",
      "  with amp.autocast(autocast):\n"
     ]
    },
    {
     "name": "stdout",
     "output_type": "stream",
     "text": [
      "No se pudo calcular el ángulo del canino izquierdo.\n",
      "Ángulo canino derecho: 15.33°\n",
      "EXISTE RIESGO en uno o ambos caninos (>15°)\n",
      "\n",
      "🔍 Procesando imagen: rx72.jpg\n"
     ]
    },
    {
     "name": "stderr",
     "output_type": "stream",
     "text": [
      "C:\\Users\\josem/.cache\\torch\\hub\\ultralytics_yolov5_master\\models\\common.py:906: FutureWarning: `torch.cuda.amp.autocast(args...)` is deprecated. Please use `torch.amp.autocast('cuda', args...)` instead.\n",
      "  with amp.autocast(autocast):\n"
     ]
    },
    {
     "name": "stdout",
     "output_type": "stream",
     "text": [
      "Ángulo canino izquierdo: 10.84°\n",
      "Ángulo canino derecho: 16.78°\n",
      "EXISTE RIESGO en uno o ambos caninos (>15°)\n",
      "\n",
      "🔍 Procesando imagen: rx73.jpg\n"
     ]
    },
    {
     "name": "stderr",
     "output_type": "stream",
     "text": [
      "C:\\Users\\josem/.cache\\torch\\hub\\ultralytics_yolov5_master\\models\\common.py:906: FutureWarning: `torch.cuda.amp.autocast(args...)` is deprecated. Please use `torch.amp.autocast('cuda', args...)` instead.\n",
      "  with amp.autocast(autocast):\n"
     ]
    },
    {
     "name": "stdout",
     "output_type": "stream",
     "text": [
      "Ángulo canino izquierdo: 13.95°\n",
      "Ángulo canino derecho: 13.4°\n",
      "NO EXISTE RIESGO\n",
      "\n",
      "🔍 Procesando imagen: rx74.jpg\n"
     ]
    },
    {
     "name": "stderr",
     "output_type": "stream",
     "text": [
      "C:\\Users\\josem/.cache\\torch\\hub\\ultralytics_yolov5_master\\models\\common.py:906: FutureWarning: `torch.cuda.amp.autocast(args...)` is deprecated. Please use `torch.amp.autocast('cuda', args...)` instead.\n",
      "  with amp.autocast(autocast):\n"
     ]
    },
    {
     "name": "stdout",
     "output_type": "stream",
     "text": [
      "Ángulo canino izquierdo: 11.7°\n",
      "Ángulo canino derecho: 4.6°\n",
      "NO EXISTE RIESGO\n",
      "\n",
      "🔍 Procesando imagen: rx75.jpg\n",
      "No se pudo calcular el ángulo del canino izquierdo.\n",
      "No se pudo calcular el ángulo del canino derecho.\n",
      "NO EXISTE RIESGO\n",
      "\n",
      "🔍 Procesando imagen: rx76.jpg\n"
     ]
    },
    {
     "name": "stderr",
     "output_type": "stream",
     "text": [
      "C:\\Users\\josem/.cache\\torch\\hub\\ultralytics_yolov5_master\\models\\common.py:906: FutureWarning: `torch.cuda.amp.autocast(args...)` is deprecated. Please use `torch.amp.autocast('cuda', args...)` instead.\n",
      "  with amp.autocast(autocast):\n",
      "C:\\Users\\josem/.cache\\torch\\hub\\ultralytics_yolov5_master\\models\\common.py:906: FutureWarning: `torch.cuda.amp.autocast(args...)` is deprecated. Please use `torch.amp.autocast('cuda', args...)` instead.\n",
      "  with amp.autocast(autocast):\n"
     ]
    },
    {
     "name": "stdout",
     "output_type": "stream",
     "text": [
      "No se pudo calcular el ángulo del canino izquierdo.\n",
      "Ángulo canino derecho: 2.68°\n",
      "NO EXISTE RIESGO\n",
      "\n",
      "🔍 Procesando imagen: rx77.jpg\n"
     ]
    },
    {
     "name": "stderr",
     "output_type": "stream",
     "text": [
      "C:\\Users\\josem/.cache\\torch\\hub\\ultralytics_yolov5_master\\models\\common.py:906: FutureWarning: `torch.cuda.amp.autocast(args...)` is deprecated. Please use `torch.amp.autocast('cuda', args...)` instead.\n",
      "  with amp.autocast(autocast):\n"
     ]
    },
    {
     "name": "stdout",
     "output_type": "stream",
     "text": [
      "Ángulo canino izquierdo: 7.7°\n",
      "Ángulo canino derecho: 14.71°\n",
      "NO EXISTE RIESGO\n",
      "\n",
      "🔍 Procesando imagen: rx78.jpg\n"
     ]
    },
    {
     "name": "stderr",
     "output_type": "stream",
     "text": [
      "C:\\Users\\josem/.cache\\torch\\hub\\ultralytics_yolov5_master\\models\\common.py:906: FutureWarning: `torch.cuda.amp.autocast(args...)` is deprecated. Please use `torch.amp.autocast('cuda', args...)` instead.\n",
      "  with amp.autocast(autocast):\n"
     ]
    },
    {
     "name": "stdout",
     "output_type": "stream",
     "text": [
      "Ángulo canino izquierdo: 9.06°\n",
      "Ángulo canino derecho: 9.1°\n",
      "NO EXISTE RIESGO\n",
      "\n",
      "🔍 Procesando imagen: rx79.jpg\n"
     ]
    },
    {
     "name": "stderr",
     "output_type": "stream",
     "text": [
      "C:\\Users\\josem/.cache\\torch\\hub\\ultralytics_yolov5_master\\models\\common.py:906: FutureWarning: `torch.cuda.amp.autocast(args...)` is deprecated. Please use `torch.amp.autocast('cuda', args...)` instead.\n",
      "  with amp.autocast(autocast):\n"
     ]
    },
    {
     "name": "stdout",
     "output_type": "stream",
     "text": [
      "Ángulo canino izquierdo: 11.61°\n",
      "Ángulo canino derecho: 14.88°\n",
      "NO EXISTE RIESGO\n",
      "\n",
      "🔍 Procesando imagen: rx8.jpg\n"
     ]
    },
    {
     "name": "stderr",
     "output_type": "stream",
     "text": [
      "C:\\Users\\josem/.cache\\torch\\hub\\ultralytics_yolov5_master\\models\\common.py:906: FutureWarning: `torch.cuda.amp.autocast(args...)` is deprecated. Please use `torch.amp.autocast('cuda', args...)` instead.\n",
      "  with amp.autocast(autocast):\n"
     ]
    },
    {
     "name": "stdout",
     "output_type": "stream",
     "text": [
      "Ángulo canino izquierdo: 13.32°\n",
      "Ángulo canino derecho: 13.32°\n",
      "NO EXISTE RIESGO\n",
      "\n",
      "🔍 Procesando imagen: rx80.jpg\n"
     ]
    },
    {
     "name": "stderr",
     "output_type": "stream",
     "text": [
      "C:\\Users\\josem/.cache\\torch\\hub\\ultralytics_yolov5_master\\models\\common.py:906: FutureWarning: `torch.cuda.amp.autocast(args...)` is deprecated. Please use `torch.amp.autocast('cuda', args...)` instead.\n",
      "  with amp.autocast(autocast):\n"
     ]
    },
    {
     "name": "stdout",
     "output_type": "stream",
     "text": [
      "No se pudo calcular el ángulo del canino izquierdo.\n",
      "Ángulo canino derecho: 14.79°\n",
      "NO EXISTE RIESGO\n",
      "\n",
      "🔍 Procesando imagen: rx81.jpg\n"
     ]
    },
    {
     "name": "stderr",
     "output_type": "stream",
     "text": [
      "C:\\Users\\josem/.cache\\torch\\hub\\ultralytics_yolov5_master\\models\\common.py:906: FutureWarning: `torch.cuda.amp.autocast(args...)` is deprecated. Please use `torch.amp.autocast('cuda', args...)` instead.\n",
      "  with amp.autocast(autocast):\n"
     ]
    },
    {
     "name": "stdout",
     "output_type": "stream",
     "text": [
      "Ángulo canino izquierdo: 3.58°\n",
      "Ángulo canino derecho: 13.91°\n",
      "NO EXISTE RIESGO\n",
      "\n",
      "🔍 Procesando imagen: rx82.jpg\n"
     ]
    },
    {
     "name": "stderr",
     "output_type": "stream",
     "text": [
      "C:\\Users\\josem/.cache\\torch\\hub\\ultralytics_yolov5_master\\models\\common.py:906: FutureWarning: `torch.cuda.amp.autocast(args...)` is deprecated. Please use `torch.amp.autocast('cuda', args...)` instead.\n",
      "  with amp.autocast(autocast):\n"
     ]
    },
    {
     "name": "stdout",
     "output_type": "stream",
     "text": [
      "Ángulo canino izquierdo: 16.37°\n",
      "Ángulo canino derecho: 15.21°\n",
      "EXISTE RIESGO en uno o ambos caninos (>15°)\n",
      "\n",
      "🔍 Procesando imagen: rx83.jpg\n"
     ]
    },
    {
     "name": "stderr",
     "output_type": "stream",
     "text": [
      "C:\\Users\\josem/.cache\\torch\\hub\\ultralytics_yolov5_master\\models\\common.py:906: FutureWarning: `torch.cuda.amp.autocast(args...)` is deprecated. Please use `torch.amp.autocast('cuda', args...)` instead.\n",
      "  with amp.autocast(autocast):\n"
     ]
    },
    {
     "name": "stdout",
     "output_type": "stream",
     "text": [
      "Ángulo canino izquierdo: 15.92°\n",
      "Ángulo canino derecho: 13.44°\n",
      "EXISTE RIESGO en uno o ambos caninos (>15°)\n",
      "\n",
      "🔍 Procesando imagen: rx84.jpg\n"
     ]
    },
    {
     "name": "stderr",
     "output_type": "stream",
     "text": [
      "C:\\Users\\josem/.cache\\torch\\hub\\ultralytics_yolov5_master\\models\\common.py:906: FutureWarning: `torch.cuda.amp.autocast(args...)` is deprecated. Please use `torch.amp.autocast('cuda', args...)` instead.\n",
      "  with amp.autocast(autocast):\n"
     ]
    },
    {
     "name": "stdout",
     "output_type": "stream",
     "text": [
      "Ángulo canino izquierdo: 13.06°\n",
      "Ángulo canino derecho: 9.4°\n",
      "NO EXISTE RIESGO\n",
      "\n",
      "🔍 Procesando imagen: rx85.jpg\n"
     ]
    },
    {
     "name": "stderr",
     "output_type": "stream",
     "text": [
      "C:\\Users\\josem/.cache\\torch\\hub\\ultralytics_yolov5_master\\models\\common.py:906: FutureWarning: `torch.cuda.amp.autocast(args...)` is deprecated. Please use `torch.amp.autocast('cuda', args...)` instead.\n",
      "  with amp.autocast(autocast):\n"
     ]
    },
    {
     "name": "stdout",
     "output_type": "stream",
     "text": [
      "Ángulo canino izquierdo: 7.17°\n",
      "Ángulo canino derecho: 17.07°\n",
      "EXISTE RIESGO en uno o ambos caninos (>15°)\n",
      "\n",
      "🔍 Procesando imagen: rx86.jpg\n"
     ]
    },
    {
     "name": "stderr",
     "output_type": "stream",
     "text": [
      "C:\\Users\\josem/.cache\\torch\\hub\\ultralytics_yolov5_master\\models\\common.py:906: FutureWarning: `torch.cuda.amp.autocast(args...)` is deprecated. Please use `torch.amp.autocast('cuda', args...)` instead.\n",
      "  with amp.autocast(autocast):\n"
     ]
    },
    {
     "name": "stdout",
     "output_type": "stream",
     "text": [
      "Ángulo canino izquierdo: 16.74°\n",
      "Ángulo canino derecho: 15.17°\n",
      "EXISTE RIESGO en uno o ambos caninos (>15°)\n",
      "\n",
      "🔍 Procesando imagen: rx87.jpg\n"
     ]
    },
    {
     "name": "stderr",
     "output_type": "stream",
     "text": [
      "C:\\Users\\josem/.cache\\torch\\hub\\ultralytics_yolov5_master\\models\\common.py:906: FutureWarning: `torch.cuda.amp.autocast(args...)` is deprecated. Please use `torch.amp.autocast('cuda', args...)` instead.\n",
      "  with amp.autocast(autocast):\n"
     ]
    },
    {
     "name": "stdout",
     "output_type": "stream",
     "text": [
      "Ángulo canino izquierdo: 14.2°\n",
      "Ángulo canino derecho: 6.73°\n",
      "NO EXISTE RIESGO\n",
      "\n",
      "🔍 Procesando imagen: rx88.jpg\n"
     ]
    },
    {
     "name": "stderr",
     "output_type": "stream",
     "text": [
      "C:\\Users\\josem/.cache\\torch\\hub\\ultralytics_yolov5_master\\models\\common.py:906: FutureWarning: `torch.cuda.amp.autocast(args...)` is deprecated. Please use `torch.amp.autocast('cuda', args...)` instead.\n",
      "  with amp.autocast(autocast):\n"
     ]
    },
    {
     "name": "stdout",
     "output_type": "stream",
     "text": [
      "Ángulo canino izquierdo: 14.04°\n",
      "Ángulo canino derecho: 9.4°\n",
      "NO EXISTE RIESGO\n",
      "\n",
      "🔍 Procesando imagen: rx89.jpg\n"
     ]
    },
    {
     "name": "stderr",
     "output_type": "stream",
     "text": [
      "C:\\Users\\josem/.cache\\torch\\hub\\ultralytics_yolov5_master\\models\\common.py:906: FutureWarning: `torch.cuda.amp.autocast(args...)` is deprecated. Please use `torch.amp.autocast('cuda', args...)` instead.\n",
      "  with amp.autocast(autocast):\n"
     ]
    },
    {
     "name": "stdout",
     "output_type": "stream",
     "text": [
      "Ángulo canino izquierdo: 4.73°\n",
      "Ángulo canino derecho: 18.41°\n",
      "EXISTE RIESGO en uno o ambos caninos (>15°)\n",
      "\n",
      "🔍 Procesando imagen: rx9.jpg\n"
     ]
    },
    {
     "name": "stderr",
     "output_type": "stream",
     "text": [
      "C:\\Users\\josem/.cache\\torch\\hub\\ultralytics_yolov5_master\\models\\common.py:906: FutureWarning: `torch.cuda.amp.autocast(args...)` is deprecated. Please use `torch.amp.autocast('cuda', args...)` instead.\n",
      "  with amp.autocast(autocast):\n"
     ]
    },
    {
     "name": "stdout",
     "output_type": "stream",
     "text": [
      "Ángulo canino izquierdo: 4.07°\n",
      "Ángulo canino derecho: 26.35°\n",
      "EXISTE RIESGO en uno o ambos caninos (>15°)\n",
      "\n",
      "🔍 Procesando imagen: rx90.jpg\n"
     ]
    },
    {
     "name": "stderr",
     "output_type": "stream",
     "text": [
      "C:\\Users\\josem/.cache\\torch\\hub\\ultralytics_yolov5_master\\models\\common.py:906: FutureWarning: `torch.cuda.amp.autocast(args...)` is deprecated. Please use `torch.amp.autocast('cuda', args...)` instead.\n",
      "  with amp.autocast(autocast):\n"
     ]
    },
    {
     "name": "stdout",
     "output_type": "stream",
     "text": [
      "Ángulo canino izquierdo: 16.9°\n",
      "Ángulo canino derecho: 11.27°\n",
      "EXISTE RIESGO en uno o ambos caninos (>15°)\n",
      "\n",
      "🔍 Procesando imagen: rx91.jpg\n"
     ]
    },
    {
     "name": "stderr",
     "output_type": "stream",
     "text": [
      "C:\\Users\\josem/.cache\\torch\\hub\\ultralytics_yolov5_master\\models\\common.py:906: FutureWarning: `torch.cuda.amp.autocast(args...)` is deprecated. Please use `torch.amp.autocast('cuda', args...)` instead.\n",
      "  with amp.autocast(autocast):\n"
     ]
    },
    {
     "name": "stdout",
     "output_type": "stream",
     "text": [
      "Ángulo canino izquierdo: 12.64°\n",
      "Ángulo canino derecho: 1.48°\n",
      "NO EXISTE RIESGO\n",
      "\n",
      "🔍 Procesando imagen: rx92.jpg\n"
     ]
    },
    {
     "name": "stderr",
     "output_type": "stream",
     "text": [
      "C:\\Users\\josem/.cache\\torch\\hub\\ultralytics_yolov5_master\\models\\common.py:906: FutureWarning: `torch.cuda.amp.autocast(args...)` is deprecated. Please use `torch.amp.autocast('cuda', args...)` instead.\n",
      "  with amp.autocast(autocast):\n"
     ]
    },
    {
     "name": "stdout",
     "output_type": "stream",
     "text": [
      "Ángulo canino izquierdo: 16.45°\n",
      "No se pudo calcular el ángulo del canino derecho.\n",
      "EXISTE RIESGO en uno o ambos caninos (>15°)\n",
      "\n",
      "🔍 Procesando imagen: rx93.jpg\n"
     ]
    },
    {
     "name": "stderr",
     "output_type": "stream",
     "text": [
      "C:\\Users\\josem/.cache\\torch\\hub\\ultralytics_yolov5_master\\models\\common.py:906: FutureWarning: `torch.cuda.amp.autocast(args...)` is deprecated. Please use `torch.amp.autocast('cuda', args...)` instead.\n",
      "  with amp.autocast(autocast):\n"
     ]
    },
    {
     "name": "stdout",
     "output_type": "stream",
     "text": [
      "Ángulo canino izquierdo: 11.48°\n",
      "No se pudo calcular el ángulo del canino derecho.\n",
      "NO EXISTE RIESGO\n",
      "\n",
      "🔍 Procesando imagen: rx94.jpg\n"
     ]
    },
    {
     "name": "stderr",
     "output_type": "stream",
     "text": [
      "C:\\Users\\josem/.cache\\torch\\hub\\ultralytics_yolov5_master\\models\\common.py:906: FutureWarning: `torch.cuda.amp.autocast(args...)` is deprecated. Please use `torch.amp.autocast('cuda', args...)` instead.\n",
      "  with amp.autocast(autocast):\n"
     ]
    },
    {
     "name": "stdout",
     "output_type": "stream",
     "text": [
      "Ángulo canino izquierdo: 11.91°\n",
      "Ángulo canino derecho: 15.67°\n",
      "EXISTE RIESGO en uno o ambos caninos (>15°)\n",
      "\n",
      "🔍 Procesando imagen: rx95.jpg\n"
     ]
    },
    {
     "name": "stderr",
     "output_type": "stream",
     "text": [
      "C:\\Users\\josem/.cache\\torch\\hub\\ultralytics_yolov5_master\\models\\common.py:906: FutureWarning: `torch.cuda.amp.autocast(args...)` is deprecated. Please use `torch.amp.autocast('cuda', args...)` instead.\n",
      "  with amp.autocast(autocast):\n"
     ]
    },
    {
     "name": "stdout",
     "output_type": "stream",
     "text": [
      "Ángulo canino izquierdo: 18.73°\n",
      "No se pudo calcular el ángulo del canino derecho.\n",
      "EXISTE RIESGO en uno o ambos caninos (>15°)\n",
      "\n",
      "🔍 Procesando imagen: rx96.jpg\n"
     ]
    },
    {
     "name": "stderr",
     "output_type": "stream",
     "text": [
      "C:\\Users\\josem/.cache\\torch\\hub\\ultralytics_yolov5_master\\models\\common.py:906: FutureWarning: `torch.cuda.amp.autocast(args...)` is deprecated. Please use `torch.amp.autocast('cuda', args...)` instead.\n",
      "  with amp.autocast(autocast):\n"
     ]
    },
    {
     "name": "stdout",
     "output_type": "stream",
     "text": [
      "Ángulo canino izquierdo: 17.44°\n",
      "Ángulo canino derecho: 8.92°\n",
      "EXISTE RIESGO en uno o ambos caninos (>15°)\n",
      "\n",
      "🔍 Procesando imagen: rx97.jpg\n"
     ]
    },
    {
     "name": "stderr",
     "output_type": "stream",
     "text": [
      "C:\\Users\\josem/.cache\\torch\\hub\\ultralytics_yolov5_master\\models\\common.py:906: FutureWarning: `torch.cuda.amp.autocast(args...)` is deprecated. Please use `torch.amp.autocast('cuda', args...)` instead.\n",
      "  with amp.autocast(autocast):\n"
     ]
    },
    {
     "name": "stdout",
     "output_type": "stream",
     "text": [
      "Ángulo canino izquierdo: 15.92°\n",
      "Ángulo canino derecho: 2.91°\n",
      "EXISTE RIESGO en uno o ambos caninos (>15°)\n",
      "\n",
      "🔍 Procesando imagen: rx98.jpg\n"
     ]
    },
    {
     "name": "stderr",
     "output_type": "stream",
     "text": [
      "C:\\Users\\josem/.cache\\torch\\hub\\ultralytics_yolov5_master\\models\\common.py:906: FutureWarning: `torch.cuda.amp.autocast(args...)` is deprecated. Please use `torch.amp.autocast('cuda', args...)` instead.\n",
      "  with amp.autocast(autocast):\n"
     ]
    },
    {
     "name": "stdout",
     "output_type": "stream",
     "text": [
      "Ángulo canino izquierdo: 17.31°\n",
      "Ángulo canino derecho: 25.41°\n",
      "EXISTE RIESGO en uno o ambos caninos (>15°)\n",
      "\n",
      "🔍 Procesando imagen: rx99.jpg\n"
     ]
    },
    {
     "name": "stderr",
     "output_type": "stream",
     "text": [
      "C:\\Users\\josem/.cache\\torch\\hub\\ultralytics_yolov5_master\\models\\common.py:906: FutureWarning: `torch.cuda.amp.autocast(args...)` is deprecated. Please use `torch.amp.autocast('cuda', args...)` instead.\n",
      "  with amp.autocast(autocast):\n"
     ]
    },
    {
     "name": "stdout",
     "output_type": "stream",
     "text": [
      "Ángulo canino izquierdo: 17.68°\n",
      "Ángulo canino derecho: 7.79°\n",
      "EXISTE RIESGO en uno o ambos caninos (>15°)\n"
     ]
    }
   ],
   "source": [
    "\n",
    "# ESTE ES PARA JUGAR CON LOS DOS MODELOS\n",
    "import os\n",
    "import cv2\n",
    "import torch\n",
    "import numpy as np\n",
    "from PIL import Image\n",
    "from torchvision import transforms\n",
    "from tooth_shape_model_unet import UNet  # Usa tu clase UNet\n",
    "\n",
    "# =======================\n",
    "# CONFIGURACIÓN GENERAL\n",
    "# =======================\n",
    "IMG_HEIGHT = 256\n",
    "IMG_WIDTH = 256\n",
    "NUM_CLASSES = 3\n",
    "CONF_THRESHOLD = 0.8\n",
    "\n",
    "input_dir = \"riesgo_clasificado\"\n",
    "output_dir = \"resultados\"\n",
    "os.makedirs(output_dir, exist_ok=True)\n",
    "\n",
    "device = torch.device('cuda' if torch.cuda.is_available() else 'cpu')\n",
    "\n",
    "# =======================\n",
    "# CARGA DE MODELOS\n",
    "# =======================\n",
    "model_izq = UNet(num_classes=NUM_CLASSES).to(device)\n",
    "model_izq.load_state_dict(torch.load(\"models/tooth_shape_unet.pth\", map_location=device))\n",
    "model_izq.eval()\n",
    "\n",
    "model_der = UNet(num_classes=NUM_CLASSES).to(device)\n",
    "model_der.load_state_dict(torch.load(\"models/modelo2.pth\", map_location=device))\n",
    "model_der.eval()\n",
    "\n",
    "model_yolo = torch.hub.load('ultralytics/yolov5', 'custom', path='models/tooth_detection.pt').to(device)\n",
    "model_yolo.conf = CONF_THRESHOLD\n",
    "\n",
    "infer_transform = transforms.Compose([\n",
    "    transforms.Resize((IMG_HEIGHT, IMG_WIDTH)),\n",
    "    transforms.ToTensor(),\n",
    "])\n",
    "\n",
    "# =======================\n",
    "# FUNCIONES QUE DEBES DEFINIR\n",
    "# =======================\n",
    "def calculate_line_intersection(line1_p1, line1_p2, line2_p1, line2_p2):\n",
    "    \"\"\"\n",
    "    Calcula el punto de intersección entre dos líneas definidas por dos puntos cada una.\n",
    "    Si las líneas son paralelas o no se intersectan dentro de los límites de la imagen, devuelve None.\n",
    "    \n",
    "    Args:\n",
    "        line1_p1, line1_p2: Puntos que definen la primera línea\n",
    "        line2_p1, line2_p2: Puntos que definen la segunda línea\n",
    "        \n",
    "    Returns:\n",
    "        tuple: Coordenadas (x, y) del punto de intersección o None si no hay intersección\n",
    "    \"\"\"\n",
    "    # Línea 1: (x1, y1) a (x2, y2)\n",
    "    x1, y1 = line1_p1\n",
    "    x2, y2 = line1_p2\n",
    "    \n",
    "    # Línea 2: (x3, y3) a (x4, y4)\n",
    "    x3, y3 = line2_p1\n",
    "    x4, y4 = line2_p2\n",
    "    \n",
    "    # Calcular denominador para verificar si las líneas son paralelas\n",
    "    denom = (y4 - y3) * (x2 - x1) - (x4 - x3) * (y2 - y1)\n",
    "    \n",
    "    if denom == 0:  # Líneas paralelas\n",
    "        return None\n",
    "    \n",
    "    # Calcular el punto de intersección\n",
    "    ua = ((x4 - x3) * (y1 - y3) - (y4 - y3) * (x1 - x3)) / denom\n",
    "    \n",
    "    # Punto de intersección\n",
    "    x = x1 + ua * (x2 - x1)\n",
    "    y = y1 + ua * (y2 - y1)\n",
    "    \n",
    "    return (int(x), int(y))\n",
    "def extend_line_to_boundaries(point1, point2, img_width, img_height, midline_x=None):\n",
    "    \"\"\"\n",
    "    Extiende una línea definida por dos puntos hasta los límites de la imagen o hasta intersectar con la línea media.\n",
    "    \n",
    "    Args:\n",
    "        point1 (tuple): Coordenadas (x, y) del primer punto.\n",
    "        point2 (tuple): Coordenadas (x, y) del segundo punto.\n",
    "        img_width (int): Ancho de la imagen.\n",
    "        img_height (int): Alto de la imagen.\n",
    "        midline_x (int, opcional): Coordenada x de la línea media. Si se proporciona, la línea se extenderá hasta esta línea.\n",
    "        \n",
    "    Returns:\n",
    "        tuple: Un par de tuplas con las coordenadas de los puntos extendidos (p1_extended, p2_extended).\n",
    "    \"\"\"\n",
    "    x1, y1 = point1\n",
    "    x2, y2 = point2\n",
    "    \n",
    "    # Si los puntos son iguales, no se puede definir una dirección\n",
    "    if x1 == x2 and y1 == y2:\n",
    "        return point1, point2\n",
    "    \n",
    "    # Calcular la dirección de la línea\n",
    "    dx = x2 - x1\n",
    "    dy = y2 - y1\n",
    "    \n",
    "    # Si la línea es vertical\n",
    "    if dx == 0:\n",
    "        # Extender hasta los bordes superior e inferior\n",
    "        return (x1, 0), (x1, img_height)\n",
    "    \n",
    "    # Calcular la pendiente y el intercepto\n",
    "    m = dy / dx\n",
    "    b = y1 - m * x1\n",
    "    \n",
    "    # Puntos extendidos\n",
    "    extended_points = []\n",
    "    \n",
    "    # Si hay una línea media definida, calcular la intersección con ella\n",
    "    if midline_x is not None:\n",
    "        # Calcular el punto de intersección con la línea media\n",
    "        y_intersect = m * midline_x + b\n",
    "        \n",
    "        # Verificar si la intersección está dentro de los límites de la imagen\n",
    "        if 0 <= y_intersect <= img_height:\n",
    "            # Determinar en qué lado de la línea media está el punto original\n",
    "            if (x1 < midline_x and x2 < midline_x) or (x1 > midline_x and x2 > midline_x):\n",
    "                # Ambos puntos están en el mismo lado de la línea media\n",
    "                # Extender hasta la línea media en una dirección\n",
    "                if x1 < midline_x:\n",
    "                    extended_points.append((midline_x, int(y_intersect)))\n",
    "                else:\n",
    "                    extended_points.append((midline_x, int(y_intersect)))\n",
    "            elif (x1 < midline_x and x2 > midline_x) or (x1 > midline_x and x2 < midline_x):\n",
    "                # No es necesario extender hasta la línea media\n",
    "                pass\n",
    "    \n",
    "    # Intersecciones con los bordes de la imagen\n",
    "    \n",
    "    # Intersección con y=0 (borde superior)\n",
    "    if abs(m) > 0.0001:  # No es una línea horizontal\n",
    "        x_top = (0 - b) / m\n",
    "        if 0 <= x_top <= img_width:\n",
    "            extended_points.append((int(x_top), 0))\n",
    "    \n",
    "    # Intersección con y=img_height (borde inferior)\n",
    "    if abs(m) > 0.0001:  # No es una línea horizontal\n",
    "        x_bottom = (img_height - b) / m\n",
    "        if 0 <= x_bottom <= img_width:\n",
    "            extended_points.append((int(x_bottom), img_height))\n",
    "    \n",
    "    # Intersección con x=0 (borde izquierdo)\n",
    "    y_left = b\n",
    "    if 0 <= y_left <= img_height:\n",
    "        extended_points.append((0, int(y_left)))\n",
    "    \n",
    "    # Intersección con x=img_width (borde derecho)\n",
    "    y_right = m * img_width + b\n",
    "    if 0 <= y_right <= img_height:\n",
    "        extended_points.append((img_width, int(y_right)))\n",
    "    \n",
    "    # Si no hay suficientes puntos de intersección, usar los puntos originales\n",
    "    if len(extended_points) < 2:\n",
    "        return point1, point2\n",
    "    \n",
    "    # Ordenar los puntos extendidos según su distancia desde el punto medio entre p1 y p2\n",
    "    midpoint = ((x1 + x2) / 2, (y1 + y2) / 2)\n",
    "    \n",
    "    # Si estamos del lado izquierdo de la línea media y queremos extender hacia la línea media\n",
    "    if midline_x is not None and (x1 < midline_x and x2 < midline_x):\n",
    "        # Encontrar el punto más cercano al borde y el punto más cercano a la línea media\n",
    "        points_sorted = sorted(extended_points, key=lambda p: p[0])  # Ordenar por coordenada x\n",
    "        return points_sorted[0], points_sorted[-1]  # El primero es el más a la izquierda, el último es el más a la derecha\n",
    "    \n",
    "    # Si estamos del lado derecho de la línea media y queremos extender hacia la línea media\n",
    "    elif midline_x is not None and (x1 > midline_x and x2 > midline_x):\n",
    "        # Encontrar el punto más cercano al borde y el punto más cercano a la línea media\n",
    "        points_sorted = sorted(extended_points, key=lambda p: p[0], reverse=True)  # Ordenar por coordenada x (reverso)\n",
    "        return points_sorted[0], points_sorted[-1]  # El primero es el más a la derecha, el último es el más a la izquierda\n",
    "    \n",
    "    # En otros casos, simplemente usar las dos intersecciones más alejadas entre sí\n",
    "    else:\n",
    "        # Calcular todas las combinaciones de distancias entre puntos\n",
    "        max_dist = 0\n",
    "        p1_ext, p2_ext = extended_points[0], extended_points[1]\n",
    "        \n",
    "        for i in range(len(extended_points)):\n",
    "            for j in range(i + 1, len(extended_points)):\n",
    "                dist = math.sqrt((extended_points[i][0] - extended_points[j][0])**2 + \n",
    "                                (extended_points[i][1] - extended_points[j][1])**2)\n",
    "                if dist > max_dist:\n",
    "                    max_dist = dist\n",
    "                    p1_ext, p2_ext = extended_points[i], extended_points[j]\n",
    "        \n",
    "        return p1_ext, p2_ext\n",
    "def get_center(detection):\n",
    "    xmin, ymin, xmax, ymax = map(int, [detection['xmin'], detection['ymin'], \n",
    "                                      detection['xmax'], detection['ymax']])\n",
    "    cx = (xmin + xmax) // 2\n",
    "    cy = (ymin + ymax) // 2\n",
    "    return (cx, cy)\n",
    "def get_corners(detection, side):\n",
    "    if side == 'izq':\n",
    "        return (int(detection['xmax']), int(detection['ymax'])), (int(detection['xmin']), int(detection['ymin']))\n",
    "    elif side == 'der':\n",
    "        return (int(detection['xmin']), int(detection['ymax'])), (int(detection['xmax']), int(detection['ymin']))\n",
    "    else:   \n",
    "        raise ValueError(\"Lado no válido. Debe ser 'izq' o 'der'.\")\n",
    "def segmentar_canino_por_lado(roi_bgr, lado, model_izq, model_der):\n",
    "    \"\"\"\n",
    "    Segmenta el ROI del canino usando el modelo correspondiente (izquierdo o derecho).\n",
    "    Args:\n",
    "        roi_bgr (np.ndarray): Imagen ROI en formato BGR.\n",
    "        lado (str): 'izq' o 'der'.\n",
    "        model_izq (torch.nn.Module): Modelo para el canino izquierdo.\n",
    "        model_der (torch.nn.Module): Modelo para el canino derecho.\n",
    "    Returns:\n",
    "        np.ndarray: Máscara binaria del canino segmentado.\n",
    "    \"\"\"\n",
    "    modelo = model_izq if lado == 'izq' else model_der\n",
    "\n",
    "    img_rgb = cv2.cvtColor(roi_bgr, cv2.COLOR_BGR2RGB)\n",
    "    pil = Image.fromarray(img_rgb)\n",
    "    x = infer_transform(pil).unsqueeze(0).to(device)\n",
    "\n",
    "    with torch.no_grad():\n",
    "        logits = modelo(x)\n",
    "        probs = torch.softmax(logits, dim=1)[0]\n",
    "        canal = probs[1] if lado == 'izq' else probs[2]\n",
    "        mask = (canal.cpu().numpy() > 0.03).astype(np.uint8) * 255\n",
    "\n",
    "    h, w = roi_bgr.shape[:2]\n",
    "    return cv2.resize(mask, (w, h), interpolation=cv2.INTER_NEAREST)\n",
    "def calculate_angle(line_p1, line_p2, vertical_line_x):\n",
    "    \"\"\"\n",
    "    Calcula el ángulo entre una línea definida por dos puntos y una línea vertical.\n",
    "    \n",
    "    Args:\n",
    "        line_p1 (tuple): Primer punto de la línea.\n",
    "        line_p2 (tuple): Segundo punto de la línea.\n",
    "        vertical_line_x (int): Coordenada x de la línea vertical.\n",
    "        \n",
    "    Returns:\n",
    "        float: Ángulo en grados entre las líneas.\n",
    "    \"\"\"\n",
    "    # Verificar que los puntos no sean iguales\n",
    "    if line_p1[0] == line_p2[0] and line_p1[1] == line_p2[1]:\n",
    "        return 0  # No se puede calcular el ángulo si los puntos son iguales\n",
    "    \n",
    "    # Vector de la línea\n",
    "    vector_line = (line_p2[0] - line_p1[0], line_p2[1] - line_p1[1])\n",
    "    \n",
    "    # Vector de la línea vertical (0, 1) normalizado\n",
    "    vector_vertical = (0, 1)\n",
    "    \n",
    "    # Calcular el ángulo entre los vectores usando el producto punto\n",
    "    # Normalizar los vectores\n",
    "    magnitude_line = math.sqrt(vector_line[0]**2 + vector_line[1]**2)\n",
    "    \n",
    "    if magnitude_line == 0:\n",
    "        return 0\n",
    "    \n",
    "    unit_vector_line = (vector_line[0] / magnitude_line, vector_line[1] / magnitude_line)\n",
    "    \n",
    "    # Producto punto de los vectores unitarios\n",
    "    dot_product = unit_vector_line[0] * vector_vertical[0] + unit_vector_line[1] * vector_vertical[1]\n",
    "    \n",
    "    # Asegurarse de que el producto punto esté en el rango [-1, 1]\n",
    "    dot_product = max(-1.0, min(1.0, dot_product))\n",
    "    \n",
    "    # Calcular el ángulo en radianes y convertirlo a grados\n",
    "    angle_rad = math.acos(dot_product)\n",
    "    angle_deg = math.degrees(angle_rad)\n",
    "    \n",
    "    # Determinar la dirección del ángulo (positivo o negativo)\n",
    "    # Si el punto p2 está a la derecha de la línea vertical, el ángulo es positivo\n",
    "    # Si está a la izquierda, el ángulo es negativo\n",
    "    direction = 1 if (line_p1[0] < vertical_line_x and line_p2[0] > vertical_line_x) or \\\n",
    "                    (line_p1[0] > vertical_line_x and line_p2[0] < vertical_line_x and line_p1[1] > line_p2[1]) else -1\n",
    "    \n",
    "    # Ajustar el ángulo según el cuadrante\n",
    "    if unit_vector_line[0] < 0:\n",
    "        angle_deg = 180 - angle_deg\n",
    "    \n",
    "    # Asegurarse de que el ángulo esté entre 0 y 180 grados\n",
    "    if angle_deg > 90:\n",
    "        angle_deg = 180 - angle_deg\n",
    "        \n",
    "    return angle_deg * direction\n",
    "def process_and_draw_canine(det, orig_img, side, inc_center_x, model_izq, model_der):\n",
    "    \"\"\"\n",
    "    Procesa un canino detectado: segmenta con el modelo correspondiente,\n",
    "    calcula el eje principal y el ángulo con la línea media, y dibuja todo.\n",
    "    \n",
    "    Args:\n",
    "        det: Fila del DataFrame con la detección del canino.\n",
    "        orig_img: Imagen BGR original.\n",
    "        side: 'izq' o 'der'.\n",
    "        inc_center_x: Coordenada x de la línea media vertical.\n",
    "        model_izq: Modelo U-Net para canino izquierdo.\n",
    "        model_der: Modelo U-Net para canino derecho.\n",
    "    \n",
    "    Returns:\n",
    "        float: Ángulo del canino respecto a la línea media.\n",
    "    \"\"\"\n",
    "    coords = (int(det['xmin']), int(det['ymin']), int(det['xmax']), int(det['ymax']))\n",
    "    x1, y1, x2, y2 = coords\n",
    "    roi = orig_img[y1:y2, x1:x2]\n",
    "\n",
    "    # 1) Segmentar usando el modelo correcto\n",
    "    mask_roi = segmentar_canino_por_lado(roi, side, model_izq, model_der)\n",
    "    cv2.imwrite(f\"debug/mask_roi_{side}.png\", mask_roi)\n",
    "\n",
    "    # 2) Extraer contorno\n",
    "    cnts, _ = cv2.findContours(mask_roi, cv2.RETR_EXTERNAL, cv2.CHAIN_APPROX_SIMPLE)\n",
    "    if not cnts:\n",
    "        print(f\"No se encontró contorno para canino {side}\")\n",
    "        return None\n",
    "\n",
    "    contour = max(cnts, key=cv2.contourArea).reshape(-1, 2).astype(np.float32)\n",
    "\n",
    "    # 3) PCA sobre el contorno\n",
    "    mean, vecs, _ = cv2.PCACompute2(contour, mean=None)\n",
    "    axis = vecs[0]\n",
    "    dif = contour - mean\n",
    "    projs = dif.dot(axis.T)\n",
    "\n",
    "    p1 = list(contour[np.argmin(projs)].astype(int))\n",
    "    p2 = list(contour[np.argmax(projs)].astype(int))\n",
    "    if p1[1] > p2[1]: p1, p2 = p2, p1\n",
    "\n",
    "    # 4) Ajuste de orientación\n",
    "    if (side == \"izq\") and (p1[0] > p2[0]):\n",
    "        p1[1], p2[1] = p2[1], p1[1]\n",
    "    if (side == \"der\") and (p1[0] < p2[0]):\n",
    "        p1[1], p2[1] = p2[1], p1[1]\n",
    "\n",
    "    # 5) Convertir a coordenadas globales\n",
    "    p1g = (p1[0] + x1, p1[1] + y1)\n",
    "    p2g = (p2[0] + x1, p2[1] + y1)\n",
    "\n",
    "    # 6) Dibujar extremos\n",
    "    cv2.circle(orig_img, p1g, 4, (0, 255, 0), -1)\n",
    "    cv2.circle(orig_img, p2g, 4, (0, 255, 0), -1)\n",
    "    cv2.putText(orig_img, 'p1', (p1g[0] + 10, p1g[1] - 10), cv2.FONT_HERSHEY_SIMPLEX, 0.5, (0, 255, 0), 2)\n",
    "    cv2.putText(orig_img, 'p2', (p2g[0] + 10, p2g[1] - 10), cv2.FONT_HERSHEY_SIMPLEX, 0.5, (0, 255, 0), 2)\n",
    "\n",
    "    # 7) Extender línea hasta bordes\n",
    "    h, w = orig_img.shape[:2]\n",
    "    exp1, exp2 = extend_line_to_boundaries(p1g, p2g, w, h, inc_center_x)\n",
    "    cv2.line(orig_img, exp1, exp2, (0, 0, 255), 2)\n",
    "\n",
    "    # 8) Calcular intersección y ángulo\n",
    "    midline_top = (inc_center_x, 0)\n",
    "    midline_bottom = (inc_center_x, h)\n",
    "    intersection = calculate_line_intersection(exp1, exp2, midline_top, midline_bottom)\n",
    "\n",
    "    if intersection:\n",
    "        cv2.circle(orig_img, intersection, 6, (255, 0, 255), -1)\n",
    "        angle = calculate_angle(exp1, exp2, inc_center_x)\n",
    "        angle_text = f\"Ángulo: {abs(round(angle, 2))}°\"\n",
    "        text_x = (x1 + x2) // 2 - 50\n",
    "        text_y = y2 + 30\n",
    "\n",
    "        cv2.putText(orig_img, angle_text, (text_x, text_y), cv2.FONT_HERSHEY_SIMPLEX, 0.7, (255, 0, 255), 2)\n",
    "\n",
    "        # Dibujar arco del ángulo\n",
    "        radius = 40\n",
    "        start_angle = 90\n",
    "        end_angle = 90 + angle if angle > 0 else 90 - abs(angle)\n",
    "        cv2.ellipse(orig_img, intersection, (radius, radius), 0,\n",
    "                    min(start_angle, end_angle), max(start_angle, end_angle),\n",
    "                    (255, 0, 255), 2)\n",
    "\n",
    "        return angle\n",
    "\n",
    "    return None\n",
    "\n",
    "# =======================\n",
    "# PROCESAMIENTO POR IMAGEN\n",
    "# =======================\n",
    "imagenes = [f for f in os.listdir(input_dir) if f.lower().endswith(('.jpg', '.jpeg', '.png'))]\n",
    "\n",
    "for nombre in imagenes:\n",
    "    print(f\"\\n🔍 Procesando imagen: {nombre}\")\n",
    "    img_path = os.path.join(input_dir, nombre)\n",
    "    img = cv2.imread(img_path)\n",
    "    if img is None:\n",
    "        print(f\"No se pudo leer {nombre}\")\n",
    "        continue\n",
    "\n",
    "    orig = img.copy()\n",
    "    height, width = img.shape[:2]\n",
    "\n",
    "    # === YOLOv5 detección\n",
    "    df = model_yolo(img).pandas().xyxy[0]\n",
    "    detections_inc = df[df['name'] == 'inc']\n",
    "    detections_can = df[df['name'] == 'canine']\n",
    "\n",
    "    if len(detections_inc) == 0:\n",
    "        print(f\"No se detectó incisivo en {nombre}. Saltando imagen.\")\n",
    "        continue\n",
    "\n",
    "    # Línea media\n",
    "    inc = detections_inc.sort_values('confidence', ascending=False).iloc[0]\n",
    "    inc_center = get_center(inc)\n",
    "    cv2.line(orig, (inc_center[0], 0), (inc_center[0], height), (0, 255, 0), 2)\n",
    "    cv2.putText(orig, 'Línea media', (inc_center[0] + 10, 30), cv2.FONT_HERSHEY_SIMPLEX, 0.7, (0, 255, 0), 2)\n",
    "\n",
    "    # === Inicializar\n",
    "    angulo_derecho = None\n",
    "    angulo_izquierdo = None\n",
    "    riesgo = False\n",
    "\n",
    "    # === Procesar caninos\n",
    "    for _, det in detections_can.iterrows():\n",
    "        center = get_center(det)\n",
    "        lado = 'izq' if center[0] < inc_center[0] else 'der'\n",
    "\n",
    "        # Dibujar caja y centro\n",
    "        x1, y1, x2, y2 = map(int, [det['xmin'], det['ymin'], det['xmax'], det['ymax']])\n",
    "        color = (255, 0, 0) if lado == 'izq' else (0, 0, 255)\n",
    "        cv2.rectangle(orig, (x1, y1), (x2, y2), color, 2)\n",
    "        cv2.circle(orig, center, 5, color, -1)\n",
    "        cv2.putText(orig, f\"Canino {lado}\", (x1, y1 - 10), cv2.FONT_HERSHEY_SIMPLEX, 0.5, color, 2)\n",
    "\n",
    "        try:\n",
    "            angle = process_and_draw_canine(det, orig, lado, inc_center[0], model_izq, model_der)\n",
    "\n",
    "            if isinstance(angle, (int, float, np.float32, np.float64)):\n",
    "                if lado == 'der':\n",
    "                    angulo_derecho = float(angle)\n",
    "                else:\n",
    "                    angulo_izquierdo = float(angle)\n",
    "\n",
    "        except Exception as e:\n",
    "            print(f\"Error procesando canino {lado} en {nombre}: {e}\")\n",
    "            continue\n",
    "\n",
    "    # === Guardar imagen\n",
    "    nombre_out = os.path.splitext(nombre)[0] + '_analizada.jpg'\n",
    "    cv2.imwrite(os.path.join(output_dir, nombre_out), orig)\n",
    "\n",
    "    # === Mostrar resultados\n",
    "    if angulo_izquierdo is not None:\n",
    "        print(f\"Ángulo canino izquierdo: {abs(round(angulo_izquierdo, 2))}°\")\n",
    "        if abs(angulo_izquierdo) > 15:\n",
    "            riesgo = True\n",
    "    else:\n",
    "        print(\"No se pudo calcular el ángulo del canino izquierdo.\")\n",
    "\n",
    "    if angulo_derecho is not None:\n",
    "        print(f\"Ángulo canino derecho: {abs(round(angulo_derecho, 2))}°\")\n",
    "        if abs(angulo_derecho) > 15:\n",
    "            riesgo = True\n",
    "    else:\n",
    "        print(\"No se pudo calcular el ángulo del canino derecho.\")\n",
    "\n",
    "    if riesgo:\n",
    "        print(\"EXISTE RIESGO en uno o ambos caninos (>15°)\")\n",
    "    else:\n",
    "        print(\"NO EXISTE RIESGO\")\n"
   ]
  }
 ],
 "metadata": {
  "kernelspec": {
   "display_name": "Python 3",
   "language": "python",
   "name": "python3"
  },
  "language_info": {
   "codemirror_mode": {
    "name": "ipython",
    "version": 3
   },
   "file_extension": ".py",
   "mimetype": "text/x-python",
   "name": "python",
   "nbconvert_exporter": "python",
   "pygments_lexer": "ipython3",
   "version": "3.12.3"
  }
 },
 "nbformat": 4,
 "nbformat_minor": 5
}
